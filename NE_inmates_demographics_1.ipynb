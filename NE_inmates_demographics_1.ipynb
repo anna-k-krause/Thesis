{
 "cells": [
  {
   "cell_type": "markdown",
   "metadata": {},
   "source": [
    "## Dataset"
   ]
  },
  {
   "cell_type": "markdown",
   "metadata": {},
   "source": [
    "The data being used was from inmate databases aquired from the Nebraska Department of Corrections Public Records. https://dcs-inmatesearch.ne.gov/Corrections/COR_download.htm"
   ]
  },
  {
   "cell_type": "markdown",
   "metadata": {},
   "source": [
    "The objective is to combine the active and complete databases from the Nebraska Department of Corrections, delete unnesscary rows, and prepare the new dataset for analysis"
   ]
  },
  {
   "cell_type": "markdown",
   "metadata": {},
   "source": [
    "## 1. Load the Data"
   ]
  },
  {
   "cell_type": "markdown",
   "metadata": {},
   "source": [
    "Load the data using Pandas. "
   ]
  },
  {
   "cell_type": "markdown",
   "metadata": {},
   "source": [
    "Pandas 'ExcelFile' will load the data as a Pandas DataFrame object. "
   ]
  },
  {
   "cell_type": "code",
   "execution_count": 1,
   "metadata": {},
   "outputs": [],
   "source": [
    "import numpy as np\n",
    "import pandas as pd\n",
    "\n",
    "xls = pd.ExcelFile('inmateDB_updated.xlsx')\n",
    "df = pd.read_excel(xls, 'Record Type 1')"
   ]
  },
  {
   "cell_type": "markdown",
   "metadata": {},
   "source": [
    "## 2. Check the First Few Rows of Data"
   ]
  },
  {
   "cell_type": "markdown",
   "metadata": {},
   "source": [
    "The DataFrame's first five rows can be viewed using the .head() method"
   ]
  },
  {
   "cell_type": "code",
   "execution_count": 2,
   "metadata": {},
   "outputs": [
    {
     "data": {
      "text/html": [
       "<div>\n",
       "<style scoped>\n",
       "    .dataframe tbody tr th:only-of-type {\n",
       "        vertical-align: middle;\n",
       "    }\n",
       "\n",
       "    .dataframe tbody tr th {\n",
       "        vertical-align: top;\n",
       "    }\n",
       "\n",
       "    .dataframe thead th {\n",
       "        text-align: right;\n",
       "    }\n",
       "</style>\n",
       "<table border=\"1\" class=\"dataframe\">\n",
       "  <thead>\n",
       "    <tr style=\"text-align: right;\">\n",
       "      <th></th>\n",
       "      <th>ID NUMBER</th>\n",
       "      <th>COMMITTED LAST NAME</th>\n",
       "      <th>FIRST NAME</th>\n",
       "      <th>MIDDLE NAME</th>\n",
       "      <th>NAME EXTENSION</th>\n",
       "      <th>LEGAL LAST NAME</th>\n",
       "      <th>FIRST NAME2</th>\n",
       "      <th>MIDDLE NAME3</th>\n",
       "      <th>NAME EXTENSION4</th>\n",
       "      <th>DATE OF BIRTH</th>\n",
       "      <th>...</th>\n",
       "      <th>PAROLE ELIGIBILITY DATE</th>\n",
       "      <th>EARLIEST POSSIBLE RELEASE DATE</th>\n",
       "      <th>GOOD TIME LAW</th>\n",
       "      <th>INST RELEASE DATE</th>\n",
       "      <th>INST RELEASE TYPE</th>\n",
       "      <th>PAROLE BOARD NEXT REVIEW DATE(MONTH&amp;YEAR)</th>\n",
       "      <th>PAROLE BOARD FINAL HEARING DATE(MONTH&amp;YEAR)</th>\n",
       "      <th>PAROLE BOARD STATUS</th>\n",
       "      <th>PAROLE DATE</th>\n",
       "      <th>PAROLE DISCHARGE DESC</th>\n",
       "    </tr>\n",
       "  </thead>\n",
       "  <tbody>\n",
       "    <tr>\n",
       "      <th>0</th>\n",
       "      <td>1702</td>\n",
       "      <td>CLIFFORD</td>\n",
       "      <td>BRADLEY</td>\n",
       "      <td>NaN</td>\n",
       "      <td></td>\n",
       "      <td>NaN</td>\n",
       "      <td>NaN</td>\n",
       "      <td>NaN</td>\n",
       "      <td>NaN</td>\n",
       "      <td>NaT</td>\n",
       "      <td>...</td>\n",
       "      <td>NaN</td>\n",
       "      <td>NaN</td>\n",
       "      <td></td>\n",
       "      <td>1986-01-06</td>\n",
       "      <td>MANDATORY DISCHARGE</td>\n",
       "      <td>NaN</td>\n",
       "      <td>NaT</td>\n",
       "      <td>NaN</td>\n",
       "      <td>NaT</td>\n",
       "      <td>NaN</td>\n",
       "    </tr>\n",
       "    <tr>\n",
       "      <th>1</th>\n",
       "      <td>6145</td>\n",
       "      <td>KANE</td>\n",
       "      <td>THOMAS</td>\n",
       "      <td>NaN</td>\n",
       "      <td></td>\n",
       "      <td>NaN</td>\n",
       "      <td>NaN</td>\n",
       "      <td>NaN</td>\n",
       "      <td>NaN</td>\n",
       "      <td>1928-12-21</td>\n",
       "      <td>...</td>\n",
       "      <td>1952-06-20 00:00:00</td>\n",
       "      <td>NaN</td>\n",
       "      <td>2926</td>\n",
       "      <td>1952-08-31</td>\n",
       "      <td>ESCAPE</td>\n",
       "      <td>NaN</td>\n",
       "      <td>NaT</td>\n",
       "      <td>NaN</td>\n",
       "      <td>NaT</td>\n",
       "      <td></td>\n",
       "    </tr>\n",
       "    <tr>\n",
       "      <th>2</th>\n",
       "      <td>6452</td>\n",
       "      <td>ATKINS</td>\n",
       "      <td>LARRY</td>\n",
       "      <td>NaN</td>\n",
       "      <td></td>\n",
       "      <td>NaN</td>\n",
       "      <td>NaN</td>\n",
       "      <td>NaN</td>\n",
       "      <td>NaN</td>\n",
       "      <td>1929-07-26</td>\n",
       "      <td>...</td>\n",
       "      <td>NaN</td>\n",
       "      <td>NaN</td>\n",
       "      <td></td>\n",
       "      <td>1955-07-20</td>\n",
       "      <td>DISCRETIONARY PAROLE</td>\n",
       "      <td>NaN</td>\n",
       "      <td>NaT</td>\n",
       "      <td>PAROLED</td>\n",
       "      <td>1980-12-09</td>\n",
       "      <td>EARLY DISCHARGE BY PAROLE BRD</td>\n",
       "    </tr>\n",
       "    <tr>\n",
       "      <th>3</th>\n",
       "      <td>12444</td>\n",
       "      <td>SHANEYFELT</td>\n",
       "      <td>CHARLEY</td>\n",
       "      <td>NaN</td>\n",
       "      <td></td>\n",
       "      <td>NaN</td>\n",
       "      <td>NaN</td>\n",
       "      <td>NaN</td>\n",
       "      <td>NaN</td>\n",
       "      <td>1905-04-10</td>\n",
       "      <td>...</td>\n",
       "      <td>NaN</td>\n",
       "      <td>NaN</td>\n",
       "      <td></td>\n",
       "      <td>1987-12-24</td>\n",
       "      <td>MANDATORY DISCHARGE</td>\n",
       "      <td>NaN</td>\n",
       "      <td>NaT</td>\n",
       "      <td>NaN</td>\n",
       "      <td>NaT</td>\n",
       "      <td></td>\n",
       "    </tr>\n",
       "    <tr>\n",
       "      <th>4</th>\n",
       "      <td>15379</td>\n",
       "      <td>BEADES</td>\n",
       "      <td>JOE</td>\n",
       "      <td>NaN</td>\n",
       "      <td></td>\n",
       "      <td>NaN</td>\n",
       "      <td>NaN</td>\n",
       "      <td>NaN</td>\n",
       "      <td>NaN</td>\n",
       "      <td>1924-10-12</td>\n",
       "      <td>...</td>\n",
       "      <td>1955-05-02 00:00:00</td>\n",
       "      <td>LFE</td>\n",
       "      <td>2926</td>\n",
       "      <td>1989-07-19</td>\n",
       "      <td>DISCRETIONARY PAROLE</td>\n",
       "      <td>NaN</td>\n",
       "      <td>NaT</td>\n",
       "      <td>PAROLED</td>\n",
       "      <td>1993-01-17</td>\n",
       "      <td>EARLY DISCHARGE BY PAROLE BRD</td>\n",
       "    </tr>\n",
       "  </tbody>\n",
       "</table>\n",
       "<p>5 rows × 32 columns</p>\n",
       "</div>"
      ],
      "text/plain": [
       "   ID NUMBER COMMITTED LAST NAME FIRST NAME MIDDLE NAME NAME EXTENSION  \\\n",
       "0       1702            CLIFFORD    BRADLEY         NaN                  \n",
       "1       6145                KANE     THOMAS         NaN                  \n",
       "2       6452              ATKINS      LARRY         NaN                  \n",
       "3      12444          SHANEYFELT    CHARLEY         NaN                  \n",
       "4      15379              BEADES        JOE         NaN                  \n",
       "\n",
       "  LEGAL LAST NAME FIRST NAME2 MIDDLE NAME3 NAME EXTENSION4 DATE OF BIRTH  ...  \\\n",
       "0             NaN         NaN          NaN             NaN           NaT  ...   \n",
       "1             NaN         NaN          NaN             NaN    1928-12-21  ...   \n",
       "2             NaN         NaN          NaN             NaN    1929-07-26  ...   \n",
       "3             NaN         NaN          NaN             NaN    1905-04-10  ...   \n",
       "4             NaN         NaN          NaN             NaN    1924-10-12  ...   \n",
       "\n",
       "  PAROLE ELIGIBILITY DATE EARLIEST POSSIBLE RELEASE DATE  \\\n",
       "0                     NaN                            NaN   \n",
       "1     1952-06-20 00:00:00                            NaN   \n",
       "2                     NaN                            NaN   \n",
       "3                     NaN                            NaN   \n",
       "4     1955-05-02 00:00:00                            LFE   \n",
       "\n",
       "                    GOOD TIME LAW INST RELEASE DATE  \\\n",
       "0                                        1986-01-06   \n",
       "1  2926                                  1952-08-31   \n",
       "2                                        1955-07-20   \n",
       "3                                        1987-12-24   \n",
       "4  2926                                  1989-07-19   \n",
       "\n",
       "                INST RELEASE TYPE PAROLE BOARD NEXT REVIEW DATE(MONTH&YEAR)  \\\n",
       "0  MANDATORY DISCHARGE                                                  NaN   \n",
       "1  ESCAPE                                                               NaN   \n",
       "2  DISCRETIONARY PAROLE                                                 NaN   \n",
       "3  MANDATORY DISCHARGE                                                  NaN   \n",
       "4  DISCRETIONARY PAROLE                                                 NaN   \n",
       "\n",
       "  PAROLE BOARD FINAL HEARING DATE(MONTH&YEAR)             PAROLE BOARD STATUS  \\\n",
       "0                                         NaT                             NaN   \n",
       "1                                         NaT                             NaN   \n",
       "2                                         NaT  PAROLED                          \n",
       "3                                         NaT                             NaN   \n",
       "4                                         NaT  PAROLED                          \n",
       "\n",
       "   PAROLE DATE           PAROLE DISCHARGE DESC  \n",
       "0          NaT                             NaN  \n",
       "1          NaT                                  \n",
       "2   1980-12-09  EARLY DISCHARGE BY PAROLE BRD   \n",
       "3          NaT                                  \n",
       "4   1993-01-17  EARLY DISCHARGE BY PAROLE BRD   \n",
       "\n",
       "[5 rows x 32 columns]"
      ]
     },
     "execution_count": 2,
     "metadata": {},
     "output_type": "execute_result"
    }
   ],
   "source": [
    "df.head()"
   ]
  },
  {
   "cell_type": "markdown",
   "metadata": {},
   "source": [
    "## 3. Description of Data"
   ]
  },
  {
   "cell_type": "markdown",
   "metadata": {},
   "source": [
    "The DataFrame info() method is used to see helpful descriptions of the data, such as the column name and number of rows. The 'Non-Null Count' is the number of rows that have a value for that particular column. The 'Dtype' is the data type found within each column. An int64 is an integer, an object type is usually written text, and datetime64 is a date time value. "
   ]
  },
  {
   "cell_type": "code",
   "execution_count": 3,
   "metadata": {},
   "outputs": [
    {
     "name": "stdout",
     "output_type": "stream",
     "text": [
      "<class 'pandas.core.frame.DataFrame'>\n",
      "RangeIndex: 72954 entries, 0 to 72953\n",
      "Data columns (total 32 columns):\n",
      " #   Column                                       Non-Null Count  Dtype         \n",
      "---  ------                                       --------------  -----         \n",
      " 0   ID NUMBER                                    72954 non-null  int64         \n",
      " 1   COMMITTED LAST NAME                          72953 non-null  object        \n",
      " 2   FIRST NAME                                   72953 non-null  object        \n",
      " 3   MIDDLE NAME                                  54905 non-null  object        \n",
      " 4   NAME EXTENSION                               72954 non-null  object        \n",
      " 5   LEGAL LAST NAME                              1045 non-null   object        \n",
      " 6   FIRST NAME2                                  1045 non-null   object        \n",
      " 7   MIDDLE NAME3                                 1045 non-null   object        \n",
      " 8   NAME EXTENSION4                              1045 non-null   object        \n",
      " 9   DATE OF BIRTH                                72940 non-null  datetime64[ns]\n",
      " 10  RACE DESC                                    72954 non-null  object        \n",
      " 11  GENDER                                       72954 non-null  object        \n",
      " 12  FACILITY                                     14080 non-null  object        \n",
      " 13  CURRENT SENTENCE PARDONED OR COMMUTED DATE   72954 non-null  object        \n",
      " 14  GUN CLAUSE                                   256 non-null    object        \n",
      " 15  SENTENCE BEGIN DATE                          71475 non-null  datetime64[ns]\n",
      " 16  MIN TERM/YEAR                                72954 non-null  object        \n",
      " 17  MIN MONTH                                    72588 non-null  float64       \n",
      " 18  MIN DAY                                      72588 non-null  float64       \n",
      " 19  MAX TERM/YEAR                                72954 non-null  object        \n",
      " 20  MAX MONTH                                    72383 non-null  float64       \n",
      " 21  MAX DAY                                      72383 non-null  float64       \n",
      " 22  PAROLE ELIGIBILITY DATE                      66996 non-null  object        \n",
      " 23  EARLIEST POSSIBLE RELEASE DATE               72306 non-null  object        \n",
      " 24  GOOD TIME LAW                                72954 non-null  object        \n",
      " 25  INST RELEASE DATE                            67994 non-null  datetime64[ns]\n",
      " 26  INST RELEASE TYPE                            67994 non-null  object        \n",
      " 27  PAROLE BOARD NEXT REVIEW DATE(MONTH&YEAR)    41546 non-null  object        \n",
      " 28  PAROLE BOARD FINAL HEARING DATE(MONTH&YEAR)  1973 non-null   datetime64[ns]\n",
      " 29  PAROLE BOARD STATUS                          69868 non-null  object        \n",
      " 30  PAROLE DATE                                  25380 non-null  datetime64[ns]\n",
      " 31  PAROLE DISCHARGE DESC                        34862 non-null  object        \n",
      "dtypes: datetime64[ns](5), float64(4), int64(1), object(22)\n",
      "memory usage: 17.8+ MB\n"
     ]
    }
   ],
   "source": [
    "df.info()"
   ]
  },
  {
   "cell_type": "markdown",
   "metadata": {},
   "source": [
    "## 4. Creating a New Active Prisoner Distinction Column"
   ]
  },
  {
   "cell_type": "markdown",
   "metadata": {},
   "source": [
    "A new column will be created that will reflect if the inmates are actively incarcerated or are no longer in prison. This will be created by assigning a new column that includes inmates in both the full and active inmate databases"
   ]
  },
  {
   "cell_type": "markdown",
   "metadata": {},
   "source": [
    "### 4.1 Examining the Active Prisoner Database"
   ]
  },
  {
   "cell_type": "markdown",
   "metadata": {},
   "source": [
    "The Active prisoner database will be loaded and examined in the same manner as with the full inmate database"
   ]
  },
  {
   "cell_type": "code",
   "execution_count": 4,
   "metadata": {},
   "outputs": [],
   "source": [
    "xls = pd.ExcelFile('inmateDownloadActive.xlsx')\n",
    "df_Active = pd.read_excel(xls, 'Record Type 1')"
   ]
  },
  {
   "cell_type": "markdown",
   "metadata": {},
   "source": [
    "Some of the Active prisoner database columns are slightly different than the full database, but it contains the same basic information as the full database."
   ]
  },
  {
   "cell_type": "code",
   "execution_count": 5,
   "metadata": {},
   "outputs": [
    {
     "data": {
      "text/html": [
       "<div>\n",
       "<style scoped>\n",
       "    .dataframe tbody tr th:only-of-type {\n",
       "        vertical-align: middle;\n",
       "    }\n",
       "\n",
       "    .dataframe tbody tr th {\n",
       "        vertical-align: top;\n",
       "    }\n",
       "\n",
       "    .dataframe thead th {\n",
       "        text-align: right;\n",
       "    }\n",
       "</style>\n",
       "<table border=\"1\" class=\"dataframe\">\n",
       "  <thead>\n",
       "    <tr style=\"text-align: right;\">\n",
       "      <th></th>\n",
       "      <th>ID NUMBER</th>\n",
       "      <th>COMMITTED LAST NAME</th>\n",
       "      <th>FIRST NAME</th>\n",
       "      <th>MIDDLE NAME</th>\n",
       "      <th>NAME EXTENSION</th>\n",
       "      <th>LEGAL LAST NAME</th>\n",
       "      <th>FIRST NAME.1</th>\n",
       "      <th>MIDDLE NAME.1</th>\n",
       "      <th>NAME EXTENSION.1</th>\n",
       "      <th>DATE OF BIRTH</th>\n",
       "      <th>...</th>\n",
       "      <th>PAROLE ELIGIBILITY DATE</th>\n",
       "      <th>EARLIEST POSSIBLE RELEASE DATE</th>\n",
       "      <th>GOOD TIME LAW</th>\n",
       "      <th>INST RELEASE DATE</th>\n",
       "      <th>INST RELEASE TYPE</th>\n",
       "      <th>PAROLE BOARD NEXT REVIEW DATE(MONTH&amp;YEAR)</th>\n",
       "      <th>PAROLE BOARD FINAL HEARING DATE(MONTH&amp;YEAR)</th>\n",
       "      <th>PAROLE BOARD STATUS</th>\n",
       "      <th>Unnamed: 30</th>\n",
       "      <th>Unnamed: 31</th>\n",
       "    </tr>\n",
       "  </thead>\n",
       "  <tbody>\n",
       "    <tr>\n",
       "      <th>0</th>\n",
       "      <td>6145</td>\n",
       "      <td>KANE</td>\n",
       "      <td>THOMAS</td>\n",
       "      <td>NaN</td>\n",
       "      <td></td>\n",
       "      <td>NaN</td>\n",
       "      <td>NaN</td>\n",
       "      <td>NaN</td>\n",
       "      <td>NaN</td>\n",
       "      <td>1928-12-21</td>\n",
       "      <td>...</td>\n",
       "      <td>1952-06-20 00:00:00</td>\n",
       "      <td>NaN</td>\n",
       "      <td>2926</td>\n",
       "      <td>1952-08-31</td>\n",
       "      <td>ESCAPE</td>\n",
       "      <td>NaN</td>\n",
       "      <td>NaT</td>\n",
       "      <td>NaN</td>\n",
       "      <td>NaN</td>\n",
       "      <td></td>\n",
       "    </tr>\n",
       "    <tr>\n",
       "      <th>1</th>\n",
       "      <td>20841</td>\n",
       "      <td>ARNOLD</td>\n",
       "      <td>WILLIAM</td>\n",
       "      <td>L</td>\n",
       "      <td></td>\n",
       "      <td>NaN</td>\n",
       "      <td>NaN</td>\n",
       "      <td>NaN</td>\n",
       "      <td>NaN</td>\n",
       "      <td>1942-08-28</td>\n",
       "      <td>...</td>\n",
       "      <td>1959-06-02 00:00:00</td>\n",
       "      <td>LFE</td>\n",
       "      <td>2926</td>\n",
       "      <td>1967-07-15</td>\n",
       "      <td>ESCAPE</td>\n",
       "      <td>1959-12-01 00:00:00</td>\n",
       "      <td>NaT</td>\n",
       "      <td>INITIAL REVIEW</td>\n",
       "      <td>NaN</td>\n",
       "      <td></td>\n",
       "    </tr>\n",
       "    <tr>\n",
       "      <th>2</th>\n",
       "      <td>25324</td>\n",
       "      <td>WALKER</td>\n",
       "      <td>RICHARD</td>\n",
       "      <td>T</td>\n",
       "      <td></td>\n",
       "      <td>NaN</td>\n",
       "      <td>NaN</td>\n",
       "      <td>NaN</td>\n",
       "      <td>NaN</td>\n",
       "      <td>1946-12-24</td>\n",
       "      <td>...</td>\n",
       "      <td>1972-12-15 00:00:00</td>\n",
       "      <td>LFE</td>\n",
       "      <td>2926</td>\n",
       "      <td>2008-11-25</td>\n",
       "      <td>DISCRETIONARY PAROLE</td>\n",
       "      <td>NaN</td>\n",
       "      <td>NaT</td>\n",
       "      <td>CONTINUED ON PAROLE</td>\n",
       "      <td>NaN</td>\n",
       "      <td></td>\n",
       "    </tr>\n",
       "    <tr>\n",
       "      <th>3</th>\n",
       "      <td>25565</td>\n",
       "      <td>ALVAREZ</td>\n",
       "      <td>THOMAS</td>\n",
       "      <td>A</td>\n",
       "      <td></td>\n",
       "      <td>NaN</td>\n",
       "      <td>NaN</td>\n",
       "      <td>NaN</td>\n",
       "      <td>NaN</td>\n",
       "      <td>1947-10-24</td>\n",
       "      <td>...</td>\n",
       "      <td>NaN</td>\n",
       "      <td>NaN</td>\n",
       "      <td>2926</td>\n",
       "      <td>NaT</td>\n",
       "      <td>NaN</td>\n",
       "      <td>2023-05-01 00:00:00</td>\n",
       "      <td>NaT</td>\n",
       "      <td>DEFERRED</td>\n",
       "      <td>NaN</td>\n",
       "      <td>NaN</td>\n",
       "    </tr>\n",
       "    <tr>\n",
       "      <th>4</th>\n",
       "      <td>26103</td>\n",
       "      <td>ADAMS</td>\n",
       "      <td>BRIAN</td>\n",
       "      <td>J</td>\n",
       "      <td></td>\n",
       "      <td>NaN</td>\n",
       "      <td>NaN</td>\n",
       "      <td>NaN</td>\n",
       "      <td>NaN</td>\n",
       "      <td>1949-04-20</td>\n",
       "      <td>...</td>\n",
       "      <td>LFE</td>\n",
       "      <td>LFE</td>\n",
       "      <td>2926</td>\n",
       "      <td>NaT</td>\n",
       "      <td>NaN</td>\n",
       "      <td>2024-03-01 00:00:00</td>\n",
       "      <td>NaT</td>\n",
       "      <td>DEFERRED</td>\n",
       "      <td>NaN</td>\n",
       "      <td>NaN</td>\n",
       "    </tr>\n",
       "  </tbody>\n",
       "</table>\n",
       "<p>5 rows × 32 columns</p>\n",
       "</div>"
      ],
      "text/plain": [
       "   ID NUMBER COMMITTED LAST NAME FIRST NAME MIDDLE NAME NAME EXTENSION  \\\n",
       "0       6145                KANE     THOMAS         NaN                  \n",
       "1      20841              ARNOLD    WILLIAM           L                  \n",
       "2      25324              WALKER    RICHARD           T                  \n",
       "3      25565             ALVAREZ     THOMAS           A                  \n",
       "4      26103               ADAMS      BRIAN           J                  \n",
       "\n",
       "  LEGAL LAST NAME FIRST NAME.1 MIDDLE NAME.1 NAME EXTENSION.1 DATE OF BIRTH  \\\n",
       "0             NaN          NaN           NaN              NaN    1928-12-21   \n",
       "1             NaN          NaN           NaN              NaN    1942-08-28   \n",
       "2             NaN          NaN           NaN              NaN    1946-12-24   \n",
       "3             NaN          NaN           NaN              NaN    1947-10-24   \n",
       "4             NaN          NaN           NaN              NaN    1949-04-20   \n",
       "\n",
       "   ... PAROLE ELIGIBILITY DATE EARLIEST POSSIBLE RELEASE DATE  \\\n",
       "0  ...     1952-06-20 00:00:00                            NaN   \n",
       "1  ...     1959-06-02 00:00:00                            LFE   \n",
       "2  ...     1972-12-15 00:00:00                            LFE   \n",
       "3  ...                     NaN                            NaN   \n",
       "4  ...                     LFE                            LFE   \n",
       "\n",
       "                    GOOD TIME LAW INST RELEASE DATE  \\\n",
       "0  2926                                  1952-08-31   \n",
       "1  2926                                  1967-07-15   \n",
       "2  2926                                  2008-11-25   \n",
       "3  2926                                         NaT   \n",
       "4  2926                                         NaT   \n",
       "\n",
       "                INST RELEASE TYPE PAROLE BOARD NEXT REVIEW DATE(MONTH&YEAR)  \\\n",
       "0  ESCAPE                                                               NaN   \n",
       "1  ESCAPE                                               1959-12-01 00:00:00   \n",
       "2  DISCRETIONARY PAROLE                                                 NaN   \n",
       "3                             NaN                       2023-05-01 00:00:00   \n",
       "4                             NaN                       2024-03-01 00:00:00   \n",
       "\n",
       "  PAROLE BOARD FINAL HEARING DATE(MONTH&YEAR)             PAROLE BOARD STATUS  \\\n",
       "0                                         NaT                             NaN   \n",
       "1                                         NaT  INITIAL REVIEW                   \n",
       "2                                         NaT  CONTINUED ON PAROLE              \n",
       "3                                         NaT  DEFERRED                         \n",
       "4                                         NaT  DEFERRED                         \n",
       "\n",
       "   Unnamed: 30                     Unnamed: 31  \n",
       "0          NaN                                  \n",
       "1          NaN                                  \n",
       "2          NaN                                  \n",
       "3          NaN                             NaN  \n",
       "4          NaN                             NaN  \n",
       "\n",
       "[5 rows x 32 columns]"
      ]
     },
     "execution_count": 5,
     "metadata": {},
     "output_type": "execute_result"
    }
   ],
   "source": [
    "df_Active.head()"
   ]
  },
  {
   "cell_type": "code",
   "execution_count": 6,
   "metadata": {},
   "outputs": [
    {
     "name": "stdout",
     "output_type": "stream",
     "text": [
      "<class 'pandas.core.frame.DataFrame'>\n",
      "RangeIndex: 7453 entries, 0 to 7452\n",
      "Data columns (total 32 columns):\n",
      " #   Column                                       Non-Null Count  Dtype         \n",
      "---  ------                                       --------------  -----         \n",
      " 0   ID NUMBER                                    7453 non-null   int64         \n",
      " 1   COMMITTED LAST NAME                          7453 non-null   object        \n",
      " 2   FIRST NAME                                   7453 non-null   object        \n",
      " 3   MIDDLE NAME                                  5464 non-null   object        \n",
      " 4   NAME EXTENSION                               7453 non-null   object        \n",
      " 5   LEGAL LAST NAME                              102 non-null    object        \n",
      " 6   FIRST NAME.1                                 102 non-null    object        \n",
      " 7   MIDDLE NAME.1                                102 non-null    object        \n",
      " 8   NAME EXTENSION.1                             102 non-null    object        \n",
      " 9   DATE OF BIRTH                                7453 non-null   datetime64[ns]\n",
      " 10  RACE DESC                                    7453 non-null   object        \n",
      " 11  GENDER                                       7453 non-null   object        \n",
      " 12  FACILITY                                     7401 non-null   object        \n",
      " 13  CURRENT SENTENCE PARDONED OR COMMUTED DATE   7453 non-null   object        \n",
      " 14  GUN CLAUSE                                   0 non-null      float64       \n",
      " 15  SENTENCE BEGIN DATE                          7450 non-null   datetime64[ns]\n",
      " 16  MIN TERM/YEAR                                7453 non-null   object        \n",
      " 17  MIN MONTH                                    7176 non-null   float64       \n",
      " 18  MIN DAY                                      7176 non-null   float64       \n",
      " 19  MAX TERM/YEAR                                7453 non-null   object        \n",
      " 20  MAX MONTH                                    7041 non-null   float64       \n",
      " 21  MAX DAY                                      7041 non-null   float64       \n",
      " 22  PAROLE ELIGIBILITY DATE                      5444 non-null   object        \n",
      " 23  EARLIEST POSSIBLE RELEASE DATE               7047 non-null   object        \n",
      " 24  GOOD TIME LAW                                7453 non-null   object        \n",
      " 25  INST RELEASE DATE                            2594 non-null   datetime64[ns]\n",
      " 26  INST RELEASE TYPE                            2594 non-null   object        \n",
      " 27  PAROLE BOARD NEXT REVIEW DATE(MONTH&YEAR)    4920 non-null   object        \n",
      " 28  PAROLE BOARD FINAL HEARING DATE(MONTH&YEAR)  1339 non-null   datetime64[ns]\n",
      " 29  PAROLE BOARD STATUS                          7449 non-null   object        \n",
      " 30  Unnamed: 30                                  0 non-null      float64       \n",
      " 31  Unnamed: 31                                  1545 non-null   object        \n",
      "dtypes: datetime64[ns](4), float64(6), int64(1), object(21)\n",
      "memory usage: 1.8+ MB\n"
     ]
    }
   ],
   "source": [
    "df_Active.info()"
   ]
  },
  {
   "cell_type": "markdown",
   "metadata": {},
   "source": [
    "### 4.2 Assigning a new 'Active' Inmate Column"
   ]
  },
  {
   "cell_type": "markdown",
   "metadata": {},
   "source": [
    "The pandas DataFrame assign() method returns a new column, 'ACTIVE', that reflects if a prisoner is Active or no longer incarcerated. It uses the DataFrame .isin method to check if the full database's inmates' ID NUMBER is in the Active inmate database. The DataFrame .astype method changes the column to the integer datatype. A new dataframe called 'df1' was also created to store this all the previous columns as well as the new Active Column."
   ]
  },
  {
   "cell_type": "code",
   "execution_count": 7,
   "metadata": {},
   "outputs": [],
   "source": [
    "df1 = df.assign(ACTIVE=df['ID NUMBER']\n",
    "                .isin(df_Active['ID NUMBER'])\n",
    "                .astype(int))"
   ]
  },
  {
   "cell_type": "markdown",
   "metadata": {},
   "source": [
    "The new column 'ACTIVE' is seen at the as last column. If a row has a 1, that means the prisoner is active, and a 0 means they are no longer incarcerated. "
   ]
  },
  {
   "cell_type": "code",
   "execution_count": 8,
   "metadata": {},
   "outputs": [
    {
     "data": {
      "text/html": [
       "<div>\n",
       "<style scoped>\n",
       "    .dataframe tbody tr th:only-of-type {\n",
       "        vertical-align: middle;\n",
       "    }\n",
       "\n",
       "    .dataframe tbody tr th {\n",
       "        vertical-align: top;\n",
       "    }\n",
       "\n",
       "    .dataframe thead th {\n",
       "        text-align: right;\n",
       "    }\n",
       "</style>\n",
       "<table border=\"1\" class=\"dataframe\">\n",
       "  <thead>\n",
       "    <tr style=\"text-align: right;\">\n",
       "      <th></th>\n",
       "      <th>ID NUMBER</th>\n",
       "      <th>COMMITTED LAST NAME</th>\n",
       "      <th>FIRST NAME</th>\n",
       "      <th>MIDDLE NAME</th>\n",
       "      <th>NAME EXTENSION</th>\n",
       "      <th>LEGAL LAST NAME</th>\n",
       "      <th>FIRST NAME2</th>\n",
       "      <th>MIDDLE NAME3</th>\n",
       "      <th>NAME EXTENSION4</th>\n",
       "      <th>DATE OF BIRTH</th>\n",
       "      <th>...</th>\n",
       "      <th>EARLIEST POSSIBLE RELEASE DATE</th>\n",
       "      <th>GOOD TIME LAW</th>\n",
       "      <th>INST RELEASE DATE</th>\n",
       "      <th>INST RELEASE TYPE</th>\n",
       "      <th>PAROLE BOARD NEXT REVIEW DATE(MONTH&amp;YEAR)</th>\n",
       "      <th>PAROLE BOARD FINAL HEARING DATE(MONTH&amp;YEAR)</th>\n",
       "      <th>PAROLE BOARD STATUS</th>\n",
       "      <th>PAROLE DATE</th>\n",
       "      <th>PAROLE DISCHARGE DESC</th>\n",
       "      <th>ACTIVE</th>\n",
       "    </tr>\n",
       "  </thead>\n",
       "  <tbody>\n",
       "    <tr>\n",
       "      <th>0</th>\n",
       "      <td>1702</td>\n",
       "      <td>CLIFFORD</td>\n",
       "      <td>BRADLEY</td>\n",
       "      <td>NaN</td>\n",
       "      <td></td>\n",
       "      <td>NaN</td>\n",
       "      <td>NaN</td>\n",
       "      <td>NaN</td>\n",
       "      <td>NaN</td>\n",
       "      <td>NaT</td>\n",
       "      <td>...</td>\n",
       "      <td>NaN</td>\n",
       "      <td></td>\n",
       "      <td>1986-01-06</td>\n",
       "      <td>MANDATORY DISCHARGE</td>\n",
       "      <td>NaN</td>\n",
       "      <td>NaT</td>\n",
       "      <td>NaN</td>\n",
       "      <td>NaT</td>\n",
       "      <td>NaN</td>\n",
       "      <td>0</td>\n",
       "    </tr>\n",
       "    <tr>\n",
       "      <th>1</th>\n",
       "      <td>6145</td>\n",
       "      <td>KANE</td>\n",
       "      <td>THOMAS</td>\n",
       "      <td>NaN</td>\n",
       "      <td></td>\n",
       "      <td>NaN</td>\n",
       "      <td>NaN</td>\n",
       "      <td>NaN</td>\n",
       "      <td>NaN</td>\n",
       "      <td>1928-12-21</td>\n",
       "      <td>...</td>\n",
       "      <td>NaN</td>\n",
       "      <td>2926</td>\n",
       "      <td>1952-08-31</td>\n",
       "      <td>ESCAPE</td>\n",
       "      <td>NaN</td>\n",
       "      <td>NaT</td>\n",
       "      <td>NaN</td>\n",
       "      <td>NaT</td>\n",
       "      <td></td>\n",
       "      <td>1</td>\n",
       "    </tr>\n",
       "    <tr>\n",
       "      <th>2</th>\n",
       "      <td>6452</td>\n",
       "      <td>ATKINS</td>\n",
       "      <td>LARRY</td>\n",
       "      <td>NaN</td>\n",
       "      <td></td>\n",
       "      <td>NaN</td>\n",
       "      <td>NaN</td>\n",
       "      <td>NaN</td>\n",
       "      <td>NaN</td>\n",
       "      <td>1929-07-26</td>\n",
       "      <td>...</td>\n",
       "      <td>NaN</td>\n",
       "      <td></td>\n",
       "      <td>1955-07-20</td>\n",
       "      <td>DISCRETIONARY PAROLE</td>\n",
       "      <td>NaN</td>\n",
       "      <td>NaT</td>\n",
       "      <td>PAROLED</td>\n",
       "      <td>1980-12-09</td>\n",
       "      <td>EARLY DISCHARGE BY PAROLE BRD</td>\n",
       "      <td>0</td>\n",
       "    </tr>\n",
       "    <tr>\n",
       "      <th>3</th>\n",
       "      <td>12444</td>\n",
       "      <td>SHANEYFELT</td>\n",
       "      <td>CHARLEY</td>\n",
       "      <td>NaN</td>\n",
       "      <td></td>\n",
       "      <td>NaN</td>\n",
       "      <td>NaN</td>\n",
       "      <td>NaN</td>\n",
       "      <td>NaN</td>\n",
       "      <td>1905-04-10</td>\n",
       "      <td>...</td>\n",
       "      <td>NaN</td>\n",
       "      <td></td>\n",
       "      <td>1987-12-24</td>\n",
       "      <td>MANDATORY DISCHARGE</td>\n",
       "      <td>NaN</td>\n",
       "      <td>NaT</td>\n",
       "      <td>NaN</td>\n",
       "      <td>NaT</td>\n",
       "      <td></td>\n",
       "      <td>0</td>\n",
       "    </tr>\n",
       "    <tr>\n",
       "      <th>4</th>\n",
       "      <td>15379</td>\n",
       "      <td>BEADES</td>\n",
       "      <td>JOE</td>\n",
       "      <td>NaN</td>\n",
       "      <td></td>\n",
       "      <td>NaN</td>\n",
       "      <td>NaN</td>\n",
       "      <td>NaN</td>\n",
       "      <td>NaN</td>\n",
       "      <td>1924-10-12</td>\n",
       "      <td>...</td>\n",
       "      <td>LFE</td>\n",
       "      <td>2926</td>\n",
       "      <td>1989-07-19</td>\n",
       "      <td>DISCRETIONARY PAROLE</td>\n",
       "      <td>NaN</td>\n",
       "      <td>NaT</td>\n",
       "      <td>PAROLED</td>\n",
       "      <td>1993-01-17</td>\n",
       "      <td>EARLY DISCHARGE BY PAROLE BRD</td>\n",
       "      <td>0</td>\n",
       "    </tr>\n",
       "  </tbody>\n",
       "</table>\n",
       "<p>5 rows × 33 columns</p>\n",
       "</div>"
      ],
      "text/plain": [
       "   ID NUMBER COMMITTED LAST NAME FIRST NAME MIDDLE NAME NAME EXTENSION  \\\n",
       "0       1702            CLIFFORD    BRADLEY         NaN                  \n",
       "1       6145                KANE     THOMAS         NaN                  \n",
       "2       6452              ATKINS      LARRY         NaN                  \n",
       "3      12444          SHANEYFELT    CHARLEY         NaN                  \n",
       "4      15379              BEADES        JOE         NaN                  \n",
       "\n",
       "  LEGAL LAST NAME FIRST NAME2 MIDDLE NAME3 NAME EXTENSION4 DATE OF BIRTH  ...  \\\n",
       "0             NaN         NaN          NaN             NaN           NaT  ...   \n",
       "1             NaN         NaN          NaN             NaN    1928-12-21  ...   \n",
       "2             NaN         NaN          NaN             NaN    1929-07-26  ...   \n",
       "3             NaN         NaN          NaN             NaN    1905-04-10  ...   \n",
       "4             NaN         NaN          NaN             NaN    1924-10-12  ...   \n",
       "\n",
       "  EARLIEST POSSIBLE RELEASE DATE                   GOOD TIME LAW  \\\n",
       "0                            NaN                                   \n",
       "1                            NaN  2926                             \n",
       "2                            NaN                                   \n",
       "3                            NaN                                   \n",
       "4                            LFE  2926                             \n",
       "\n",
       "  INST RELEASE DATE               INST RELEASE TYPE  \\\n",
       "0        1986-01-06  MANDATORY DISCHARGE              \n",
       "1        1952-08-31  ESCAPE                           \n",
       "2        1955-07-20  DISCRETIONARY PAROLE             \n",
       "3        1987-12-24  MANDATORY DISCHARGE              \n",
       "4        1989-07-19  DISCRETIONARY PAROLE             \n",
       "\n",
       "  PAROLE BOARD NEXT REVIEW DATE(MONTH&YEAR)  \\\n",
       "0                                       NaN   \n",
       "1                                       NaN   \n",
       "2                                       NaN   \n",
       "3                                       NaN   \n",
       "4                                       NaN   \n",
       "\n",
       "  PAROLE BOARD FINAL HEARING DATE(MONTH&YEAR)             PAROLE BOARD STATUS  \\\n",
       "0                                         NaT                             NaN   \n",
       "1                                         NaT                             NaN   \n",
       "2                                         NaT  PAROLED                          \n",
       "3                                         NaT                             NaN   \n",
       "4                                         NaT  PAROLED                          \n",
       "\n",
       "   PAROLE DATE           PAROLE DISCHARGE DESC ACTIVE  \n",
       "0          NaT                             NaN      0  \n",
       "1          NaT                                      1  \n",
       "2   1980-12-09  EARLY DISCHARGE BY PAROLE BRD       0  \n",
       "3          NaT                                      0  \n",
       "4   1993-01-17  EARLY DISCHARGE BY PAROLE BRD       0  \n",
       "\n",
       "[5 rows x 33 columns]"
      ]
     },
     "execution_count": 8,
     "metadata": {},
     "output_type": "execute_result"
    }
   ],
   "source": [
    "df1.head()"
   ]
  },
  {
   "cell_type": "markdown",
   "metadata": {},
   "source": [
    "## 5. Initial Data Cleaning"
   ]
  },
  {
   "cell_type": "markdown",
   "metadata": {},
   "source": [
    "Datasets are almost always imperfect and this can hinder future analysis. "
   ]
  },
  {
   "cell_type": "markdown",
   "metadata": {},
   "source": [
    "### 5.1 Dropping unneeded columns "
   ]
  },
  {
   "cell_type": "markdown",
   "metadata": {},
   "source": [
    "The columns that were removed contained unnessescary personal information about the inmates or their sentences that were not of use in this research's more macro-based lense. Parole information was also referenced by the NDCS to be fairly incomplete and too difficult to research. "
   ]
  },
  {
   "cell_type": "markdown",
   "metadata": {},
   "source": [
    "Uneeded columns can be deleted using the DataFrame drop method."
   ]
  },
  {
   "cell_type": "code",
   "execution_count": 9,
   "metadata": {},
   "outputs": [],
   "source": [
    "df1 = df1.drop(['FIRST NAME',\n",
    "         'FIRST NAME',\n",
    "         'MIDDLE NAME',\n",
    "        'MIDDLE NAME',\n",
    "        'NAME EXTENSION',\n",
    "        'COMMITTED LAST NAME',\n",
    "        'LEGAL LAST NAME',\n",
    "        'NAME EXTENSION',\n",
    "        'FIRST NAME2',\n",
    "        'MIDDLE NAME3',\n",
    "        'NAME EXTENSION4',\n",
    "        'GUN CLAUSE',\n",
    "        'MIN MONTH',\n",
    "        'CURRENT SENTENCE PARDONED OR COMMUTED DATE',\n",
    "        'MIN DAY',\n",
    "        'MAX MONTH',\n",
    "        'MAX DAY',\n",
    "        'PAROLE ELIGIBILITY DATE',\n",
    "        'GOOD TIME LAW',\n",
    "        'EARLIEST POSSIBLE RELEASE DATE',\n",
    "        'INST RELEASE TYPE',\n",
    "        'PAROLE BOARD NEXT REVIEW DATE(MONTH&YEAR)',\n",
    "        'PAROLE BOARD FINAL HEARING DATE(MONTH&YEAR)',\n",
    "        'PAROLE BOARD STATUS',\n",
    "        'PAROLE DISCHARGE DESC',\n",
    "        'PAROLE DATE'],axis=1)"
   ]
  },
  {
   "cell_type": "markdown",
   "metadata": {},
   "source": [
    "The remaining rows can now be seen. "
   ]
  },
  {
   "cell_type": "code",
   "execution_count": 10,
   "metadata": {
    "scrolled": true
   },
   "outputs": [
    {
     "name": "stdout",
     "output_type": "stream",
     "text": [
      "<class 'pandas.core.frame.DataFrame'>\n",
      "RangeIndex: 72954 entries, 0 to 72953\n",
      "Data columns (total 10 columns):\n",
      " #   Column               Non-Null Count  Dtype         \n",
      "---  ------               --------------  -----         \n",
      " 0   ID NUMBER            72954 non-null  int64         \n",
      " 1   DATE OF BIRTH        72940 non-null  datetime64[ns]\n",
      " 2   RACE DESC            72954 non-null  object        \n",
      " 3   GENDER               72954 non-null  object        \n",
      " 4   FACILITY             14080 non-null  object        \n",
      " 5   SENTENCE BEGIN DATE  71475 non-null  datetime64[ns]\n",
      " 6   MIN TERM/YEAR        72954 non-null  object        \n",
      " 7   MAX TERM/YEAR        72954 non-null  object        \n",
      " 8   INST RELEASE DATE    67994 non-null  datetime64[ns]\n",
      " 9   ACTIVE               72954 non-null  int64         \n",
      "dtypes: datetime64[ns](3), int64(2), object(5)\n",
      "memory usage: 5.6+ MB\n"
     ]
    }
   ],
   "source": [
    "df1.info()"
   ]
  },
  {
   "cell_type": "code",
   "execution_count": 11,
   "metadata": {},
   "outputs": [
    {
     "data": {
      "text/html": [
       "<div>\n",
       "<style scoped>\n",
       "    .dataframe tbody tr th:only-of-type {\n",
       "        vertical-align: middle;\n",
       "    }\n",
       "\n",
       "    .dataframe tbody tr th {\n",
       "        vertical-align: top;\n",
       "    }\n",
       "\n",
       "    .dataframe thead th {\n",
       "        text-align: right;\n",
       "    }\n",
       "</style>\n",
       "<table border=\"1\" class=\"dataframe\">\n",
       "  <thead>\n",
       "    <tr style=\"text-align: right;\">\n",
       "      <th></th>\n",
       "      <th>ID NUMBER</th>\n",
       "      <th>DATE OF BIRTH</th>\n",
       "      <th>RACE DESC</th>\n",
       "      <th>GENDER</th>\n",
       "      <th>FACILITY</th>\n",
       "      <th>SENTENCE BEGIN DATE</th>\n",
       "      <th>MIN TERM/YEAR</th>\n",
       "      <th>MAX TERM/YEAR</th>\n",
       "      <th>INST RELEASE DATE</th>\n",
       "      <th>ACTIVE</th>\n",
       "    </tr>\n",
       "  </thead>\n",
       "  <tbody>\n",
       "    <tr>\n",
       "      <th>0</th>\n",
       "      <td>1702</td>\n",
       "      <td>NaT</td>\n",
       "      <td></td>\n",
       "      <td>MALE</td>\n",
       "      <td>NaN</td>\n",
       "      <td>NaT</td>\n",
       "      <td>0</td>\n",
       "      <td>0</td>\n",
       "      <td>1986-01-06</td>\n",
       "      <td>0</td>\n",
       "    </tr>\n",
       "    <tr>\n",
       "      <th>1</th>\n",
       "      <td>6145</td>\n",
       "      <td>1928-12-21</td>\n",
       "      <td>WHITE</td>\n",
       "      <td>MALE</td>\n",
       "      <td>NEBRASKA STATE PENITENTIARY</td>\n",
       "      <td>1952-06-20</td>\n",
       "      <td>1</td>\n",
       "      <td>3</td>\n",
       "      <td>1952-08-31</td>\n",
       "      <td>1</td>\n",
       "    </tr>\n",
       "    <tr>\n",
       "      <th>2</th>\n",
       "      <td>6452</td>\n",
       "      <td>1929-07-26</td>\n",
       "      <td>WHITE</td>\n",
       "      <td>MALE</td>\n",
       "      <td>NEBRASKA STATE PENITENTIARY</td>\n",
       "      <td>1953-11-25</td>\n",
       "      <td>2</td>\n",
       "      <td>10</td>\n",
       "      <td>1955-07-20</td>\n",
       "      <td>0</td>\n",
       "    </tr>\n",
       "    <tr>\n",
       "      <th>3</th>\n",
       "      <td>12444</td>\n",
       "      <td>1905-04-10</td>\n",
       "      <td>WHITE</td>\n",
       "      <td>MALE</td>\n",
       "      <td>NaN</td>\n",
       "      <td>1935-10-15</td>\n",
       "      <td>1</td>\n",
       "      <td>9</td>\n",
       "      <td>1987-12-24</td>\n",
       "      <td>0</td>\n",
       "    </tr>\n",
       "    <tr>\n",
       "      <th>4</th>\n",
       "      <td>15379</td>\n",
       "      <td>1924-10-12</td>\n",
       "      <td>WHITE</td>\n",
       "      <td>MALE</td>\n",
       "      <td>NaN</td>\n",
       "      <td>1945-05-02</td>\n",
       "      <td>10</td>\n",
       "      <td>LFE</td>\n",
       "      <td>1989-07-19</td>\n",
       "      <td>0</td>\n",
       "    </tr>\n",
       "  </tbody>\n",
       "</table>\n",
       "</div>"
      ],
      "text/plain": [
       "   ID NUMBER DATE OF BIRTH                       RACE DESC GENDER  \\\n",
       "0       1702           NaT                                   MALE   \n",
       "1       6145    1928-12-21  WHITE                            MALE   \n",
       "2       6452    1929-07-26  WHITE                            MALE   \n",
       "3      12444    1905-04-10  WHITE                            MALE   \n",
       "4      15379    1924-10-12  WHITE                            MALE   \n",
       "\n",
       "                         FACILITY SENTENCE BEGIN DATE MIN TERM/YEAR  \\\n",
       "0                             NaN                 NaT             0   \n",
       "1  NEBRASKA STATE PENITENTIARY             1952-06-20             1   \n",
       "2  NEBRASKA STATE PENITENTIARY             1953-11-25             2   \n",
       "3                             NaN          1935-10-15             1   \n",
       "4                             NaN          1945-05-02            10   \n",
       "\n",
       "  MAX TERM/YEAR INST RELEASE DATE  ACTIVE  \n",
       "0             0        1986-01-06       0  \n",
       "1             3        1952-08-31       1  \n",
       "2            10        1955-07-20       0  \n",
       "3             9        1987-12-24       0  \n",
       "4           LFE        1989-07-19       0  "
      ]
     },
     "execution_count": 11,
     "metadata": {},
     "output_type": "execute_result"
    }
   ],
   "source": [
    "df1.head()"
   ]
  },
  {
   "cell_type": "markdown",
   "metadata": {},
   "source": [
    "### 5.2 Dropping All \"NA\" Missing Features"
   ]
  },
  {
   "cell_type": "markdown",
   "metadata": {},
   "source": [
    "We can check if any columns have missing data values and count them by using the isnull() method and sum() method. "
   ]
  },
  {
   "cell_type": "code",
   "execution_count": 12,
   "metadata": {},
   "outputs": [
    {
     "data": {
      "text/plain": [
       "1479"
      ]
     },
     "execution_count": 12,
     "metadata": {},
     "output_type": "execute_result"
    }
   ],
   "source": [
    "df1['SENTENCE BEGIN DATE'].isnull().sum()"
   ]
  },
  {
   "cell_type": "markdown",
   "metadata": {},
   "source": [
    "Missing data values or (NA) is removed from the data in certain columns. The DataFrame dropna() method can be used to do this. "
   ]
  },
  {
   "cell_type": "markdown",
   "metadata": {},
   "source": [
    "We drop all inmates who have an unknown sentence begin date."
   ]
  },
  {
   "cell_type": "code",
   "execution_count": 13,
   "metadata": {},
   "outputs": [],
   "source": [
    "df1 = df1.dropna(axis=0, how=\"any\", subset=['SENTENCE BEGIN DATE'])"
   ]
  },
  {
   "cell_type": "markdown",
   "metadata": {},
   "source": [
    "We can check to see if this function worked."
   ]
  },
  {
   "cell_type": "code",
   "execution_count": 14,
   "metadata": {},
   "outputs": [
    {
     "data": {
      "text/plain": [
       "0"
      ]
     },
     "execution_count": 14,
     "metadata": {},
     "output_type": "execute_result"
    }
   ],
   "source": [
    "df1['SENTENCE BEGIN DATE'].isnull().sum()"
   ]
  },
  {
   "cell_type": "markdown",
   "metadata": {},
   "source": [
    "We drop all inmates who have an unknown date of birth."
   ]
  },
  {
   "cell_type": "code",
   "execution_count": 15,
   "metadata": {},
   "outputs": [
    {
     "data": {
      "text/plain": [
       "6"
      ]
     },
     "execution_count": 15,
     "metadata": {},
     "output_type": "execute_result"
    }
   ],
   "source": [
    "df1['DATE OF BIRTH'].isnull().sum()"
   ]
  },
  {
   "cell_type": "code",
   "execution_count": 16,
   "metadata": {},
   "outputs": [],
   "source": [
    "df1 = df1.dropna(axis=0, how=\"any\", subset=['DATE OF BIRTH'])"
   ]
  },
  {
   "cell_type": "markdown",
   "metadata": {},
   "source": [
    "### 5.3 Checking for Duplicate Rows"
   ]
  },
  {
   "cell_type": "markdown",
   "metadata": {},
   "source": [
    "Sometimes data contains duplicate rows of information that may skew future analysis. These can be found by using the DataFrame duplicated() method."
   ]
  },
  {
   "cell_type": "code",
   "execution_count": 17,
   "metadata": {},
   "outputs": [
    {
     "data": {
      "text/html": [
       "<div>\n",
       "<style scoped>\n",
       "    .dataframe tbody tr th:only-of-type {\n",
       "        vertical-align: middle;\n",
       "    }\n",
       "\n",
       "    .dataframe tbody tr th {\n",
       "        vertical-align: top;\n",
       "    }\n",
       "\n",
       "    .dataframe thead th {\n",
       "        text-align: right;\n",
       "    }\n",
       "</style>\n",
       "<table border=\"1\" class=\"dataframe\">\n",
       "  <thead>\n",
       "    <tr style=\"text-align: right;\">\n",
       "      <th></th>\n",
       "      <th>ID NUMBER</th>\n",
       "      <th>DATE OF BIRTH</th>\n",
       "      <th>RACE DESC</th>\n",
       "      <th>GENDER</th>\n",
       "      <th>FACILITY</th>\n",
       "      <th>SENTENCE BEGIN DATE</th>\n",
       "      <th>MIN TERM/YEAR</th>\n",
       "      <th>MAX TERM/YEAR</th>\n",
       "      <th>INST RELEASE DATE</th>\n",
       "      <th>ACTIVE</th>\n",
       "    </tr>\n",
       "  </thead>\n",
       "  <tbody>\n",
       "  </tbody>\n",
       "</table>\n",
       "</div>"
      ],
      "text/plain": [
       "Empty DataFrame\n",
       "Columns: [ID NUMBER, DATE OF BIRTH, RACE DESC, GENDER, FACILITY, SENTENCE BEGIN DATE, MIN TERM/YEAR, MAX TERM/YEAR, INST RELEASE DATE, ACTIVE]\n",
       "Index: []"
      ]
     },
     "execution_count": 17,
     "metadata": {},
     "output_type": "execute_result"
    }
   ],
   "source": [
    "duplicate = df1[df1.duplicated()] \n",
    "duplicate"
   ]
  },
  {
   "cell_type": "markdown",
   "metadata": {},
   "source": [
    "The duplicate rows are removed by using DataFrame drop_duplicates(). "
   ]
  },
  {
   "cell_type": "code",
   "execution_count": 18,
   "metadata": {},
   "outputs": [],
   "source": [
    "df1 = df1.drop_duplicates()"
   ]
  },
  {
   "cell_type": "markdown",
   "metadata": {},
   "source": [
    "The overall number of entries will change."
   ]
  },
  {
   "cell_type": "code",
   "execution_count": 19,
   "metadata": {},
   "outputs": [
    {
     "name": "stdout",
     "output_type": "stream",
     "text": [
      "<class 'pandas.core.frame.DataFrame'>\n",
      "Int64Index: 71469 entries, 1 to 72953\n",
      "Data columns (total 10 columns):\n",
      " #   Column               Non-Null Count  Dtype         \n",
      "---  ------               --------------  -----         \n",
      " 0   ID NUMBER            71469 non-null  int64         \n",
      " 1   DATE OF BIRTH        71469 non-null  datetime64[ns]\n",
      " 2   RACE DESC            71469 non-null  object        \n",
      " 3   GENDER               71469 non-null  object        \n",
      " 4   FACILITY             13589 non-null  object        \n",
      " 5   SENTENCE BEGIN DATE  71469 non-null  datetime64[ns]\n",
      " 6   MIN TERM/YEAR        71469 non-null  object        \n",
      " 7   MAX TERM/YEAR        71469 non-null  object        \n",
      " 8   INST RELEASE DATE    66510 non-null  datetime64[ns]\n",
      " 9   ACTIVE               71469 non-null  int64         \n",
      "dtypes: datetime64[ns](3), int64(2), object(5)\n",
      "memory usage: 6.0+ MB\n"
     ]
    }
   ],
   "source": [
    "df1.info()"
   ]
  },
  {
   "cell_type": "markdown",
   "metadata": {},
   "source": [
    "## 6. Adding in Inmate Age Columns for Further Analysis"
   ]
  },
  {
   "cell_type": "markdown",
   "metadata": {},
   "source": [
    "Some columns will be added using information from the original columns to help expand the analysis."
   ]
  },
  {
   "cell_type": "markdown",
   "metadata": {},
   "source": [
    "### 6.1 Changing Column Data Types to Datetime "
   ]
  },
  {
   "cell_type": "markdown",
   "metadata": {},
   "source": [
    "Datetime is a data type that is used for dates and times. The Pandas to_datetime method changes an object data type to a datetime format. "
   ]
  },
  {
   "cell_type": "code",
   "execution_count": 20,
   "metadata": {},
   "outputs": [],
   "source": [
    "df1['SENTENCE BEGIN DATE DT'] = pd.to_datetime(df1['SENTENCE BEGIN DATE'])\n",
    "df1['DATE OF BIRTH DT'] = pd.to_datetime(df1['DATE OF BIRTH'])"
   ]
  },
  {
   "cell_type": "markdown",
   "metadata": {},
   "source": [
    "### 6.2 Finding Age of Inmates at Time of Incarceration"
   ]
  },
  {
   "cell_type": "markdown",
   "metadata": {},
   "source": [
    "This age will be helpful to see at what age inmates were incarcerated and how that may have changed over time"
   ]
  },
  {
   "cell_type": "markdown",
   "metadata": {},
   "source": [
    "Datetime also is a Python module that can manipulate the datetime datatype. Timedelta is a function from datetime that is used to calcuate the difference between dates. The Sentence Begin Age can be found through finding the number of days between the sentence begin date and the inmate's date of birth. This number is then divided by 365 days to get their age in years. "
   ]
  },
  {
   "cell_type": "code",
   "execution_count": 21,
   "metadata": {},
   "outputs": [],
   "source": [
    "import datetime as dt \n",
    "from datetime import timedelta\n",
    "\n",
    "df1['SENTENCE BEGIN AGE DAYS'] = df1['SENTENCE BEGIN DATE DT'] - df1['DATE OF BIRTH DT']\n",
    "df1['SENTENCE BEGIN AGE'] = df1['SENTENCE BEGIN AGE DAYS'] / timedelta(days=365)"
   ]
  },
  {
   "cell_type": "markdown",
   "metadata": {},
   "source": [
    "### 6.3 Finding Current Age of Inmates"
   ]
  },
  {
   "cell_type": "markdown",
   "metadata": {},
   "source": [
    "This age will be helpful to see how old inmates are now, especially for active ones."
   ]
  },
  {
   "cell_type": "markdown",
   "metadata": {},
   "source": [
    "The 'date' is set to the current local date and time using the Pandas datetime.now() method. .strftime is the date in a string format that is given in Year/Month/Day. The Current Age can be found through finding the number of days between the current date and the inmate's date of birth. This number is then divided by 365 days to get their age in years. "
   ]
  },
  {
   "cell_type": "code",
   "execution_count": 22,
   "metadata": {},
   "outputs": [
    {
     "name": "stderr",
     "output_type": "stream",
     "text": [
      "<ipython-input-22-17aa42885836>:1: FutureWarning: The pandas.datetime class is deprecated and will be removed from pandas in a future version. Import from datetime module instead.\n",
      "  date = pd.datetime.now().strftime('%Y%m%d')\n"
     ]
    }
   ],
   "source": [
    "date = pd.datetime.now().strftime('%Y%m%d')\n",
    "date = pd.to_datetime(date,format='%Y%m%d')\n",
    "df1['CURRENT AGE DAYS'] = date - df1['DATE OF BIRTH DT']\n",
    "df1['CURRENT AGE'] = df1['CURRENT AGE DAYS'] / timedelta(days=365)"
   ]
  },
  {
   "cell_type": "markdown",
   "metadata": {},
   "source": [
    "We can drop these columns since they were just made temporarily to get the ages in years. "
   ]
  },
  {
   "cell_type": "code",
   "execution_count": 23,
   "metadata": {},
   "outputs": [],
   "source": [
    "df1 = df1.drop([\n",
    "             'CURRENT AGE DAYS',\n",
    "             'SENTENCE BEGIN AGE DAYS'],axis=1)"
   ]
  },
  {
   "cell_type": "markdown",
   "metadata": {},
   "source": [
    "### 6.4 Making a New Column for the Sentence Begin Year"
   ]
  },
  {
   "cell_type": "markdown",
   "metadata": {},
   "source": [
    "This column will be helpful to later separate inmates into different decade cohorts for analysis."
   ]
  },
  {
   "cell_type": "markdown",
   "metadata": {},
   "source": [
    "The datetime (dt) .year function can be used to find just the year portion of the full date. "
   ]
  },
  {
   "cell_type": "code",
   "execution_count": 24,
   "metadata": {},
   "outputs": [],
   "source": [
    "df1['SENTENCE BEGIN YEAR'] = df1['SENTENCE BEGIN DATE DT'].dt.year"
   ]
  },
  {
   "cell_type": "markdown",
   "metadata": {},
   "source": [
    "## 7.0 Altering Life Sentencing Values"
   ]
  },
  {
   "cell_type": "markdown",
   "metadata": {},
   "source": [
    "Some inmates recieve life sentences in their MIN TERM/YEAR or MAX TERM/YEAR, and are given the value 'LFE' instead of an integer. This object value limits evaluation on average MIN/MAX TERM of the inmates. These values are changed to numerical representations of how much life left the inmates have. "
   ]
  },
  {
   "cell_type": "markdown",
   "metadata": {},
   "source": [
    "### 7.1 Declaring Average Lifespan Values and Finding Years Between Lifespan and Inmate Sentence Begin Age"
   ]
  },
  {
   "cell_type": "markdown",
   "metadata": {},
   "source": [
    "lfeM represents the average lifespan of a male Nebraskan, and lfeF represents the average lifespan of a female Nebraskan. This values were obtained from (LINK). The columns LFE SENTENCE M and LFE SENTENCE F are created from taking the respective average lifespans subtracted by the inmates' age at the start of their incarceration. "
   ]
  },
  {
   "cell_type": "code",
   "execution_count": 25,
   "metadata": {},
   "outputs": [],
   "source": [
    "lfeM = 77.7\n",
    "lfeF = 81.89\n",
    "\n",
    "df1['LFE SENTENCE M'] = lfeM - df1['SENTENCE BEGIN AGE']\n",
    "df1['LFE SENTENCE F'] = lfeF - df1['SENTENCE BEGIN AGE']"
   ]
  },
  {
   "cell_type": "markdown",
   "metadata": {},
   "source": [
    "### 7.2 Assigning Found Values to a Life Sentence Column"
   ]
  },
  {
   "cell_type": "markdown",
   "metadata": {},
   "source": [
    "The lfe_sentence() function looks to see if the row has the a male or female inmate, and returns the corresponding LFE SENTENCE column. A new column, LFE SENTENCE MIN/MAX is created from applying the lfe_sentence() function to our data. The values in LFE SENTENCE MIN/MAX are then rounded using .round(). "
   ]
  },
  {
   "cell_type": "code",
   "execution_count": 26,
   "metadata": {},
   "outputs": [],
   "source": [
    "def lfe_sentence(df1):\n",
    "    if df1['GENDER'] == 'MALE':\n",
    "        return df1['LFE SENTENCE M']\n",
    "    else:\n",
    "        return df1['LFE SENTENCE F']\n",
    "\n",
    "df1['LFE SENTENCE MIN/MAX'] = df1.apply(lfe_sentence,axis=1)\n",
    "df1['LFE SENTENCE MIN/MAX'] = df1['LFE SENTENCE MIN/MAX'].round()"
   ]
  },
  {
   "cell_type": "markdown",
   "metadata": {},
   "source": [
    "### 7.3 Replace MIN or MAX TERM/YEAR Values with Life Sentence Age Values"
   ]
  },
  {
   "cell_type": "markdown",
   "metadata": {},
   "source": [
    "Now the original MIN or MAX TERM/YEAR value of 'LFE' is replaced with the value in LFE SENTEnCE MIN/MAX by using a numpy where method. The where method lets you find and replace values. "
   ]
  },
  {
   "cell_type": "code",
   "execution_count": 27,
   "metadata": {},
   "outputs": [],
   "source": [
    "df1['MIN TERM/YEAR'] = np.where(df1['MIN TERM/YEAR'] == 'LFE', \n",
    "                                df1['LFE SENTENCE MIN/MAX'], df1['MIN TERM/YEAR'])\n",
    "df1['MAX TERM/YEAR'] = np.where(df1['MAX TERM/YEAR'] == 'LFE', \n",
    "                                df1['LFE SENTENCE MIN/MAX'], df1['MAX TERM/YEAR'])"
   ]
  },
  {
   "cell_type": "markdown",
   "metadata": {},
   "source": [
    "### 7.4 Dropping Old Columns"
   ]
  },
  {
   "cell_type": "markdown",
   "metadata": {},
   "source": [
    "The columns used to create these life sentence replacement values can now be deleted."
   ]
  },
  {
   "cell_type": "code",
   "execution_count": 28,
   "metadata": {},
   "outputs": [],
   "source": [
    "df1=df1.drop([\n",
    "             'LFE SENTENCE M',\n",
    "             'LFE SENTENCE F',\n",
    "'LFE SENTENCE MIN/MAX'],axis=1)"
   ]
  },
  {
   "cell_type": "code",
   "execution_count": 29,
   "metadata": {},
   "outputs": [
    {
     "data": {
      "text/html": [
       "<div>\n",
       "<style scoped>\n",
       "    .dataframe tbody tr th:only-of-type {\n",
       "        vertical-align: middle;\n",
       "    }\n",
       "\n",
       "    .dataframe tbody tr th {\n",
       "        vertical-align: top;\n",
       "    }\n",
       "\n",
       "    .dataframe thead th {\n",
       "        text-align: right;\n",
       "    }\n",
       "</style>\n",
       "<table border=\"1\" class=\"dataframe\">\n",
       "  <thead>\n",
       "    <tr style=\"text-align: right;\">\n",
       "      <th></th>\n",
       "      <th>ID NUMBER</th>\n",
       "      <th>DATE OF BIRTH</th>\n",
       "      <th>RACE DESC</th>\n",
       "      <th>GENDER</th>\n",
       "      <th>FACILITY</th>\n",
       "      <th>SENTENCE BEGIN DATE</th>\n",
       "      <th>MIN TERM/YEAR</th>\n",
       "      <th>MAX TERM/YEAR</th>\n",
       "      <th>INST RELEASE DATE</th>\n",
       "      <th>ACTIVE</th>\n",
       "      <th>SENTENCE BEGIN DATE DT</th>\n",
       "      <th>DATE OF BIRTH DT</th>\n",
       "      <th>SENTENCE BEGIN AGE</th>\n",
       "      <th>CURRENT AGE</th>\n",
       "      <th>SENTENCE BEGIN YEAR</th>\n",
       "    </tr>\n",
       "  </thead>\n",
       "  <tbody>\n",
       "    <tr>\n",
       "      <th>1</th>\n",
       "      <td>6145</td>\n",
       "      <td>1928-12-21</td>\n",
       "      <td>WHITE</td>\n",
       "      <td>MALE</td>\n",
       "      <td>NEBRASKA STATE PENITENTIARY</td>\n",
       "      <td>1952-06-20</td>\n",
       "      <td>1</td>\n",
       "      <td>3</td>\n",
       "      <td>1952-08-31</td>\n",
       "      <td>1</td>\n",
       "      <td>1952-06-20</td>\n",
       "      <td>1928-12-21</td>\n",
       "      <td>23.512329</td>\n",
       "      <td>92.238356</td>\n",
       "      <td>1952</td>\n",
       "    </tr>\n",
       "    <tr>\n",
       "      <th>2</th>\n",
       "      <td>6452</td>\n",
       "      <td>1929-07-26</td>\n",
       "      <td>WHITE</td>\n",
       "      <td>MALE</td>\n",
       "      <td>NEBRASKA STATE PENITENTIARY</td>\n",
       "      <td>1953-11-25</td>\n",
       "      <td>2</td>\n",
       "      <td>10</td>\n",
       "      <td>1955-07-20</td>\n",
       "      <td>0</td>\n",
       "      <td>1953-11-25</td>\n",
       "      <td>1929-07-26</td>\n",
       "      <td>24.350685</td>\n",
       "      <td>91.643836</td>\n",
       "      <td>1953</td>\n",
       "    </tr>\n",
       "    <tr>\n",
       "      <th>3</th>\n",
       "      <td>12444</td>\n",
       "      <td>1905-04-10</td>\n",
       "      <td>WHITE</td>\n",
       "      <td>MALE</td>\n",
       "      <td>NaN</td>\n",
       "      <td>1935-10-15</td>\n",
       "      <td>1</td>\n",
       "      <td>9</td>\n",
       "      <td>1987-12-24</td>\n",
       "      <td>0</td>\n",
       "      <td>1935-10-15</td>\n",
       "      <td>1905-04-10</td>\n",
       "      <td>30.534247</td>\n",
       "      <td>115.953425</td>\n",
       "      <td>1935</td>\n",
       "    </tr>\n",
       "    <tr>\n",
       "      <th>4</th>\n",
       "      <td>15379</td>\n",
       "      <td>1924-10-12</td>\n",
       "      <td>WHITE</td>\n",
       "      <td>MALE</td>\n",
       "      <td>NaN</td>\n",
       "      <td>1945-05-02</td>\n",
       "      <td>10</td>\n",
       "      <td>57</td>\n",
       "      <td>1989-07-19</td>\n",
       "      <td>0</td>\n",
       "      <td>1945-05-02</td>\n",
       "      <td>1924-10-12</td>\n",
       "      <td>20.567123</td>\n",
       "      <td>96.432877</td>\n",
       "      <td>1945</td>\n",
       "    </tr>\n",
       "    <tr>\n",
       "      <th>6</th>\n",
       "      <td>16657</td>\n",
       "      <td>1929-01-10</td>\n",
       "      <td>WHITE</td>\n",
       "      <td>MALE</td>\n",
       "      <td>NaN</td>\n",
       "      <td>1948-12-22</td>\n",
       "      <td>58</td>\n",
       "      <td>58</td>\n",
       "      <td>2002-12-27</td>\n",
       "      <td>0</td>\n",
       "      <td>1948-12-22</td>\n",
       "      <td>1929-01-10</td>\n",
       "      <td>19.961644</td>\n",
       "      <td>92.183562</td>\n",
       "      <td>1948</td>\n",
       "    </tr>\n",
       "  </tbody>\n",
       "</table>\n",
       "</div>"
      ],
      "text/plain": [
       "   ID NUMBER DATE OF BIRTH                       RACE DESC GENDER  \\\n",
       "1       6145    1928-12-21  WHITE                            MALE   \n",
       "2       6452    1929-07-26  WHITE                            MALE   \n",
       "3      12444    1905-04-10  WHITE                            MALE   \n",
       "4      15379    1924-10-12  WHITE                            MALE   \n",
       "6      16657    1929-01-10  WHITE                            MALE   \n",
       "\n",
       "                         FACILITY SENTENCE BEGIN DATE MIN TERM/YEAR  \\\n",
       "1  NEBRASKA STATE PENITENTIARY             1952-06-20             1   \n",
       "2  NEBRASKA STATE PENITENTIARY             1953-11-25             2   \n",
       "3                             NaN          1935-10-15             1   \n",
       "4                             NaN          1945-05-02            10   \n",
       "6                             NaN          1948-12-22            58   \n",
       "\n",
       "  MAX TERM/YEAR INST RELEASE DATE  ACTIVE SENTENCE BEGIN DATE DT  \\\n",
       "1             3        1952-08-31       1             1952-06-20   \n",
       "2            10        1955-07-20       0             1953-11-25   \n",
       "3             9        1987-12-24       0             1935-10-15   \n",
       "4            57        1989-07-19       0             1945-05-02   \n",
       "6            58        2002-12-27       0             1948-12-22   \n",
       "\n",
       "  DATE OF BIRTH DT  SENTENCE BEGIN AGE  CURRENT AGE  SENTENCE BEGIN YEAR  \n",
       "1       1928-12-21           23.512329    92.238356                 1952  \n",
       "2       1929-07-26           24.350685    91.643836                 1953  \n",
       "3       1905-04-10           30.534247   115.953425                 1935  \n",
       "4       1924-10-12           20.567123    96.432877                 1945  \n",
       "6       1929-01-10           19.961644    92.183562                 1948  "
      ]
     },
     "execution_count": 29,
     "metadata": {},
     "output_type": "execute_result"
    }
   ],
   "source": [
    "df1.head()"
   ]
  },
  {
   "cell_type": "markdown",
   "metadata": {},
   "source": [
    "## 8.0 Deleting Death and Independent Values "
   ]
  },
  {
   "cell_type": "markdown",
   "metadata": {},
   "source": [
    "Very few of the MIN or MAX TERM/YEAR values are labelled with DTH or IND. These stand for Death and Independent sentences, and only hinder analysis on average sentencing. They are removed to simplify the data, as they account for fewer than 30 inmates. These few inmates act as major outliers compared to the rest of the database."
   ]
  },
  {
   "cell_type": "markdown",
   "metadata": {},
   "source": [
    "### 8.1 Checking to See if IND or DTH Values Exist "
   ]
  },
  {
   "cell_type": "markdown",
   "metadata": {},
   "source": [
    "The DataFrame method str.contains() finds if the given value is in the DataFrame being analyzed. .any() returns a true or false statement if the given value is found in the DataFrame. "
   ]
  },
  {
   "cell_type": "code",
   "execution_count": 30,
   "metadata": {},
   "outputs": [
    {
     "data": {
      "text/plain": [
       "True"
      ]
     },
     "execution_count": 30,
     "metadata": {},
     "output_type": "execute_result"
    }
   ],
   "source": [
    "df1['MAX TERM/YEAR'].str.contains('IND').any()"
   ]
  },
  {
   "cell_type": "code",
   "execution_count": 31,
   "metadata": {},
   "outputs": [
    {
     "data": {
      "text/plain": [
       "True"
      ]
     },
     "execution_count": 31,
     "metadata": {},
     "output_type": "execute_result"
    }
   ],
   "source": [
    "df1['MAX TERM/YEAR'].str.contains('DTH').any()"
   ]
  },
  {
   "cell_type": "markdown",
   "metadata": {},
   "source": [
    "### 8.2 Drop rows where values equal IND or DTH"
   ]
  },
  {
   "cell_type": "markdown",
   "metadata": {},
   "source": [
    "The drop() method is used again to delete any columns where the MIN or MAX TERM/YEAR value is equal to DTH or IND."
   ]
  },
  {
   "cell_type": "code",
   "execution_count": 32,
   "metadata": {},
   "outputs": [],
   "source": [
    "df1.drop(df1.loc[df['MIN TERM/YEAR']=='DTH'].index, inplace=True)\n",
    "df1.drop(df1.loc[df['MIN TERM/YEAR']=='IND'].index, inplace=True)\n",
    "\n",
    "df1.drop(df1.loc[df['MAX TERM/YEAR']=='DTH'].index, inplace=True)\n",
    "df1.drop(df1.loc[df['MAX TERM/YEAR']=='IND'].index, inplace=True)"
   ]
  },
  {
   "cell_type": "markdown",
   "metadata": {},
   "source": [
    "### 8.3 Check Work"
   ]
  },
  {
   "cell_type": "code",
   "execution_count": 33,
   "metadata": {},
   "outputs": [
    {
     "data": {
      "text/plain": [
       "False"
      ]
     },
     "execution_count": 33,
     "metadata": {},
     "output_type": "execute_result"
    }
   ],
   "source": [
    "df1['MAX TERM/YEAR'].str.contains('IND').any()"
   ]
  },
  {
   "cell_type": "code",
   "execution_count": 34,
   "metadata": {},
   "outputs": [
    {
     "data": {
      "text/plain": [
       "False"
      ]
     },
     "execution_count": 34,
     "metadata": {},
     "output_type": "execute_result"
    }
   ],
   "source": [
    "df1['MAX TERM/YEAR'].str.contains('DTH').any()"
   ]
  },
  {
   "cell_type": "markdown",
   "metadata": {},
   "source": [
    "### 8.4 Changing the MIN and MAX TERM/YEAR to numeric values"
   ]
  },
  {
   "cell_type": "markdown",
   "metadata": {},
   "source": [
    "The pandas method to_numeric() is used to change the MIN and MAX TERM/YEAR string values into float values (integers with decimal points). This will make finding future inmate sentencing averages easier. "
   ]
  },
  {
   "cell_type": "code",
   "execution_count": 35,
   "metadata": {},
   "outputs": [],
   "source": [
    "df1['MIN TERM/YEAR'] = pd.to_numeric(df1['MIN TERM/YEAR'])\n",
    "df1['MAX TERM/YEAR'] = pd.to_numeric(df1['MAX TERM/YEAR'])"
   ]
  },
  {
   "cell_type": "markdown",
   "metadata": {},
   "source": [
    "Now the value type change can be seen. "
   ]
  },
  {
   "cell_type": "code",
   "execution_count": 36,
   "metadata": {},
   "outputs": [
    {
     "name": "stdout",
     "output_type": "stream",
     "text": [
      "<class 'pandas.core.frame.DataFrame'>\n",
      "Int64Index: 71440 entries, 1 to 72953\n",
      "Data columns (total 15 columns):\n",
      " #   Column                  Non-Null Count  Dtype         \n",
      "---  ------                  --------------  -----         \n",
      " 0   ID NUMBER               71440 non-null  int64         \n",
      " 1   DATE OF BIRTH           71440 non-null  datetime64[ns]\n",
      " 2   RACE DESC               71440 non-null  object        \n",
      " 3   GENDER                  71440 non-null  object        \n",
      " 4   FACILITY                13570 non-null  object        \n",
      " 5   SENTENCE BEGIN DATE     71440 non-null  datetime64[ns]\n",
      " 6   MIN TERM/YEAR           71440 non-null  float64       \n",
      " 7   MAX TERM/YEAR           71440 non-null  float64       \n",
      " 8   INST RELEASE DATE       66493 non-null  datetime64[ns]\n",
      " 9   ACTIVE                  71440 non-null  int64         \n",
      " 10  SENTENCE BEGIN DATE DT  71440 non-null  datetime64[ns]\n",
      " 11  DATE OF BIRTH DT        71440 non-null  datetime64[ns]\n",
      " 12  SENTENCE BEGIN AGE      71440 non-null  float64       \n",
      " 13  CURRENT AGE             71440 non-null  float64       \n",
      " 14  SENTENCE BEGIN YEAR     71440 non-null  int64         \n",
      "dtypes: datetime64[ns](5), float64(4), int64(3), object(3)\n",
      "memory usage: 11.2+ MB\n"
     ]
    }
   ],
   "source": [
    "df1.info()"
   ]
  },
  {
   "cell_type": "markdown",
   "metadata": {},
   "source": [
    "## 9.0 Reducing the Database to only contain inmates incarcerated after 1979."
   ]
  },
  {
   "cell_type": "markdown",
   "metadata": {},
   "source": [
    "When looking at broad trends over the studied period, this is the range that needs to be researched. All previous incarcerations are outlier data that had incomplete digital documentation."
   ]
  },
  {
   "cell_type": "markdown",
   "metadata": {},
   "source": [
    "The DataFrame can be altered to only keep rows where inmates were incarcerated after 1979."
   ]
  },
  {
   "cell_type": "code",
   "execution_count": 37,
   "metadata": {},
   "outputs": [],
   "source": [
    "df1 = df1[df1['SENTENCE BEGIN YEAR'] > 1979]"
   ]
  },
  {
   "cell_type": "markdown",
   "metadata": {},
   "source": [
    "The DataFrame lost around 2857 rows of inmates."
   ]
  },
  {
   "cell_type": "code",
   "execution_count": 38,
   "metadata": {},
   "outputs": [
    {
     "name": "stdout",
     "output_type": "stream",
     "text": [
      "<class 'pandas.core.frame.DataFrame'>\n",
      "Int64Index: 68583 entries, 142 to 72953\n",
      "Data columns (total 15 columns):\n",
      " #   Column                  Non-Null Count  Dtype         \n",
      "---  ------                  --------------  -----         \n",
      " 0   ID NUMBER               68583 non-null  int64         \n",
      " 1   DATE OF BIRTH           68583 non-null  datetime64[ns]\n",
      " 2   RACE DESC               68583 non-null  object        \n",
      " 3   GENDER                  68583 non-null  object        \n",
      " 4   FACILITY                11586 non-null  object        \n",
      " 5   SENTENCE BEGIN DATE     68583 non-null  datetime64[ns]\n",
      " 6   MIN TERM/YEAR           68583 non-null  float64       \n",
      " 7   MAX TERM/YEAR           68583 non-null  float64       \n",
      " 8   INST RELEASE DATE       63663 non-null  datetime64[ns]\n",
      " 9   ACTIVE                  68583 non-null  int64         \n",
      " 10  SENTENCE BEGIN DATE DT  68583 non-null  datetime64[ns]\n",
      " 11  DATE OF BIRTH DT        68583 non-null  datetime64[ns]\n",
      " 12  SENTENCE BEGIN AGE      68583 non-null  float64       \n",
      " 13  CURRENT AGE             68583 non-null  float64       \n",
      " 14  SENTENCE BEGIN YEAR     68583 non-null  int64         \n",
      "dtypes: datetime64[ns](5), float64(4), int64(3), object(3)\n",
      "memory usage: 8.4+ MB\n"
     ]
    }
   ],
   "source": [
    "df1.info()"
   ]
  },
  {
   "cell_type": "markdown",
   "metadata": {},
   "source": [
    "## 10.0 Converting DataFrame to CSV for Future Use"
   ]
  },
  {
   "cell_type": "markdown",
   "metadata": {},
   "source": [
    "The DataFrame method to_csv converts a DataFrame to a CSV file for easier storage and sharing. "
   ]
  },
  {
   "cell_type": "code",
   "execution_count": 39,
   "metadata": {},
   "outputs": [],
   "source": [
    "df1.to_csv('inmate_updatedClean_demographics.csv', encoding='utf-8', index=False)"
   ]
  },
  {
   "cell_type": "code",
   "execution_count": null,
   "metadata": {},
   "outputs": [],
   "source": []
  }
 ],
 "metadata": {
  "kernelspec": {
   "display_name": "Python 3",
   "language": "python",
   "name": "python3"
  },
  "language_info": {
   "codemirror_mode": {
    "name": "ipython",
    "version": 3
   },
   "file_extension": ".py",
   "mimetype": "text/x-python",
   "name": "python",
   "nbconvert_exporter": "python",
   "pygments_lexer": "ipython3",
   "version": "3.8.5"
  }
 },
 "nbformat": 4,
 "nbformat_minor": 4
}
