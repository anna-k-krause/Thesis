{
 "cells": [
  {
   "cell_type": "markdown",
   "metadata": {},
   "source": [
    "## Updated Dataset"
   ]
  },
  {
   "cell_type": "markdown",
   "metadata": {},
   "source": [
    "The data being used was originally from inmate databases aquired from the Nebraska Department of Corrections Public Records. https://dcs-inmatesearch.ne.gov/Corrections/COR_download.htm"
   ]
  },
  {
   "cell_type": "markdown",
   "metadata": {},
   "source": [
    "The Database was modified in NE_inmates_demographics_1.ipynb. It had unnessescary rows deleted, extra rows added for analysis, and was prepared for exploration and visualization. "
   ]
  },
  {
   "cell_type": "markdown",
   "metadata": {},
   "source": [
    "## 1. Load the Data"
   ]
  },
  {
   "cell_type": "markdown",
   "metadata": {},
   "source": [
    "Load the data using Pandas. "
   ]
  },
  {
   "cell_type": "markdown",
   "metadata": {},
   "source": [
    "Pandas read_csv will load the data csv file as a Pandas DataFrame object. "
   ]
  },
  {
   "cell_type": "code",
   "execution_count": 1,
   "metadata": {},
   "outputs": [],
   "source": [
    "import pandas as pd\n",
    "import numpy as np"
   ]
  },
  {
   "cell_type": "code",
   "execution_count": 2,
   "metadata": {},
   "outputs": [],
   "source": [
    "df = pd.read_csv('inmate_updatedClean_demographics.csv')"
   ]
  },
  {
   "cell_type": "markdown",
   "metadata": {},
   "source": [
    "## 2. Check the First Few Rows of Data"
   ]
  },
  {
   "cell_type": "markdown",
   "metadata": {},
   "source": [
    "The DataFrame's first five rows can be viewed using the .head() method"
   ]
  },
  {
   "cell_type": "code",
   "execution_count": 3,
   "metadata": {},
   "outputs": [
    {
     "data": {
      "text/html": [
       "<div>\n",
       "<style scoped>\n",
       "    .dataframe tbody tr th:only-of-type {\n",
       "        vertical-align: middle;\n",
       "    }\n",
       "\n",
       "    .dataframe tbody tr th {\n",
       "        vertical-align: top;\n",
       "    }\n",
       "\n",
       "    .dataframe thead th {\n",
       "        text-align: right;\n",
       "    }\n",
       "</style>\n",
       "<table border=\"1\" class=\"dataframe\">\n",
       "  <thead>\n",
       "    <tr style=\"text-align: right;\">\n",
       "      <th></th>\n",
       "      <th>ID NUMBER</th>\n",
       "      <th>DATE OF BIRTH</th>\n",
       "      <th>RACE DESC</th>\n",
       "      <th>GENDER</th>\n",
       "      <th>FACILITY</th>\n",
       "      <th>SENTENCE BEGIN DATE</th>\n",
       "      <th>MIN TERM/YEAR</th>\n",
       "      <th>MAX TERM/YEAR</th>\n",
       "      <th>INST RELEASE DATE</th>\n",
       "      <th>ACTIVE</th>\n",
       "      <th>SENTENCE BEGIN DATE DT</th>\n",
       "      <th>DATE OF BIRTH DT</th>\n",
       "      <th>SENTENCE BEGIN AGE</th>\n",
       "      <th>CURRENT AGE</th>\n",
       "      <th>SENTENCE BEGIN YEAR</th>\n",
       "    </tr>\n",
       "  </thead>\n",
       "  <tbody>\n",
       "    <tr>\n",
       "      <th>0</th>\n",
       "      <td>27642</td>\n",
       "      <td>1955-05-18</td>\n",
       "      <td>BLACK</td>\n",
       "      <td>MALE</td>\n",
       "      <td>NaN</td>\n",
       "      <td>2015-12-01</td>\n",
       "      <td>90.0</td>\n",
       "      <td>95.0</td>\n",
       "      <td>2016-08-25</td>\n",
       "      <td>0</td>\n",
       "      <td>2015-12-01</td>\n",
       "      <td>1955-05-18</td>\n",
       "      <td>60.580822</td>\n",
       "      <td>65.816438</td>\n",
       "      <td>2015</td>\n",
       "    </tr>\n",
       "    <tr>\n",
       "      <th>1</th>\n",
       "      <td>27739</td>\n",
       "      <td>1936-04-06</td>\n",
       "      <td>WHITE</td>\n",
       "      <td>MALE</td>\n",
       "      <td>NaN</td>\n",
       "      <td>1982-11-15</td>\n",
       "      <td>5.0</td>\n",
       "      <td>11.0</td>\n",
       "      <td>1986-07-23</td>\n",
       "      <td>0</td>\n",
       "      <td>1982-11-15</td>\n",
       "      <td>1936-04-06</td>\n",
       "      <td>46.641096</td>\n",
       "      <td>84.942466</td>\n",
       "      <td>1982</td>\n",
       "    </tr>\n",
       "    <tr>\n",
       "      <th>2</th>\n",
       "      <td>28160</td>\n",
       "      <td>1953-01-22</td>\n",
       "      <td>WHITE</td>\n",
       "      <td>MALE</td>\n",
       "      <td>NaN</td>\n",
       "      <td>1981-06-09</td>\n",
       "      <td>1.0</td>\n",
       "      <td>5.0</td>\n",
       "      <td>1984-02-19</td>\n",
       "      <td>0</td>\n",
       "      <td>1981-06-09</td>\n",
       "      <td>1953-01-22</td>\n",
       "      <td>28.397260</td>\n",
       "      <td>68.134247</td>\n",
       "      <td>1981</td>\n",
       "    </tr>\n",
       "    <tr>\n",
       "      <th>3</th>\n",
       "      <td>28350</td>\n",
       "      <td>1954-03-27</td>\n",
       "      <td>WHITE</td>\n",
       "      <td>MALE</td>\n",
       "      <td>NaN</td>\n",
       "      <td>1983-05-03</td>\n",
       "      <td>13.0</td>\n",
       "      <td>20.0</td>\n",
       "      <td>1992-03-22</td>\n",
       "      <td>0</td>\n",
       "      <td>1983-05-03</td>\n",
       "      <td>1954-03-27</td>\n",
       "      <td>29.120548</td>\n",
       "      <td>66.958904</td>\n",
       "      <td>1983</td>\n",
       "    </tr>\n",
       "    <tr>\n",
       "      <th>4</th>\n",
       "      <td>28789</td>\n",
       "      <td>1938-05-28</td>\n",
       "      <td>WHITE</td>\n",
       "      <td>MALE</td>\n",
       "      <td>NaN</td>\n",
       "      <td>1987-04-03</td>\n",
       "      <td>4.0</td>\n",
       "      <td>15.0</td>\n",
       "      <td>1993-06-24</td>\n",
       "      <td>0</td>\n",
       "      <td>1987-04-03</td>\n",
       "      <td>1938-05-28</td>\n",
       "      <td>48.882192</td>\n",
       "      <td>82.800000</td>\n",
       "      <td>1987</td>\n",
       "    </tr>\n",
       "  </tbody>\n",
       "</table>\n",
       "</div>"
      ],
      "text/plain": [
       "   ID NUMBER DATE OF BIRTH                       RACE DESC GENDER FACILITY  \\\n",
       "0      27642    1955-05-18  BLACK                            MALE      NaN   \n",
       "1      27739    1936-04-06  WHITE                            MALE      NaN   \n",
       "2      28160    1953-01-22  WHITE                            MALE      NaN   \n",
       "3      28350    1954-03-27  WHITE                            MALE      NaN   \n",
       "4      28789    1938-05-28  WHITE                            MALE      NaN   \n",
       "\n",
       "  SENTENCE BEGIN DATE  MIN TERM/YEAR  MAX TERM/YEAR INST RELEASE DATE  ACTIVE  \\\n",
       "0          2015-12-01           90.0           95.0        2016-08-25       0   \n",
       "1          1982-11-15            5.0           11.0        1986-07-23       0   \n",
       "2          1981-06-09            1.0            5.0        1984-02-19       0   \n",
       "3          1983-05-03           13.0           20.0        1992-03-22       0   \n",
       "4          1987-04-03            4.0           15.0        1993-06-24       0   \n",
       "\n",
       "  SENTENCE BEGIN DATE DT DATE OF BIRTH DT  SENTENCE BEGIN AGE  CURRENT AGE  \\\n",
       "0             2015-12-01       1955-05-18           60.580822    65.816438   \n",
       "1             1982-11-15       1936-04-06           46.641096    84.942466   \n",
       "2             1981-06-09       1953-01-22           28.397260    68.134247   \n",
       "3             1983-05-03       1954-03-27           29.120548    66.958904   \n",
       "4             1987-04-03       1938-05-28           48.882192    82.800000   \n",
       "\n",
       "   SENTENCE BEGIN YEAR  \n",
       "0                 2015  \n",
       "1                 1982  \n",
       "2                 1981  \n",
       "3                 1983  \n",
       "4                 1987  "
      ]
     },
     "execution_count": 3,
     "metadata": {},
     "output_type": "execute_result"
    }
   ],
   "source": [
    "df.head()"
   ]
  },
  {
   "cell_type": "markdown",
   "metadata": {},
   "source": [
    "## 3. Description of Data"
   ]
  },
  {
   "cell_type": "markdown",
   "metadata": {},
   "source": [
    "The DataFrame info() method is used to see helpful descriptions of the data, such as the column name and number of rows. The 'Non-Null Count' is the number of rows that have a value for that particular column. The 'Dtype' is the data type found within each column. An int64 is an integer, an object type is usually written text, and datetime64 is a date time value. "
   ]
  },
  {
   "cell_type": "code",
   "execution_count": 4,
   "metadata": {},
   "outputs": [
    {
     "name": "stdout",
     "output_type": "stream",
     "text": [
      "<class 'pandas.core.frame.DataFrame'>\n",
      "RangeIndex: 68583 entries, 0 to 68582\n",
      "Data columns (total 15 columns):\n",
      " #   Column                  Non-Null Count  Dtype  \n",
      "---  ------                  --------------  -----  \n",
      " 0   ID NUMBER               68583 non-null  int64  \n",
      " 1   DATE OF BIRTH           68583 non-null  object \n",
      " 2   RACE DESC               68583 non-null  object \n",
      " 3   GENDER                  68583 non-null  object \n",
      " 4   FACILITY                11586 non-null  object \n",
      " 5   SENTENCE BEGIN DATE     68583 non-null  object \n",
      " 6   MIN TERM/YEAR           68583 non-null  float64\n",
      " 7   MAX TERM/YEAR           68583 non-null  float64\n",
      " 8   INST RELEASE DATE       63663 non-null  object \n",
      " 9   ACTIVE                  68583 non-null  int64  \n",
      " 10  SENTENCE BEGIN DATE DT  68583 non-null  object \n",
      " 11  DATE OF BIRTH DT        68583 non-null  object \n",
      " 12  SENTENCE BEGIN AGE      68583 non-null  float64\n",
      " 13  CURRENT AGE             68583 non-null  float64\n",
      " 14  SENTENCE BEGIN YEAR     68583 non-null  int64  \n",
      "dtypes: float64(4), int64(3), object(8)\n",
      "memory usage: 7.8+ MB\n"
     ]
    }
   ],
   "source": [
    "df.info()"
   ]
  },
  {
   "cell_type": "markdown",
   "metadata": {},
   "source": [
    "## 4. Creating An Active Inmate DataFrame"
   ]
  },
  {
   "cell_type": "markdown",
   "metadata": {},
   "source": [
    "A new DataFrame containing only active inmates can be created by making a new DataFrame from the same info as before but selecting only inmates marked active."
   ]
  },
  {
   "cell_type": "code",
   "execution_count": 5,
   "metadata": {},
   "outputs": [],
   "source": [
    "dfActive = df[df.ACTIVE == 1]"
   ]
  },
  {
   "cell_type": "code",
   "execution_count": 6,
   "metadata": {},
   "outputs": [
    {
     "data": {
      "text/html": [
       "<div>\n",
       "<style scoped>\n",
       "    .dataframe tbody tr th:only-of-type {\n",
       "        vertical-align: middle;\n",
       "    }\n",
       "\n",
       "    .dataframe tbody tr th {\n",
       "        vertical-align: top;\n",
       "    }\n",
       "\n",
       "    .dataframe thead th {\n",
       "        text-align: right;\n",
       "    }\n",
       "</style>\n",
       "<table border=\"1\" class=\"dataframe\">\n",
       "  <thead>\n",
       "    <tr style=\"text-align: right;\">\n",
       "      <th></th>\n",
       "      <th>ID NUMBER</th>\n",
       "      <th>DATE OF BIRTH</th>\n",
       "      <th>RACE DESC</th>\n",
       "      <th>GENDER</th>\n",
       "      <th>FACILITY</th>\n",
       "      <th>SENTENCE BEGIN DATE</th>\n",
       "      <th>MIN TERM/YEAR</th>\n",
       "      <th>MAX TERM/YEAR</th>\n",
       "      <th>INST RELEASE DATE</th>\n",
       "      <th>ACTIVE</th>\n",
       "      <th>SENTENCE BEGIN DATE DT</th>\n",
       "      <th>DATE OF BIRTH DT</th>\n",
       "      <th>SENTENCE BEGIN AGE</th>\n",
       "      <th>CURRENT AGE</th>\n",
       "      <th>SENTENCE BEGIN YEAR</th>\n",
       "    </tr>\n",
       "  </thead>\n",
       "  <tbody>\n",
       "    <tr>\n",
       "      <th>6</th>\n",
       "      <td>29333</td>\n",
       "      <td>1956-07-22</td>\n",
       "      <td>WHITE</td>\n",
       "      <td>MALE</td>\n",
       "      <td>LINCOLN CORRECTIONAL CENTER</td>\n",
       "      <td>2017-02-03</td>\n",
       "      <td>110.0</td>\n",
       "      <td>126.0</td>\n",
       "      <td>NaN</td>\n",
       "      <td>1</td>\n",
       "      <td>2017-02-03</td>\n",
       "      <td>1956-07-22</td>\n",
       "      <td>60.578082</td>\n",
       "      <td>64.635616</td>\n",
       "      <td>2017</td>\n",
       "    </tr>\n",
       "    <tr>\n",
       "      <th>15</th>\n",
       "      <td>31404</td>\n",
       "      <td>1960-09-14</td>\n",
       "      <td>WHITE</td>\n",
       "      <td>MALE</td>\n",
       "      <td>TECUMSEH STATE COR INSTITUTION</td>\n",
       "      <td>2017-01-03</td>\n",
       "      <td>83.0</td>\n",
       "      <td>132.0</td>\n",
       "      <td>NaN</td>\n",
       "      <td>1</td>\n",
       "      <td>2017-01-03</td>\n",
       "      <td>1960-09-14</td>\n",
       "      <td>56.342466</td>\n",
       "      <td>60.484932</td>\n",
       "      <td>2017</td>\n",
       "    </tr>\n",
       "    <tr>\n",
       "      <th>21</th>\n",
       "      <td>31928</td>\n",
       "      <td>1954-04-28</td>\n",
       "      <td>WHITE</td>\n",
       "      <td>MALE</td>\n",
       "      <td>TECUMSEH STATE COR INSTITUTION</td>\n",
       "      <td>2001-11-30</td>\n",
       "      <td>30.0</td>\n",
       "      <td>30.0</td>\n",
       "      <td>NaN</td>\n",
       "      <td>1</td>\n",
       "      <td>2001-11-30</td>\n",
       "      <td>1954-04-28</td>\n",
       "      <td>47.624658</td>\n",
       "      <td>66.871233</td>\n",
       "      <td>2001</td>\n",
       "    </tr>\n",
       "    <tr>\n",
       "      <th>22</th>\n",
       "      <td>31936</td>\n",
       "      <td>1951-11-29</td>\n",
       "      <td>WHITE</td>\n",
       "      <td>MALE</td>\n",
       "      <td>NEBRASKA STATE PENITENTIARY</td>\n",
       "      <td>2001-11-30</td>\n",
       "      <td>28.0</td>\n",
       "      <td>28.0</td>\n",
       "      <td>NaN</td>\n",
       "      <td>1</td>\n",
       "      <td>2001-11-30</td>\n",
       "      <td>1951-11-29</td>\n",
       "      <td>50.038356</td>\n",
       "      <td>69.284932</td>\n",
       "      <td>2001</td>\n",
       "    </tr>\n",
       "    <tr>\n",
       "      <th>23</th>\n",
       "      <td>31978</td>\n",
       "      <td>1962-07-08</td>\n",
       "      <td>BLACK</td>\n",
       "      <td>MALE</td>\n",
       "      <td>OMAHA CORRECTIONAL CENTER</td>\n",
       "      <td>2016-03-21</td>\n",
       "      <td>82.0</td>\n",
       "      <td>100.0</td>\n",
       "      <td>NaN</td>\n",
       "      <td>1</td>\n",
       "      <td>2016-03-21</td>\n",
       "      <td>1962-07-08</td>\n",
       "      <td>53.739726</td>\n",
       "      <td>58.671233</td>\n",
       "      <td>2016</td>\n",
       "    </tr>\n",
       "  </tbody>\n",
       "</table>\n",
       "</div>"
      ],
      "text/plain": [
       "    ID NUMBER DATE OF BIRTH                       RACE DESC GENDER  \\\n",
       "6       29333    1956-07-22  WHITE                            MALE   \n",
       "15      31404    1960-09-14  WHITE                            MALE   \n",
       "21      31928    1954-04-28  WHITE                            MALE   \n",
       "22      31936    1951-11-29  WHITE                            MALE   \n",
       "23      31978    1962-07-08  BLACK                            MALE   \n",
       "\n",
       "                          FACILITY SENTENCE BEGIN DATE  MIN TERM/YEAR  \\\n",
       "6   LINCOLN CORRECTIONAL CENTER             2017-02-03          110.0   \n",
       "15  TECUMSEH STATE COR INSTITUTION          2017-01-03           83.0   \n",
       "21  TECUMSEH STATE COR INSTITUTION          2001-11-30           30.0   \n",
       "22  NEBRASKA STATE PENITENTIARY             2001-11-30           28.0   \n",
       "23  OMAHA CORRECTIONAL CENTER               2016-03-21           82.0   \n",
       "\n",
       "    MAX TERM/YEAR INST RELEASE DATE  ACTIVE SENTENCE BEGIN DATE DT  \\\n",
       "6           126.0               NaN       1             2017-02-03   \n",
       "15          132.0               NaN       1             2017-01-03   \n",
       "21           30.0               NaN       1             2001-11-30   \n",
       "22           28.0               NaN       1             2001-11-30   \n",
       "23          100.0               NaN       1             2016-03-21   \n",
       "\n",
       "   DATE OF BIRTH DT  SENTENCE BEGIN AGE  CURRENT AGE  SENTENCE BEGIN YEAR  \n",
       "6        1956-07-22           60.578082    64.635616                 2017  \n",
       "15       1960-09-14           56.342466    60.484932                 2017  \n",
       "21       1954-04-28           47.624658    66.871233                 2001  \n",
       "22       1951-11-29           50.038356    69.284932                 2001  \n",
       "23       1962-07-08           53.739726    58.671233                 2016  "
      ]
     },
     "execution_count": 6,
     "metadata": {},
     "output_type": "execute_result"
    }
   ],
   "source": [
    "dfActive.head()"
   ]
  },
  {
   "cell_type": "code",
   "execution_count": 7,
   "metadata": {},
   "outputs": [
    {
     "name": "stdout",
     "output_type": "stream",
     "text": [
      "<class 'pandas.core.frame.DataFrame'>\n",
      "Int64Index: 7406 entries, 6 to 67747\n",
      "Data columns (total 15 columns):\n",
      " #   Column                  Non-Null Count  Dtype  \n",
      "---  ------                  --------------  -----  \n",
      " 0   ID NUMBER               7406 non-null   int64  \n",
      " 1   DATE OF BIRTH           7406 non-null   object \n",
      " 2   RACE DESC               7406 non-null   object \n",
      " 3   GENDER                  7406 non-null   object \n",
      " 4   FACILITY                7368 non-null   object \n",
      " 5   SENTENCE BEGIN DATE     7406 non-null   object \n",
      " 6   MIN TERM/YEAR           7406 non-null   float64\n",
      " 7   MAX TERM/YEAR           7406 non-null   float64\n",
      " 8   INST RELEASE DATE       2964 non-null   object \n",
      " 9   ACTIVE                  7406 non-null   int64  \n",
      " 10  SENTENCE BEGIN DATE DT  7406 non-null   object \n",
      " 11  DATE OF BIRTH DT        7406 non-null   object \n",
      " 12  SENTENCE BEGIN AGE      7406 non-null   float64\n",
      " 13  CURRENT AGE             7406 non-null   float64\n",
      " 14  SENTENCE BEGIN YEAR     7406 non-null   int64  \n",
      "dtypes: float64(4), int64(3), object(8)\n",
      "memory usage: 925.8+ KB\n"
     ]
    }
   ],
   "source": [
    "dfActive.info()"
   ]
  },
  {
   "cell_type": "markdown",
   "metadata": {},
   "source": [
    "## 5. Creating a New DataFrame for each Decade"
   ]
  },
  {
   "cell_type": "markdown",
   "metadata": {},
   "source": [
    "Each decade is separted out into their own DataFrame by selecting only inmates incarcerated within that time span. "
   ]
  },
  {
   "cell_type": "code",
   "execution_count": 8,
   "metadata": {},
   "outputs": [],
   "source": [
    "#1980s decade\n",
    "d1980 = (df['SENTENCE BEGIN YEAR'] > 1979) & (df['SENTENCE BEGIN YEAR'] <= 1989)\n",
    "df1980 = pd.DataFrame(df.loc[d1980])"
   ]
  },
  {
   "cell_type": "code",
   "execution_count": 9,
   "metadata": {},
   "outputs": [],
   "source": [
    "#1990s decade\n",
    "d1990 = (df['SENTENCE BEGIN YEAR'] > 1989) & (df['SENTENCE BEGIN YEAR'] <= 1999)\n",
    "df1990 = pd.DataFrame(df.loc[d1990])"
   ]
  },
  {
   "cell_type": "code",
   "execution_count": 10,
   "metadata": {},
   "outputs": [],
   "source": [
    "#2000s decade\n",
    "d2000 = (df['SENTENCE BEGIN YEAR'] > 1999) & (df['SENTENCE BEGIN YEAR'] <= 2009)\n",
    "df2000 = pd.DataFrame(df.loc[d2000])"
   ]
  },
  {
   "cell_type": "code",
   "execution_count": 11,
   "metadata": {},
   "outputs": [],
   "source": [
    "#2010s decade\n",
    "d2010 = (df['SENTENCE BEGIN YEAR'] > 2009) & (df['SENTENCE BEGIN YEAR'] <= 2019)\n",
    "df2010 = pd.DataFrame(df.loc[d2010])"
   ]
  },
  {
   "cell_type": "markdown",
   "metadata": {},
   "source": [
    "## 6. Viewing the Data"
   ]
  },
  {
   "cell_type": "markdown",
   "metadata": {},
   "source": [
    "### 6.1 Broad Viewing of the Full Inmate Numerical Data"
   ]
  },
  {
   "cell_type": "markdown",
   "metadata": {},
   "source": [
    "A histogram can be plotted for each numerical attribute of the dataset."
   ]
  },
  {
   "cell_type": "markdown",
   "metadata": {},
   "source": [
    "A histogram counts how many instances have a given value. The hist() method performs this on the whole dataset, and it plots a histogram for each numerical attirbute. "
   ]
  },
  {
   "cell_type": "markdown",
   "metadata": {},
   "source": [
    "Matplotlib, the python visualization library, can use Jupyter as its backend for analysis. Plots are now shown within the notebook itself. "
   ]
  },
  {
   "cell_type": "markdown",
   "metadata": {},
   "source": [
    "This gives us a broad idea of how numerical values are being distributed "
   ]
  },
  {
   "cell_type": "code",
   "execution_count": 12,
   "metadata": {},
   "outputs": [
    {
     "data": {
      "text/plain": [
       "array([[<AxesSubplot:title={'center':'ID NUMBER'}>,\n",
       "        <AxesSubplot:title={'center':'MIN TERM/YEAR'}>,\n",
       "        <AxesSubplot:title={'center':'MAX TERM/YEAR'}>],\n",
       "       [<AxesSubplot:title={'center':'ACTIVE'}>,\n",
       "        <AxesSubplot:title={'center':'SENTENCE BEGIN AGE'}>,\n",
       "        <AxesSubplot:title={'center':'CURRENT AGE'}>],\n",
       "       [<AxesSubplot:title={'center':'SENTENCE BEGIN YEAR'}>,\n",
       "        <AxesSubplot:>, <AxesSubplot:>]], dtype=object)"
      ]
     },
     "execution_count": 12,
     "metadata": {},
     "output_type": "execute_result"
    },
    {
     "data": {
      "image/png": "[encoded data removed]",
      "text/plain": [
       "<Figure size 1440x1080 with 9 Axes>"
      ]
     },
     "metadata": {
      "needs_background": "light"
     },
     "output_type": "display_data"
    }
   ],
   "source": [
    "# Import Matplotlib for plotting\n",
    "import matplotlib.pyplot as plt\n",
    "%matplotlib inline\n",
    "\n",
    "df.hist(bins=50, figsize=(20,15))"
   ]
  },
  {
   "cell_type": "markdown",
   "metadata": {},
   "source": [
    "Findings:\n",
    "1. Most inmates begin their sentence between 20 and 30 years old, and as they get older it is less likely they will be incarcerated\n",
    "2. The current age of inmates has higher averages around 40, 50, and 60 years of age. However, most of these individuals are no longer incarcerated.\n",
    "3. The inmate sentence begin year steadily rises in numbers of prisoners for each decade"
   ]
  },
  {
   "cell_type": "markdown",
   "metadata": {},
   "source": [
    "### 6.2 Broad Viewing of the Active Inmate Numerical Data"
   ]
  },
  {
   "cell_type": "markdown",
   "metadata": {},
   "source": [
    "Repeated steps but with only the active inmates"
   ]
  },
  {
   "cell_type": "code",
   "execution_count": 13,
   "metadata": {},
   "outputs": [
    {
     "data": {
      "text/plain": [
       "array([[<AxesSubplot:title={'center':'ID NUMBER'}>,\n",
       "        <AxesSubplot:title={'center':'MIN TERM/YEAR'}>,\n",
       "        <AxesSubplot:title={'center':'MAX TERM/YEAR'}>],\n",
       "       [<AxesSubplot:title={'center':'ACTIVE'}>,\n",
       "        <AxesSubplot:title={'center':'SENTENCE BEGIN AGE'}>,\n",
       "        <AxesSubplot:title={'center':'CURRENT AGE'}>],\n",
       "       [<AxesSubplot:title={'center':'SENTENCE BEGIN YEAR'}>,\n",
       "        <AxesSubplot:>, <AxesSubplot:>]], dtype=object)"
      ]
     },
     "execution_count": 13,
     "metadata": {},
     "output_type": "execute_result"
    },
    {
     "data": {
      "image/png": "[encoded data removed]",
      "text/plain": [
       "<Figure size 1440x1080 with 9 Axes>"
      ]
     },
     "metadata": {
      "needs_background": "light"
     },
     "output_type": "display_data"
    }
   ],
   "source": [
    "# Import Matplotlib for plotting\n",
    "import matplotlib.pyplot as plt\n",
    "%matplotlib inline\n",
    "\n",
    "dfActive.hist(bins=50, figsize=(20,15))"
   ]
  },
  {
   "cell_type": "markdown",
   "metadata": {},
   "source": [
    "Findings:\n",
    "1. Most inmates begin their sentence between 20 and 30 years old, and as they get older it is less likely they will be incarcerated.\n",
    "2. The current age of inmates has higher averages around 30 to 40 years of age. However, there are more higher averages of inmates in their late 40s, 50s, and 60s compared to the sentence begin age. \n",
    "3. Most active inmates were arrested from 2015 to 2020. "
   ]
  },
  {
   "cell_type": "markdown",
   "metadata": {},
   "source": [
    "### 6.3 Closer Viewing of the Active Inmate Numerical Data"
   ]
  },
  {
   "cell_type": "markdown",
   "metadata": {},
   "source": [
    "Let's zoom in on the sentence begin and current age of active prisoners by specificing a specific column in the DataFrame."
   ]
  },
  {
   "cell_type": "code",
   "execution_count": 14,
   "metadata": {},
   "outputs": [
    {
     "data": {
      "text/plain": [
       "<AxesSubplot:>"
      ]
     },
     "execution_count": 14,
     "metadata": {},
     "output_type": "execute_result"
    },
    {
     "data": {
      "image/png": "[encoded data removed]",
      "text/plain": [
       "<Figure size 720x360 with 1 Axes>"
      ]
     },
     "metadata": {
      "needs_background": "light"
     },
     "output_type": "display_data"
    }
   ],
   "source": [
    "import matplotlib.pyplot as plt\n",
    "%matplotlib inline\n",
    "\n",
    "dfActive['SENTENCE BEGIN AGE'].hist(bins=100, figsize=(10,5))"
   ]
  },
  {
   "cell_type": "code",
   "execution_count": 15,
   "metadata": {},
   "outputs": [
    {
     "data": {
      "text/plain": [
       "<AxesSubplot:>"
      ]
     },
     "execution_count": 15,
     "metadata": {},
     "output_type": "execute_result"
    },
    {
     "data": {
      "image/png": "[encoded data removed]",
      "text/plain": [
       "<Figure size 720x360 with 1 Axes>"
      ]
     },
     "metadata": {
      "needs_background": "light"
     },
     "output_type": "display_data"
    }
   ],
   "source": [
    "import matplotlib.pyplot as plt\n",
    "%matplotlib inline\n",
    "\n",
    "dfActive['CURRENT AGE'].hist(bins=100, figsize=(10,5))"
   ]
  },
  {
   "cell_type": "markdown",
   "metadata": {},
   "source": [
    "### 6.4 Explore the Data"
   ]
  },
  {
   "cell_type": "markdown",
   "metadata": {},
   "source": [
    "The DataFrame describe method helps us take a broad look at the numerical data. It shows the count, mean, standard deviation, maximum and minimum values"
   ]
  },
  {
   "cell_type": "markdown",
   "metadata": {},
   "source": [
    "The noteworthy numbers are the mean, min, and max values for MIN / MAX TERM/YEAR, SENTENCE BEGIN AGE, and CURRENT AGE "
   ]
  },
  {
   "cell_type": "code",
   "execution_count": 16,
   "metadata": {},
   "outputs": [
    {
     "data": {
      "text/html": [
       "<div>\n",
       "<style scoped>\n",
       "    .dataframe tbody tr th:only-of-type {\n",
       "        vertical-align: middle;\n",
       "    }\n",
       "\n",
       "    .dataframe tbody tr th {\n",
       "        vertical-align: top;\n",
       "    }\n",
       "\n",
       "    .dataframe thead th {\n",
       "        text-align: right;\n",
       "    }\n",
       "</style>\n",
       "<table border=\"1\" class=\"dataframe\">\n",
       "  <thead>\n",
       "    <tr style=\"text-align: right;\">\n",
       "      <th></th>\n",
       "      <th>ID NUMBER</th>\n",
       "      <th>MIN TERM/YEAR</th>\n",
       "      <th>MAX TERM/YEAR</th>\n",
       "      <th>ACTIVE</th>\n",
       "      <th>SENTENCE BEGIN AGE</th>\n",
       "      <th>CURRENT AGE</th>\n",
       "      <th>SENTENCE BEGIN YEAR</th>\n",
       "    </tr>\n",
       "  </thead>\n",
       "  <tbody>\n",
       "    <tr>\n",
       "      <th>count</th>\n",
       "      <td>68583.000000</td>\n",
       "      <td>68583.000000</td>\n",
       "      <td>68583.000000</td>\n",
       "      <td>68583.000000</td>\n",
       "      <td>68583.000000</td>\n",
       "      <td>68583.000000</td>\n",
       "      <td>68583.000000</td>\n",
       "    </tr>\n",
       "    <tr>\n",
       "      <th>mean</th>\n",
       "      <td>78225.156438</td>\n",
       "      <td>3.540134</td>\n",
       "      <td>6.155826</td>\n",
       "      <td>0.107986</td>\n",
       "      <td>31.921698</td>\n",
       "      <td>48.629916</td>\n",
       "      <td>2003.959159</td>\n",
       "    </tr>\n",
       "    <tr>\n",
       "      <th>std</th>\n",
       "      <td>62870.521305</td>\n",
       "      <td>8.013672</td>\n",
       "      <td>10.964725</td>\n",
       "      <td>0.310365</td>\n",
       "      <td>10.476343</td>\n",
       "      <td>13.543068</td>\n",
       "      <td>10.706607</td>\n",
       "    </tr>\n",
       "    <tr>\n",
       "      <th>min</th>\n",
       "      <td>27642.000000</td>\n",
       "      <td>0.000000</td>\n",
       "      <td>0.000000</td>\n",
       "      <td>0.000000</td>\n",
       "      <td>13.660274</td>\n",
       "      <td>16.789041</td>\n",
       "      <td>1980.000000</td>\n",
       "    </tr>\n",
       "    <tr>\n",
       "      <th>25%</th>\n",
       "      <td>49873.500000</td>\n",
       "      <td>1.000000</td>\n",
       "      <td>2.000000</td>\n",
       "      <td>0.000000</td>\n",
       "      <td>23.378082</td>\n",
       "      <td>38.032877</td>\n",
       "      <td>1996.000000</td>\n",
       "    </tr>\n",
       "    <tr>\n",
       "      <th>50%</th>\n",
       "      <td>67095.000000</td>\n",
       "      <td>1.000000</td>\n",
       "      <td>3.000000</td>\n",
       "      <td>0.000000</td>\n",
       "      <td>29.873973</td>\n",
       "      <td>48.254795</td>\n",
       "      <td>2006.000000</td>\n",
       "    </tr>\n",
       "    <tr>\n",
       "      <th>75%</th>\n",
       "      <td>84303.500000</td>\n",
       "      <td>3.000000</td>\n",
       "      <td>6.000000</td>\n",
       "      <td>0.000000</td>\n",
       "      <td>38.463014</td>\n",
       "      <td>58.468493</td>\n",
       "      <td>2013.000000</td>\n",
       "    </tr>\n",
       "    <tr>\n",
       "      <th>max</th>\n",
       "      <td>502235.000000</td>\n",
       "      <td>310.000000</td>\n",
       "      <td>470.000000</td>\n",
       "      <td>1.000000</td>\n",
       "      <td>90.027397</td>\n",
       "      <td>121.213699</td>\n",
       "      <td>2020.000000</td>\n",
       "    </tr>\n",
       "  </tbody>\n",
       "</table>\n",
       "</div>"
      ],
      "text/plain": [
       "           ID NUMBER  MIN TERM/YEAR  MAX TERM/YEAR        ACTIVE  \\\n",
       "count   68583.000000   68583.000000   68583.000000  68583.000000   \n",
       "mean    78225.156438       3.540134       6.155826      0.107986   \n",
       "std     62870.521305       8.013672      10.964725      0.310365   \n",
       "min     27642.000000       0.000000       0.000000      0.000000   \n",
       "25%     49873.500000       1.000000       2.000000      0.000000   \n",
       "50%     67095.000000       1.000000       3.000000      0.000000   \n",
       "75%     84303.500000       3.000000       6.000000      0.000000   \n",
       "max    502235.000000     310.000000     470.000000      1.000000   \n",
       "\n",
       "       SENTENCE BEGIN AGE   CURRENT AGE  SENTENCE BEGIN YEAR  \n",
       "count        68583.000000  68583.000000         68583.000000  \n",
       "mean            31.921698     48.629916          2003.959159  \n",
       "std             10.476343     13.543068            10.706607  \n",
       "min             13.660274     16.789041          1980.000000  \n",
       "25%             23.378082     38.032877          1996.000000  \n",
       "50%             29.873973     48.254795          2006.000000  \n",
       "75%             38.463014     58.468493          2013.000000  \n",
       "max             90.027397    121.213699          2020.000000  "
      ]
     },
     "execution_count": 16,
     "metadata": {},
     "output_type": "execute_result"
    }
   ],
   "source": [
    "df.describe()"
   ]
  },
  {
   "cell_type": "code",
   "execution_count": 17,
   "metadata": {},
   "outputs": [
    {
     "data": {
      "text/html": [
       "<div>\n",
       "<style scoped>\n",
       "    .dataframe tbody tr th:only-of-type {\n",
       "        vertical-align: middle;\n",
       "    }\n",
       "\n",
       "    .dataframe tbody tr th {\n",
       "        vertical-align: top;\n",
       "    }\n",
       "\n",
       "    .dataframe thead th {\n",
       "        text-align: right;\n",
       "    }\n",
       "</style>\n",
       "<table border=\"1\" class=\"dataframe\">\n",
       "  <thead>\n",
       "    <tr style=\"text-align: right;\">\n",
       "      <th></th>\n",
       "      <th>ID NUMBER</th>\n",
       "      <th>MIN TERM/YEAR</th>\n",
       "      <th>MAX TERM/YEAR</th>\n",
       "      <th>ACTIVE</th>\n",
       "      <th>SENTENCE BEGIN AGE</th>\n",
       "      <th>CURRENT AGE</th>\n",
       "      <th>SENTENCE BEGIN YEAR</th>\n",
       "    </tr>\n",
       "  </thead>\n",
       "  <tbody>\n",
       "    <tr>\n",
       "      <th>count</th>\n",
       "      <td>7406.000000</td>\n",
       "      <td>7406.000000</td>\n",
       "      <td>7406.000000</td>\n",
       "      <td>7406.0</td>\n",
       "      <td>7406.000000</td>\n",
       "      <td>7406.000000</td>\n",
       "      <td>7406.000000</td>\n",
       "    </tr>\n",
       "    <tr>\n",
       "      <th>mean</th>\n",
       "      <td>126547.903592</td>\n",
       "      <td>13.743046</td>\n",
       "      <td>19.598569</td>\n",
       "      <td>1.0</td>\n",
       "      <td>33.846597</td>\n",
       "      <td>38.914736</td>\n",
       "      <td>2015.589522</td>\n",
       "    </tr>\n",
       "    <tr>\n",
       "      <th>std</th>\n",
       "      <td>80942.449352</td>\n",
       "      <td>18.944491</td>\n",
       "      <td>24.856465</td>\n",
       "      <td>0.0</td>\n",
       "      <td>11.114111</td>\n",
       "      <td>12.024398</td>\n",
       "      <td>6.129352</td>\n",
       "    </tr>\n",
       "    <tr>\n",
       "      <th>min</th>\n",
       "      <td>29333.000000</td>\n",
       "      <td>0.000000</td>\n",
       "      <td>0.000000</td>\n",
       "      <td>1.0</td>\n",
       "      <td>15.095890</td>\n",
       "      <td>16.789041</td>\n",
       "      <td>1980.000000</td>\n",
       "    </tr>\n",
       "    <tr>\n",
       "      <th>25%</th>\n",
       "      <td>81661.250000</td>\n",
       "      <td>2.000000</td>\n",
       "      <td>4.000000</td>\n",
       "      <td>1.0</td>\n",
       "      <td>25.080137</td>\n",
       "      <td>29.682877</td>\n",
       "      <td>2014.000000</td>\n",
       "    </tr>\n",
       "    <tr>\n",
       "      <th>50%</th>\n",
       "      <td>88078.000000</td>\n",
       "      <td>6.000000</td>\n",
       "      <td>10.000000</td>\n",
       "      <td>1.0</td>\n",
       "      <td>31.963014</td>\n",
       "      <td>36.971233</td>\n",
       "      <td>2018.000000</td>\n",
       "    </tr>\n",
       "    <tr>\n",
       "      <th>75%</th>\n",
       "      <td>210342.750000</td>\n",
       "      <td>19.000000</td>\n",
       "      <td>27.000000</td>\n",
       "      <td>1.0</td>\n",
       "      <td>40.194521</td>\n",
       "      <td>46.189041</td>\n",
       "      <td>2019.000000</td>\n",
       "    </tr>\n",
       "    <tr>\n",
       "      <th>max</th>\n",
       "      <td>392481.000000</td>\n",
       "      <td>260.000000</td>\n",
       "      <td>463.000000</td>\n",
       "      <td>1.0</td>\n",
       "      <td>86.271233</td>\n",
       "      <td>90.715068</td>\n",
       "      <td>2020.000000</td>\n",
       "    </tr>\n",
       "  </tbody>\n",
       "</table>\n",
       "</div>"
      ],
      "text/plain": [
       "           ID NUMBER  MIN TERM/YEAR  MAX TERM/YEAR  ACTIVE  \\\n",
       "count    7406.000000    7406.000000    7406.000000  7406.0   \n",
       "mean   126547.903592      13.743046      19.598569     1.0   \n",
       "std     80942.449352      18.944491      24.856465     0.0   \n",
       "min     29333.000000       0.000000       0.000000     1.0   \n",
       "25%     81661.250000       2.000000       4.000000     1.0   \n",
       "50%     88078.000000       6.000000      10.000000     1.0   \n",
       "75%    210342.750000      19.000000      27.000000     1.0   \n",
       "max    392481.000000     260.000000     463.000000     1.0   \n",
       "\n",
       "       SENTENCE BEGIN AGE  CURRENT AGE  SENTENCE BEGIN YEAR  \n",
       "count         7406.000000  7406.000000          7406.000000  \n",
       "mean            33.846597    38.914736          2015.589522  \n",
       "std             11.114111    12.024398             6.129352  \n",
       "min             15.095890    16.789041          1980.000000  \n",
       "25%             25.080137    29.682877          2014.000000  \n",
       "50%             31.963014    36.971233          2018.000000  \n",
       "75%             40.194521    46.189041          2019.000000  \n",
       "max             86.271233    90.715068          2020.000000  "
      ]
     },
     "execution_count": 17,
     "metadata": {},
     "output_type": "execute_result"
    }
   ],
   "source": [
    "dfActive.describe()"
   ]
  },
  {
   "cell_type": "markdown",
   "metadata": {},
   "source": [
    "## 7. Exploring Value Counts and Value Averages on Full Data"
   ]
  },
  {
   "cell_type": "markdown",
   "metadata": {},
   "source": [
    "Value counts is a pandas method that returns a list of the counts of every value in the column ordered by most common to least common.\n",
    "This is helpful to distinguish what aspects of inmates were the most common"
   ]
  },
  {
   "cell_type": "markdown",
   "metadata": {},
   "source": [
    "Let's look at race first"
   ]
  },
  {
   "cell_type": "code",
   "execution_count": 18,
   "metadata": {},
   "outputs": [
    {
     "data": {
      "text/plain": [
       "RACE DESC\n",
       "WHITE                             40208\n",
       "BLACK                             16679\n",
       "HISPANIC                           7760\n",
       "NATIVE AMERICAN                    3161\n",
       "ASIAN                               371\n",
       "OTHER                               331\n",
       "                                     52\n",
       "PACIFIC ISLANDER                     20\n",
       "HAWAIIAN ISLANDER                     1\n",
       "dtype: int64"
      ]
     },
     "execution_count": 18,
     "metadata": {},
     "output_type": "execute_result"
    }
   ],
   "source": [
    "df.value_counts('RACE DESC')"
   ]
  },
  {
   "cell_type": "markdown",
   "metadata": {},
   "source": [
    "The normalize parameters returns the frequencies of the values"
   ]
  },
  {
   "cell_type": "code",
   "execution_count": 19,
   "metadata": {},
   "outputs": [
    {
     "data": {
      "text/plain": [
       "RACE DESC\n",
       "WHITE                             0.586268\n",
       "BLACK                             0.243194\n",
       "HISPANIC                          0.113148\n",
       "NATIVE AMERICAN                   0.046090\n",
       "ASIAN                             0.005410\n",
       "OTHER                             0.004826\n",
       "                                  0.000758\n",
       "PACIFIC ISLANDER                  0.000292\n",
       "HAWAIIAN ISLANDER                 0.000015\n",
       "dtype: float64"
      ]
     },
     "execution_count": 19,
     "metadata": {},
     "output_type": "execute_result"
    }
   ],
   "source": [
    "df.value_counts('RACE DESC', normalize=True)"
   ]
  },
  {
   "cell_type": "markdown",
   "metadata": {},
   "source": [
    "The mean function finds the average value from the selected column"
   ]
  },
  {
   "cell_type": "code",
   "execution_count": 20,
   "metadata": {},
   "outputs": [
    {
     "data": {
      "text/plain": [
       "31.921698276201568"
      ]
     },
     "execution_count": 20,
     "metadata": {},
     "output_type": "execute_result"
    }
   ],
   "source": [
    "df['SENTENCE BEGIN AGE'].mean()"
   ]
  },
  {
   "cell_type": "code",
   "execution_count": 21,
   "metadata": {},
   "outputs": [
    {
     "data": {
      "text/plain": [
       "48.6299159961965"
      ]
     },
     "execution_count": 21,
     "metadata": {},
     "output_type": "execute_result"
    }
   ],
   "source": [
    "df['CURRENT AGE'].mean()"
   ]
  },
  {
   "cell_type": "markdown",
   "metadata": {},
   "source": [
    "## 8. Exploring 1980s Value Counts, Value Averages, and Visualizations "
   ]
  },
  {
   "cell_type": "markdown",
   "metadata": {},
   "source": [
    "### 8.1 General info"
   ]
  },
  {
   "cell_type": "markdown",
   "metadata": {},
   "source": [
    "8498 inmates are listed to be incarcerated in 1980"
   ]
  },
  {
   "cell_type": "code",
   "execution_count": 22,
   "metadata": {},
   "outputs": [
    {
     "name": "stdout",
     "output_type": "stream",
     "text": [
      "<class 'pandas.core.frame.DataFrame'>\n",
      "Int64Index: 8498 entries, 1 to 57899\n",
      "Data columns (total 15 columns):\n",
      " #   Column                  Non-Null Count  Dtype  \n",
      "---  ------                  --------------  -----  \n",
      " 0   ID NUMBER               8498 non-null   int64  \n",
      " 1   DATE OF BIRTH           8498 non-null   object \n",
      " 2   RACE DESC               8498 non-null   object \n",
      " 3   GENDER                  8498 non-null   object \n",
      " 4   FACILITY                637 non-null    object \n",
      " 5   SENTENCE BEGIN DATE     8498 non-null   object \n",
      " 6   MIN TERM/YEAR           8498 non-null   float64\n",
      " 7   MAX TERM/YEAR           8498 non-null   float64\n",
      " 8   INST RELEASE DATE       8427 non-null   object \n",
      " 9   ACTIVE                  8498 non-null   int64  \n",
      " 10  SENTENCE BEGIN DATE DT  8498 non-null   object \n",
      " 11  DATE OF BIRTH DT        8498 non-null   object \n",
      " 12  SENTENCE BEGIN AGE      8498 non-null   float64\n",
      " 13  CURRENT AGE             8498 non-null   float64\n",
      " 14  SENTENCE BEGIN YEAR     8498 non-null   int64  \n",
      "dtypes: float64(4), int64(3), object(8)\n",
      "memory usage: 1.0+ MB\n"
     ]
    }
   ],
   "source": [
    "df1980.info()"
   ]
  },
  {
   "cell_type": "markdown",
   "metadata": {},
   "source": [
    "### 8.2 Race"
   ]
  },
  {
   "cell_type": "markdown",
   "metadata": {},
   "source": [
    "Most inmates are white"
   ]
  },
  {
   "cell_type": "code",
   "execution_count": 23,
   "metadata": {},
   "outputs": [
    {
     "data": {
      "text/plain": [
       "RACE DESC\n",
       "WHITE                             0.659802\n",
       "BLACK                             0.251236\n",
       "NATIVE AMERICAN                   0.045187\n",
       "HISPANIC                          0.038127\n",
       "OTHER                             0.005413\n",
       "ASIAN                             0.000118\n",
       "                                  0.000118\n",
       "dtype: float64"
      ]
     },
     "execution_count": 23,
     "metadata": {},
     "output_type": "execute_result"
    }
   ],
   "source": [
    "df1980.value_counts('RACE DESC', normalize=True)"
   ]
  },
  {
   "cell_type": "markdown",
   "metadata": {},
   "source": [
    "### 8.3 Sentence Begin"
   ]
  },
  {
   "cell_type": "code",
   "execution_count": 24,
   "metadata": {},
   "outputs": [
    {
     "data": {
      "text/plain": [
       "28.545750329650527"
      ]
     },
     "execution_count": 24,
     "metadata": {},
     "output_type": "execute_result"
    }
   ],
   "source": [
    "df1980['SENTENCE BEGIN AGE'].mean()"
   ]
  },
  {
   "cell_type": "markdown",
   "metadata": {},
   "source": [
    "Most inmates were incarcerated in the last 4 years of the 1980s"
   ]
  },
  {
   "cell_type": "code",
   "execution_count": 25,
   "metadata": {},
   "outputs": [
    {
     "data": {
      "text/plain": [
       "SENTENCE BEGIN YEAR\n",
       "1989    0.144034\n",
       "1987    0.117557\n",
       "1988    0.116027\n",
       "1986    0.100612\n",
       "1981    0.097435\n",
       "1982    0.092610\n",
       "1985    0.088021\n",
       "1983    0.085197\n",
       "1984    0.080960\n",
       "1980    0.077548\n",
       "dtype: float64"
      ]
     },
     "execution_count": 25,
     "metadata": {},
     "output_type": "execute_result"
    }
   ],
   "source": [
    "df1980.value_counts('SENTENCE BEGIN YEAR', normalize=True).head(10)"
   ]
  },
  {
   "cell_type": "markdown",
   "metadata": {},
   "source": [
    "### 8.4 Sentencing Min/Max Term"
   ]
  },
  {
   "cell_type": "code",
   "execution_count": 26,
   "metadata": {},
   "outputs": [
    {
     "data": {
      "text/plain": [
       "2.5947281713344315"
      ]
     },
     "execution_count": 26,
     "metadata": {},
     "output_type": "execute_result"
    }
   ],
   "source": [
    "df1980['MIN TERM/YEAR'].mean()"
   ]
  },
  {
   "cell_type": "code",
   "execution_count": 27,
   "metadata": {},
   "outputs": [
    {
     "data": {
      "text/plain": [
       "MIN TERM/YEAR\n",
       "1.0     0.463756\n",
       "0.0     0.200753\n",
       "2.0     0.097199\n",
       "3.0     0.077783\n",
       "4.0     0.033302\n",
       "5.0     0.032831\n",
       "6.0     0.023182\n",
       "10.0    0.016945\n",
       "8.0     0.008590\n",
       "7.0     0.008237\n",
       "dtype: float64"
      ]
     },
     "execution_count": 27,
     "metadata": {},
     "output_type": "execute_result"
    }
   ],
   "source": [
    "df1980.value_counts('MIN TERM/YEAR', normalize=True).head(10)"
   ]
  },
  {
   "cell_type": "code",
   "execution_count": 28,
   "metadata": {},
   "outputs": [
    {
     "data": {
      "text/plain": [
       "5.680630736643916"
      ]
     },
     "execution_count": 28,
     "metadata": {},
     "output_type": "execute_result"
    }
   ],
   "source": [
    "df1980['MAX TERM/YEAR'].mean()"
   ]
  },
  {
   "cell_type": "code",
   "execution_count": 29,
   "metadata": {},
   "outputs": [
    {
     "data": {
      "text/plain": [
       "MAX TERM/YEAR\n",
       "1.0     0.260061\n",
       "3.0     0.181572\n",
       "2.0     0.125441\n",
       "5.0     0.125441\n",
       "4.0     0.071782\n",
       "10.0    0.041892\n",
       "6.0     0.041422\n",
       "8.0     0.022711\n",
       "7.0     0.021770\n",
       "15.0    0.014474\n",
       "dtype: float64"
      ]
     },
     "execution_count": 29,
     "metadata": {},
     "output_type": "execute_result"
    }
   ],
   "source": [
    "df1980.value_counts('MAX TERM/YEAR', normalize=True).head(10)"
   ]
  },
  {
   "cell_type": "markdown",
   "metadata": {},
   "source": [
    "### 8.5 Graphs"
   ]
  },
  {
   "cell_type": "markdown",
   "metadata": {},
   "source": [
    "Seabporn is a data visualization library based on matplotlib. "
   ]
  },
  {
   "cell_type": "code",
   "execution_count": 30,
   "metadata": {},
   "outputs": [],
   "source": [
    "import seaborn as sns"
   ]
  },
  {
   "cell_type": "code",
   "execution_count": 31,
   "metadata": {},
   "outputs": [],
   "source": [
    "#sns.relplot(x=\"SENTENCE BEGIN AGE\", y=\"OFFENSE MINIMUM YEAR OR TERM\", data = df1980);"
   ]
  },
  {
   "cell_type": "code",
   "execution_count": 32,
   "metadata": {},
   "outputs": [],
   "source": [
    "#p = sns.catplot(x=\"RACE DESC\", y=\"OFFENSE MINIMUM YEAR OR TERM\", kind=\"box\",data=df1980)\n",
    "#p.fig.set_size_inches(15,15)"
   ]
  },
  {
   "cell_type": "markdown",
   "metadata": {},
   "source": [
    "A countplot is a histogram for catagorial variables. The x axis is the sentence begin year, and the plot counts those variables to create the y axis. "
   ]
  },
  {
   "cell_type": "markdown",
   "metadata": {},
   "source": [
    "The hue is the count broken down by another variable, in this case, race. "
   ]
  },
  {
   "cell_type": "markdown",
   "metadata": {},
   "source": [
    "You can notice a gradual rise in the number of black prisoners from 1985 to 1989"
   ]
  },
  {
   "cell_type": "code",
   "execution_count": 33,
   "metadata": {},
   "outputs": [
    {
     "data": {
      "text/plain": [
       "<matplotlib.legend.Legend at 0x7fcc3d852d60>"
      ]
     },
     "execution_count": 33,
     "metadata": {},
     "output_type": "execute_result"
    },
    {
     "data": {
      "image/png": "[encoded data removed]",
      "text/plain": [
       "<Figure size 1080x720 with 1 Axes>"
      ]
     },
     "metadata": {
      "needs_background": "light"
     },
     "output_type": "display_data"
    }
   ],
   "source": [
    "fig_dims = (15, 10)\n",
    "fig, ax = plt.subplots(figsize=fig_dims)\n",
    "sns.set_theme(style=\"darkgrid\")\n",
    "\n",
    "ax = sns.countplot(x=\"SENTENCE BEGIN YEAR\", hue=\"RACE DESC\", ax=ax\n",
    "                   , data=df1980, \n",
    "                  hue_order=df1980[\"RACE DESC\"].value_counts().iloc[:5].index)\n",
    "plt.xticks(rotation = 45, ha = 'right')\n",
    "plt.legend(title = 'RACE', bbox_to_anchor = (1, 1))"
   ]
  },
  {
   "cell_type": "markdown",
   "metadata": {},
   "source": [
    "## 9. Exploring 1990s Value Counts, Value Averages, and Visualizations "
   ]
  },
  {
   "cell_type": "markdown",
   "metadata": {},
   "source": [
    "### 9.1 General Info"
   ]
  },
  {
   "cell_type": "markdown",
   "metadata": {},
   "source": [
    "14,154 inmates started their incarceration in the 1990s"
   ]
  },
  {
   "cell_type": "code",
   "execution_count": 34,
   "metadata": {},
   "outputs": [
    {
     "name": "stdout",
     "output_type": "stream",
     "text": [
      "<class 'pandas.core.frame.DataFrame'>\n",
      "Int64Index: 14154 entries, 16 to 59270\n",
      "Data columns (total 15 columns):\n",
      " #   Column                  Non-Null Count  Dtype  \n",
      "---  ------                  --------------  -----  \n",
      " 0   ID NUMBER               14154 non-null  int64  \n",
      " 1   DATE OF BIRTH           14154 non-null  object \n",
      " 2   RACE DESC               14154 non-null  object \n",
      " 3   GENDER                  14154 non-null  object \n",
      " 4   FACILITY                287 non-null    object \n",
      " 5   SENTENCE BEGIN DATE     14154 non-null  object \n",
      " 6   MIN TERM/YEAR           14154 non-null  float64\n",
      " 7   MAX TERM/YEAR           14154 non-null  float64\n",
      " 8   INST RELEASE DATE       14002 non-null  object \n",
      " 9   ACTIVE                  14154 non-null  int64  \n",
      " 10  SENTENCE BEGIN DATE DT  14154 non-null  object \n",
      " 11  DATE OF BIRTH DT        14154 non-null  object \n",
      " 12  SENTENCE BEGIN AGE      14154 non-null  float64\n",
      " 13  CURRENT AGE             14154 non-null  float64\n",
      " 14  SENTENCE BEGIN YEAR     14154 non-null  int64  \n",
      "dtypes: float64(4), int64(3), object(8)\n",
      "memory usage: 1.7+ MB\n"
     ]
    }
   ],
   "source": [
    "df1990.info()"
   ]
  },
  {
   "cell_type": "markdown",
   "metadata": {},
   "source": [
    "### 9.2 Race"
   ]
  },
  {
   "cell_type": "markdown",
   "metadata": {},
   "source": [
    "The largest difference since the 1980s is the 10% of inamtes being Hispanic"
   ]
  },
  {
   "cell_type": "code",
   "execution_count": 35,
   "metadata": {},
   "outputs": [
    {
     "data": {
      "text/plain": [
       "RACE DESC\n",
       "WHITE                             0.577646\n",
       "BLACK                             0.270242\n",
       "HISPANIC                          0.102515\n",
       "NATIVE AMERICAN                   0.045217\n",
       "ASIAN                             0.003603\n",
       "OTHER                             0.000777\n",
       "dtype: float64"
      ]
     },
     "execution_count": 35,
     "metadata": {},
     "output_type": "execute_result"
    }
   ],
   "source": [
    "df1990.value_counts('RACE DESC', normalize=True)"
   ]
  },
  {
   "cell_type": "markdown",
   "metadata": {},
   "source": [
    "### 9.3 Sentence Begin"
   ]
  },
  {
   "cell_type": "markdown",
   "metadata": {},
   "source": [
    "The begin average age is slightly older"
   ]
  },
  {
   "cell_type": "code",
   "execution_count": 36,
   "metadata": {},
   "outputs": [
    {
     "data": {
      "text/plain": [
       "30.15704491300193"
      ]
     },
     "execution_count": 36,
     "metadata": {},
     "output_type": "execute_result"
    }
   ],
   "source": [
    "df1990['SENTENCE BEGIN AGE'].mean()"
   ]
  },
  {
   "cell_type": "code",
   "execution_count": 37,
   "metadata": {},
   "outputs": [
    {
     "data": {
      "text/plain": [
       "SENTENCE BEGIN YEAR\n",
       "1998    0.116292\n",
       "1996    0.110711\n",
       "1997    0.106330\n",
       "1999    0.106118\n",
       "1995    0.105341\n",
       "1994    0.096651\n",
       "1992    0.090716\n",
       "1991    0.090010\n",
       "1993    0.089515\n",
       "1990    0.088314\n",
       "dtype: float64"
      ]
     },
     "execution_count": 37,
     "metadata": {},
     "output_type": "execute_result"
    }
   ],
   "source": [
    "df1990.value_counts('SENTENCE BEGIN YEAR', normalize=True).head(10)"
   ]
  },
  {
   "cell_type": "markdown",
   "metadata": {},
   "source": [
    "### 9.4 Sentencing Min/Max Term "
   ]
  },
  {
   "cell_type": "code",
   "execution_count": 38,
   "metadata": {},
   "outputs": [
    {
     "data": {
      "text/plain": [
       "2.926451886392539"
      ]
     },
     "execution_count": 38,
     "metadata": {},
     "output_type": "execute_result"
    }
   ],
   "source": [
    "df1990['MIN TERM/YEAR'].mean()"
   ]
  },
  {
   "cell_type": "code",
   "execution_count": 39,
   "metadata": {},
   "outputs": [
    {
     "data": {
      "text/plain": [
       "MIN TERM/YEAR\n",
       "1.0     0.408365\n",
       "2.0     0.149498\n",
       "0.0     0.146531\n",
       "3.0     0.098064\n",
       "4.0     0.054825\n",
       "5.0     0.032994\n",
       "6.0     0.025505\n",
       "10.0    0.016391\n",
       "8.0     0.010810\n",
       "7.0     0.010386\n",
       "dtype: float64"
      ]
     },
     "execution_count": 39,
     "metadata": {},
     "output_type": "execute_result"
    }
   ],
   "source": [
    "df1990.value_counts('MIN TERM/YEAR', normalize=True).head(10)"
   ]
  },
  {
   "cell_type": "code",
   "execution_count": 40,
   "metadata": {},
   "outputs": [
    {
     "data": {
      "text/plain": [
       "5.917337855023315"
      ]
     },
     "execution_count": 40,
     "metadata": {},
     "output_type": "execute_result"
    }
   ],
   "source": [
    "df1990['MAX TERM/YEAR'].mean()"
   ]
  },
  {
   "cell_type": "code",
   "execution_count": 41,
   "metadata": {},
   "outputs": [
    {
     "data": {
      "text/plain": [
       "MAX TERM/YEAR\n",
       "1.0     0.194645\n",
       "3.0     0.168574\n",
       "5.0     0.154727\n",
       "2.0     0.138123\n",
       "4.0     0.097075\n",
       "6.0     0.050586\n",
       "10.0    0.040271\n",
       "8.0     0.025646\n",
       "7.0     0.019853\n",
       "20.0    0.015119\n",
       "dtype: float64"
      ]
     },
     "execution_count": 41,
     "metadata": {},
     "output_type": "execute_result"
    }
   ],
   "source": [
    "df1990.value_counts('MAX TERM/YEAR', normalize=True).head(10)"
   ]
  },
  {
   "cell_type": "markdown",
   "metadata": {},
   "source": [
    "Facility is still largely missing from the data"
   ]
  },
  {
   "cell_type": "code",
   "execution_count": 42,
   "metadata": {},
   "outputs": [
    {
     "data": {
      "text/plain": [
       "FACILITY\n",
       "COMMUNITY CORRECTIONS-LINCOLN     0.212544\n",
       "NEBRASKA STATE PENITENTIARY       0.198606\n",
       "LINCOLN CORRECTIONAL CENTER       0.160279\n",
       "TECUMSEH STATE COR INSTITUTION    0.139373\n",
       "OMAHA CORRECTIONAL CENTER         0.114983\n",
       "HASTINGS CORRECTIONAL CENTER      0.069686\n",
       "COMMUNITY CORRECTIONS-OMAHA       0.041812\n",
       "DIAGNOSTIC & EVALUATION CENTER    0.038328\n",
       "NEBRASKA CORR CENTER FOR WOMEN    0.017422\n",
       "WORK ETHIC CAMP                   0.006969\n",
       "dtype: float64"
      ]
     },
     "execution_count": 42,
     "metadata": {},
     "output_type": "execute_result"
    }
   ],
   "source": [
    "df1990.value_counts('FACILITY', normalize=True).head(10)"
   ]
  },
  {
   "cell_type": "markdown",
   "metadata": {},
   "source": [
    "### 9.5 Graphs"
   ]
  },
  {
   "cell_type": "markdown",
   "metadata": {},
   "source": [
    "The amount of hispanics incarcerated each year increases, while black inmates remains largely around the same"
   ]
  },
  {
   "cell_type": "code",
   "execution_count": 43,
   "metadata": {
    "scrolled": false
   },
   "outputs": [
    {
     "data": {
      "text/plain": [
       "<matplotlib.legend.Legend at 0x7fcc3d97a1f0>"
      ]
     },
     "execution_count": 43,
     "metadata": {},
     "output_type": "execute_result"
    },
    {
     "data": {
      "image/png": "[encoded data removed]",
      "text/plain": [
       "<Figure size 1080x720 with 1 Axes>"
      ]
     },
     "metadata": {},
     "output_type": "display_data"
    }
   ],
   "source": [
    "fig_dims = (15, 10)\n",
    "fig, ax = plt.subplots(figsize=fig_dims)\n",
    "sns.set_theme(style=\"darkgrid\")\n",
    "\n",
    "ax = sns.countplot(x=\"SENTENCE BEGIN YEAR\", hue=\"RACE DESC\", ax=ax\n",
    "                   , data=df1990, \n",
    "                  hue_order=df1990[\"RACE DESC\"].value_counts().iloc[:5].index)\n",
    "plt.xticks(rotation = 45, ha = 'right')\n",
    "plt.legend(title = 'RACE', bbox_to_anchor = (1, 1))"
   ]
  },
  {
   "cell_type": "markdown",
   "metadata": {},
   "source": [
    "## 10. Exploring 2000s Value Counts, Value Averages, and Visualizations "
   ]
  },
  {
   "cell_type": "markdown",
   "metadata": {},
   "source": [
    "### 10.1 General info"
   ]
  },
  {
   "cell_type": "markdown",
   "metadata": {},
   "source": [
    "20501 inmates are listed to be incarcerated in 2000s"
   ]
  },
  {
   "cell_type": "code",
   "execution_count": 44,
   "metadata": {},
   "outputs": [
    {
     "name": "stdout",
     "output_type": "stream",
     "text": [
      "<class 'pandas.core.frame.DataFrame'>\n",
      "Int64Index: 20501 entries, 21 to 68504\n",
      "Data columns (total 15 columns):\n",
      " #   Column                  Non-Null Count  Dtype  \n",
      "---  ------                  --------------  -----  \n",
      " 0   ID NUMBER               20501 non-null  int64  \n",
      " 1   DATE OF BIRTH           20501 non-null  object \n",
      " 2   RACE DESC               20501 non-null  object \n",
      " 3   GENDER                  20501 non-null  object \n",
      " 4   FACILITY                1217 non-null   object \n",
      " 5   SENTENCE BEGIN DATE     20501 non-null  object \n",
      " 6   MIN TERM/YEAR           20501 non-null  float64\n",
      " 7   MAX TERM/YEAR           20501 non-null  float64\n",
      " 8   INST RELEASE DATE       20151 non-null  object \n",
      " 9   ACTIVE                  20501 non-null  int64  \n",
      " 10  SENTENCE BEGIN DATE DT  20501 non-null  object \n",
      " 11  DATE OF BIRTH DT        20501 non-null  object \n",
      " 12  SENTENCE BEGIN AGE      20501 non-null  float64\n",
      " 13  CURRENT AGE             20501 non-null  float64\n",
      " 14  SENTENCE BEGIN YEAR     20501 non-null  int64  \n",
      "dtypes: float64(4), int64(3), object(8)\n",
      "memory usage: 2.5+ MB\n"
     ]
    }
   ],
   "source": [
    "df2000.info()"
   ]
  },
  {
   "cell_type": "markdown",
   "metadata": {},
   "source": [
    "### 10.2 Race"
   ]
  },
  {
   "cell_type": "markdown",
   "metadata": {},
   "source": [
    "The hispanic makeup of inmates rises again "
   ]
  },
  {
   "cell_type": "code",
   "execution_count": 45,
   "metadata": {},
   "outputs": [
    {
     "data": {
      "text/plain": [
       "RACE DESC\n",
       "WHITE                             0.582801\n",
       "BLACK                             0.227355\n",
       "HISPANIC                          0.131555\n",
       "NATIVE AMERICAN                   0.049071\n",
       "ASIAN                             0.006780\n",
       "OTHER                             0.002195\n",
       "                                  0.000146\n",
       "PACIFIC ISLANDER                  0.000098\n",
       "dtype: float64"
      ]
     },
     "execution_count": 45,
     "metadata": {},
     "output_type": "execute_result"
    }
   ],
   "source": [
    "df2000.value_counts('RACE DESC', normalize=True)"
   ]
  },
  {
   "cell_type": "markdown",
   "metadata": {},
   "source": [
    "### 10.3 Sentence Begin"
   ]
  },
  {
   "cell_type": "markdown",
   "metadata": {},
   "source": [
    "the sentence begin age rises a few years again"
   ]
  },
  {
   "cell_type": "code",
   "execution_count": 46,
   "metadata": {},
   "outputs": [
    {
     "data": {
      "text/plain": [
       "32.253207294264755"
      ]
     },
     "execution_count": 46,
     "metadata": {},
     "output_type": "execute_result"
    }
   ],
   "source": [
    "df2000['SENTENCE BEGIN AGE'].mean()"
   ]
  },
  {
   "cell_type": "code",
   "execution_count": 47,
   "metadata": {},
   "outputs": [
    {
     "data": {
      "text/plain": [
       "SENTENCE BEGIN YEAR\n",
       "2009    0.111312\n",
       "2005    0.110336\n",
       "2006    0.109604\n",
       "2008    0.109507\n",
       "2007    0.107946\n",
       "2004    0.096922\n",
       "2003    0.094142\n",
       "2002    0.093605\n",
       "2001    0.087459\n",
       "2000    0.079167\n",
       "dtype: float64"
      ]
     },
     "execution_count": 47,
     "metadata": {},
     "output_type": "execute_result"
    }
   ],
   "source": [
    "df2000.value_counts('SENTENCE BEGIN YEAR', normalize=True).head(10)"
   ]
  },
  {
   "cell_type": "markdown",
   "metadata": {},
   "source": [
    "### 10.4 Sentence Min/Max Term"
   ]
  },
  {
   "cell_type": "code",
   "execution_count": 48,
   "metadata": {},
   "outputs": [
    {
     "data": {
      "text/plain": [
       "3.3803229110775086"
      ]
     },
     "execution_count": 48,
     "metadata": {},
     "output_type": "execute_result"
    }
   ],
   "source": [
    "df2000['MIN TERM/YEAR'].mean()"
   ]
  },
  {
   "cell_type": "code",
   "execution_count": 49,
   "metadata": {},
   "outputs": [
    {
     "data": {
      "text/plain": [
       "MIN TERM/YEAR\n",
       "1.0     0.455197\n",
       "2.0     0.124872\n",
       "0.0     0.115409\n",
       "3.0     0.092142\n",
       "4.0     0.053997\n",
       "5.0     0.035706\n",
       "6.0     0.022096\n",
       "10.0    0.017755\n",
       "8.0     0.013804\n",
       "7.0     0.008244\n",
       "dtype: float64"
      ]
     },
     "execution_count": 49,
     "metadata": {},
     "output_type": "execute_result"
    }
   ],
   "source": [
    "df2000.value_counts('MIN TERM/YEAR', normalize=True).head(10)"
   ]
  },
  {
   "cell_type": "code",
   "execution_count": 50,
   "metadata": {},
   "outputs": [
    {
     "data": {
      "text/plain": [
       "5.8596653821764795"
      ]
     },
     "execution_count": 50,
     "metadata": {},
     "output_type": "execute_result"
    }
   ],
   "source": [
    "df2000['MAX TERM/YEAR'].mean()"
   ]
  },
  {
   "cell_type": "code",
   "execution_count": 51,
   "metadata": {},
   "outputs": [
    {
     "data": {
      "text/plain": [
       "MAX TERM/YEAR\n",
       "1.0     0.198332\n",
       "3.0     0.154968\n",
       "2.0     0.143700\n",
       "5.0     0.131018\n",
       "4.0     0.104580\n",
       "6.0     0.047510\n",
       "10.0    0.036096\n",
       "8.0     0.028974\n",
       "0.0     0.020877\n",
       "7.0     0.019804\n",
       "dtype: float64"
      ]
     },
     "execution_count": 51,
     "metadata": {},
     "output_type": "execute_result"
    }
   ],
   "source": [
    "df2000.value_counts('MAX TERM/YEAR', normalize=True).head(10)"
   ]
  },
  {
   "cell_type": "markdown",
   "metadata": {},
   "source": [
    "### 10.5 Graphs"
   ]
  },
  {
   "cell_type": "markdown",
   "metadata": {},
   "source": [
    "The percentage of black inmates steadily rises over the 2000s. Hispanic inmate numbers stay about the same."
   ]
  },
  {
   "cell_type": "code",
   "execution_count": 52,
   "metadata": {
    "scrolled": false
   },
   "outputs": [
    {
     "data": {
      "text/plain": [
       "<matplotlib.legend.Legend at 0x7fcc3e75c9d0>"
      ]
     },
     "execution_count": 52,
     "metadata": {},
     "output_type": "execute_result"
    },
    {
     "data": {
      "image/png": "[encoded data removed]",
      "text/plain": [
       "<Figure size 1080x720 with 1 Axes>"
      ]
     },
     "metadata": {},
     "output_type": "display_data"
    }
   ],
   "source": [
    "fig_dims = (15, 10)\n",
    "fig, ax = plt.subplots(figsize=fig_dims)\n",
    "sns.set_theme(style=\"darkgrid\")\n",
    "\n",
    "ax = sns.countplot(x=\"SENTENCE BEGIN YEAR\", hue=\"RACE DESC\", ax=ax\n",
    "                   , data=df2000,  \n",
    "                  hue_order=df2000[\"RACE DESC\"].value_counts().iloc[:5].index)\n",
    "plt.xticks(rotation = 45, ha = 'right')\n",
    "plt.legend(title = 'RACE', bbox_to_anchor = (1, 1))"
   ]
  },
  {
   "cell_type": "markdown",
   "metadata": {},
   "source": [
    "## 11. Exploring 2010s Value Counts, Value Averages, and Visualizations "
   ]
  },
  {
   "cell_type": "markdown",
   "metadata": {},
   "source": [
    "### 11.1 General info"
   ]
  },
  {
   "cell_type": "markdown",
   "metadata": {},
   "source": [
    "23514 inmates are listed to be incarcerated in 2010s"
   ]
  },
  {
   "cell_type": "markdown",
   "metadata": {},
   "source": [
    "### 2010s"
   ]
  },
  {
   "cell_type": "code",
   "execution_count": 53,
   "metadata": {},
   "outputs": [
    {
     "name": "stdout",
     "output_type": "stream",
     "text": [
      "<class 'pandas.core.frame.DataFrame'>\n",
      "Int64Index: 23514 entries, 0 to 68582\n",
      "Data columns (total 15 columns):\n",
      " #   Column                  Non-Null Count  Dtype  \n",
      "---  ------                  --------------  -----  \n",
      " 0   ID NUMBER               23514 non-null  int64  \n",
      " 1   DATE OF BIRTH           23514 non-null  object \n",
      " 2   RACE DESC               23514 non-null  object \n",
      " 3   GENDER                  23514 non-null  object \n",
      " 4   FACILITY                7546 non-null   object \n",
      " 5   SENTENCE BEGIN DATE     23514 non-null  object \n",
      " 6   MIN TERM/YEAR           23514 non-null  float64\n",
      " 7   MAX TERM/YEAR           23514 non-null  float64\n",
      " 8   INST RELEASE DATE       20546 non-null  object \n",
      " 9   ACTIVE                  23514 non-null  int64  \n",
      " 10  SENTENCE BEGIN DATE DT  23514 non-null  object \n",
      " 11  DATE OF BIRTH DT        23514 non-null  object \n",
      " 12  SENTENCE BEGIN AGE      23514 non-null  float64\n",
      " 13  CURRENT AGE             23514 non-null  float64\n",
      " 14  SENTENCE BEGIN YEAR     23514 non-null  int64  \n",
      "dtypes: float64(4), int64(3), object(8)\n",
      "memory usage: 2.9+ MB\n"
     ]
    }
   ],
   "source": [
    "df2010.info()"
   ]
  },
  {
   "cell_type": "markdown",
   "metadata": {},
   "source": [
    "### 11.2 Race"
   ]
  },
  {
   "cell_type": "markdown",
   "metadata": {},
   "source": [
    "Black and Hispanic inmates percentages continue to rise."
   ]
  },
  {
   "cell_type": "code",
   "execution_count": 54,
   "metadata": {},
   "outputs": [
    {
     "data": {
      "text/plain": [
       "RACE DESC\n",
       "WHITE                             0.569746\n",
       "BLACK                             0.239942\n",
       "HISPANIC                          0.128859\n",
       "NATIVE AMERICAN                   0.043166\n",
       "OTHER                             0.008591\n",
       "ASIAN                             0.006975\n",
       "                                  0.001956\n",
       "PACIFIC ISLANDER                  0.000723\n",
       "HAWAIIAN ISLANDER                 0.000043\n",
       "dtype: float64"
      ]
     },
     "execution_count": 54,
     "metadata": {},
     "output_type": "execute_result"
    }
   ],
   "source": [
    "df2010.value_counts('RACE DESC', normalize=True)"
   ]
  },
  {
   "cell_type": "markdown",
   "metadata": {},
   "source": [
    "### 11.3 Setence Begin"
   ]
  },
  {
   "cell_type": "markdown",
   "metadata": {},
   "source": [
    "Average inmate begin age rises again"
   ]
  },
  {
   "cell_type": "code",
   "execution_count": 55,
   "metadata": {},
   "outputs": [
    {
     "data": {
      "text/plain": [
       "33.66685052682106"
      ]
     },
     "execution_count": 55,
     "metadata": {},
     "output_type": "execute_result"
    }
   ],
   "source": [
    "df2010['SENTENCE BEGIN AGE'].mean()"
   ]
  },
  {
   "cell_type": "code",
   "execution_count": 56,
   "metadata": {},
   "outputs": [
    {
     "data": {
      "text/plain": [
       "SENTENCE BEGIN YEAR\n",
       "2013    0.111636\n",
       "2012    0.110360\n",
       "2011    0.107170\n",
       "2014    0.105214\n",
       "2010    0.104193\n",
       "2019    0.101344\n",
       "2018    0.093264\n",
       "2017    0.090584\n",
       "2015    0.089776\n",
       "2016    0.086459\n",
       "dtype: float64"
      ]
     },
     "execution_count": 56,
     "metadata": {},
     "output_type": "execute_result"
    }
   ],
   "source": [
    "df2010.value_counts('SENTENCE BEGIN YEAR', normalize=True).head(10)"
   ]
  },
  {
   "cell_type": "markdown",
   "metadata": {},
   "source": [
    "### 11.4 Sentence Min/Max Term"
   ]
  },
  {
   "cell_type": "code",
   "execution_count": 57,
   "metadata": {},
   "outputs": [
    {
     "data": {
      "text/plain": [
       "4.360678744577698"
      ]
     },
     "execution_count": 57,
     "metadata": {},
     "output_type": "execute_result"
    }
   ],
   "source": [
    "df2010['MIN TERM/YEAR'].mean()"
   ]
  },
  {
   "cell_type": "code",
   "execution_count": 58,
   "metadata": {},
   "outputs": [
    {
     "data": {
      "text/plain": [
       "MIN TERM/YEAR\n",
       "1.0     0.300034\n",
       "0.0     0.174109\n",
       "2.0     0.136642\n",
       "3.0     0.109892\n",
       "4.0     0.061240\n",
       "5.0     0.046568\n",
       "6.0     0.032066\n",
       "10.0    0.025176\n",
       "8.0     0.018457\n",
       "7.0     0.011568\n",
       "dtype: float64"
      ]
     },
     "execution_count": 58,
     "metadata": {},
     "output_type": "execute_result"
    }
   ],
   "source": [
    "df2010.value_counts('MIN TERM/YEAR', normalize=True).head(10)"
   ]
  },
  {
   "cell_type": "code",
   "execution_count": 59,
   "metadata": {},
   "outputs": [
    {
     "data": {
      "text/plain": [
       "6.705962405375521"
      ]
     },
     "execution_count": 59,
     "metadata": {},
     "output_type": "execute_result"
    }
   ],
   "source": [
    "df2010['MAX TERM/YEAR'].mean()"
   ]
  },
  {
   "cell_type": "code",
   "execution_count": 60,
   "metadata": {},
   "outputs": [
    {
     "data": {
      "text/plain": [
       "MAX TERM/YEAR\n",
       "1.0     0.156758\n",
       "3.0     0.123118\n",
       "2.0     0.119971\n",
       "0.0     0.111508\n",
       "5.0     0.106107\n",
       "4.0     0.084460\n",
       "6.0     0.055711\n",
       "10.0    0.038743\n",
       "8.0     0.035511\n",
       "7.0     0.020924\n",
       "dtype: float64"
      ]
     },
     "execution_count": 60,
     "metadata": {},
     "output_type": "execute_result"
    }
   ],
   "source": [
    "df2010.value_counts('MAX TERM/YEAR', normalize=True).head(10)"
   ]
  },
  {
   "cell_type": "markdown",
   "metadata": {},
   "source": [
    "### 11.5 Graphs"
   ]
  },
  {
   "cell_type": "markdown",
   "metadata": {},
   "source": [
    "The percentage of black inmates steadily rises over the 2010s. Hispanic inmate numbers stay about the same."
   ]
  },
  {
   "cell_type": "code",
   "execution_count": 61,
   "metadata": {
    "scrolled": false
   },
   "outputs": [
    {
     "data": {
      "text/plain": [
       "<matplotlib.legend.Legend at 0x7fcc3caf8280>"
      ]
     },
     "execution_count": 61,
     "metadata": {},
     "output_type": "execute_result"
    },
    {
     "data": {
      "image/png": "[encoded data removed]",
      "text/plain": [
       "<Figure size 1080x720 with 1 Axes>"
      ]
     },
     "metadata": {},
     "output_type": "display_data"
    }
   ],
   "source": [
    "fig_dims = (15, 10)\n",
    "fig, ax = plt.subplots(figsize=fig_dims)\n",
    "sns.set_theme(style=\"darkgrid\")\n",
    "\n",
    "ax = sns.countplot(x=\"SENTENCE BEGIN YEAR\", hue=\"RACE DESC\", ax=ax\n",
    "                   , data=df2010,  \n",
    "                  hue_order=df2010[\"RACE DESC\"].value_counts().iloc[:5].index)\n",
    "plt.xticks(rotation = 45, ha = 'right')\n",
    "plt.legend(title = 'RACE', bbox_to_anchor = (1, 1))"
   ]
  },
  {
   "cell_type": "markdown",
   "metadata": {},
   "source": [
    "## 12. Exploring Active Inmate Value Counts, Value Averages, and Visualizations "
   ]
  },
  {
   "cell_type": "markdown",
   "metadata": {},
   "source": [
    "### 12.1 General info"
   ]
  },
  {
   "cell_type": "markdown",
   "metadata": {},
   "source": [
    "7406 inmates are listed to be incarcerated in Actives"
   ]
  },
  {
   "cell_type": "markdown",
   "metadata": {},
   "source": [
    "### Actives"
   ]
  },
  {
   "cell_type": "code",
   "execution_count": 62,
   "metadata": {},
   "outputs": [
    {
     "name": "stdout",
     "output_type": "stream",
     "text": [
      "<class 'pandas.core.frame.DataFrame'>\n",
      "Int64Index: 7406 entries, 6 to 67747\n",
      "Data columns (total 15 columns):\n",
      " #   Column                  Non-Null Count  Dtype  \n",
      "---  ------                  --------------  -----  \n",
      " 0   ID NUMBER               7406 non-null   int64  \n",
      " 1   DATE OF BIRTH           7406 non-null   object \n",
      " 2   RACE DESC               7406 non-null   object \n",
      " 3   GENDER                  7406 non-null   object \n",
      " 4   FACILITY                7368 non-null   object \n",
      " 5   SENTENCE BEGIN DATE     7406 non-null   object \n",
      " 6   MIN TERM/YEAR           7406 non-null   float64\n",
      " 7   MAX TERM/YEAR           7406 non-null   float64\n",
      " 8   INST RELEASE DATE       2964 non-null   object \n",
      " 9   ACTIVE                  7406 non-null   int64  \n",
      " 10  SENTENCE BEGIN DATE DT  7406 non-null   object \n",
      " 11  DATE OF BIRTH DT        7406 non-null   object \n",
      " 12  SENTENCE BEGIN AGE      7406 non-null   float64\n",
      " 13  CURRENT AGE             7406 non-null   float64\n",
      " 14  SENTENCE BEGIN YEAR     7406 non-null   int64  \n",
      "dtypes: float64(4), int64(3), object(8)\n",
      "memory usage: 925.8+ KB\n"
     ]
    }
   ],
   "source": [
    "dfActive.info()"
   ]
  },
  {
   "cell_type": "markdown",
   "metadata": {},
   "source": [
    "### 11.2 Race"
   ]
  },
  {
   "cell_type": "markdown",
   "metadata": {},
   "source": [
    "Black and Hispanic inmates percentages are high compared to population"
   ]
  },
  {
   "cell_type": "code",
   "execution_count": 63,
   "metadata": {},
   "outputs": [
    {
     "data": {
      "text/plain": [
       "RACE DESC\n",
       "WHITE                             0.534837\n",
       "BLACK                             0.261140\n",
       "HISPANIC                          0.140697\n",
       "NATIVE AMERICAN                   0.045234\n",
       "ASIAN                             0.008777\n",
       "OTHER                             0.008237\n",
       "PACIFIC ISLANDER                  0.000540\n",
       "                                  0.000540\n",
       "dtype: float64"
      ]
     },
     "execution_count": 63,
     "metadata": {},
     "output_type": "execute_result"
    }
   ],
   "source": [
    "dfActive.value_counts('RACE DESC', normalize=True)"
   ]
  },
  {
   "cell_type": "markdown",
   "metadata": {},
   "source": [
    "### 11.3 Setence Begin"
   ]
  },
  {
   "cell_type": "markdown",
   "metadata": {},
   "source": [
    "Average inmate begin age rises again"
   ]
  },
  {
   "cell_type": "code",
   "execution_count": 64,
   "metadata": {},
   "outputs": [
    {
     "data": {
      "text/plain": [
       "33.84659679859728"
      ]
     },
     "execution_count": 64,
     "metadata": {},
     "output_type": "execute_result"
    }
   ],
   "source": [
    "dfActive['SENTENCE BEGIN AGE'].mean()"
   ]
  },
  {
   "cell_type": "markdown",
   "metadata": {},
   "source": [
    "most were incarcerated in the 2010s"
   ]
  },
  {
   "cell_type": "code",
   "execution_count": 65,
   "metadata": {},
   "outputs": [
    {
     "data": {
      "text/plain": [
       "SENTENCE BEGIN YEAR\n",
       "2019    0.235485\n",
       "2020    0.176344\n",
       "2018    0.143127\n",
       "2017    0.088847\n",
       "2016    0.057656\n",
       "2015    0.046179\n",
       "2014    0.038752\n",
       "2013    0.032541\n",
       "2012    0.027410\n",
       "2011    0.020254\n",
       "dtype: float64"
      ]
     },
     "execution_count": 65,
     "metadata": {},
     "output_type": "execute_result"
    }
   ],
   "source": [
    "dfActive.value_counts('SENTENCE BEGIN YEAR', normalize=True).head(10)"
   ]
  },
  {
   "cell_type": "markdown",
   "metadata": {},
   "source": [
    "### 11.4 Current Age"
   ]
  },
  {
   "cell_type": "code",
   "execution_count": 66,
   "metadata": {},
   "outputs": [
    {
     "data": {
      "text/plain": [
       "38.914736293046474"
      ]
     },
     "execution_count": 66,
     "metadata": {},
     "output_type": "execute_result"
    }
   ],
   "source": [
    "dfActive['CURRENT AGE'].mean()"
   ]
  },
  {
   "cell_type": "markdown",
   "metadata": {},
   "source": [
    "### 11.5 Sentence Min/Max Term"
   ]
  },
  {
   "cell_type": "code",
   "execution_count": 67,
   "metadata": {},
   "outputs": [
    {
     "data": {
      "text/plain": [
       "13.743046178773968"
      ]
     },
     "execution_count": 67,
     "metadata": {},
     "output_type": "execute_result"
    }
   ],
   "source": [
    "dfActive['MIN TERM/YEAR'].mean()"
   ]
  },
  {
   "cell_type": "code",
   "execution_count": 68,
   "metadata": {},
   "outputs": [
    {
     "data": {
      "text/plain": [
       "MIN TERM/YEAR\n",
       "0.0     0.161626\n",
       "3.0     0.088847\n",
       "4.0     0.064677\n",
       "2.0     0.063732\n",
       "10.0    0.061572\n",
       "5.0     0.059411\n",
       "6.0     0.051175\n",
       "20.0    0.043748\n",
       "8.0     0.036862\n",
       "15.0    0.028220\n",
       "dtype: float64"
      ]
     },
     "execution_count": 68,
     "metadata": {},
     "output_type": "execute_result"
    }
   ],
   "source": [
    "dfActive.value_counts('MIN TERM/YEAR', normalize=True).head(10)"
   ]
  },
  {
   "cell_type": "code",
   "execution_count": 69,
   "metadata": {},
   "outputs": [
    {
     "data": {
      "text/plain": [
       "19.598568728058332"
      ]
     },
     "execution_count": 69,
     "metadata": {},
     "output_type": "execute_result"
    }
   ],
   "source": [
    "dfActive['MAX TERM/YEAR'].mean()"
   ]
  },
  {
   "cell_type": "code",
   "execution_count": 70,
   "metadata": {},
   "outputs": [
    {
     "data": {
      "text/plain": [
       "MAX TERM/YEAR\n",
       "0.0     0.098974\n",
       "2.0     0.059006\n",
       "3.0     0.056441\n",
       "20.0    0.055631\n",
       "10.0    0.053335\n",
       "6.0     0.049689\n",
       "8.0     0.047394\n",
       "5.0     0.044558\n",
       "4.0     0.035377\n",
       "12.0    0.034161\n",
       "dtype: float64"
      ]
     },
     "execution_count": 70,
     "metadata": {},
     "output_type": "execute_result"
    }
   ],
   "source": [
    "dfActive.value_counts('MAX TERM/YEAR', normalize=True).head(10)"
   ]
  },
  {
   "cell_type": "markdown",
   "metadata": {},
   "source": [
    "### 11.6 Facility "
   ]
  },
  {
   "cell_type": "code",
   "execution_count": 71,
   "metadata": {},
   "outputs": [
    {
     "data": {
      "text/plain": [
       "FACILITY\n",
       "NEBRASKA STATE PENITENTIARY       0.208605\n",
       "COMMUNITY CORRECTIONS-LINCOLN     0.203176\n",
       "OMAHA CORRECTIONAL CENTER         0.150651\n",
       "TECUMSEH STATE COR INSTITUTION    0.148751\n",
       "LINCOLN CORRECTIONAL CENTER       0.076140\n",
       "DIAGNOSTIC & EVALUATION CENTER    0.065961\n",
       "COMMUNITY CORRECTIONS-OMAHA       0.054425\n",
       "NEBRASKA CORR CENTER FOR WOMEN    0.047503\n",
       "WORK ETHIC CAMP                   0.034338\n",
       "NEBRASKA CORR YOUTH FACILTY       0.010451\n",
       "dtype: float64"
      ]
     },
     "execution_count": 71,
     "metadata": {},
     "output_type": "execute_result"
    }
   ],
   "source": [
    "dfActive.value_counts('FACILITY', normalize=True)"
   ]
  },
  {
   "cell_type": "markdown",
   "metadata": {},
   "source": [
    "### 11.5 Graphs"
   ]
  },
  {
   "cell_type": "markdown",
   "metadata": {},
   "source": [
    "The percentage of black inmates steadily rises over the Actives. Hispanic inmate numbers stay about the same."
   ]
  },
  {
   "cell_type": "code",
   "execution_count": 72,
   "metadata": {},
   "outputs": [
    {
     "data": {
      "text/plain": [
       "<matplotlib.legend.Legend at 0x7fcc3e1e8be0>"
      ]
     },
     "execution_count": 72,
     "metadata": {},
     "output_type": "execute_result"
    },
    {
     "data": {
      "image/png": "[encoded data removed]",
      "text/plain": [
       "<Figure size 1080x720 with 1 Axes>"
      ]
     },
     "metadata": {},
     "output_type": "display_data"
    }
   ],
   "source": [
    "fig_dims = (15, 10)\n",
    "fig, ax = plt.subplots(figsize=fig_dims)\n",
    "sns.set_theme(style=\"darkgrid\")\n",
    "\n",
    "ax = sns.countplot(x=\"SENTENCE BEGIN YEAR\", hue=\"RACE DESC\", ax=ax\n",
    "                   , data=dfActive,  \n",
    "                  hue_order=dfActive[\"RACE DESC\"].value_counts().iloc[:5].index)\n",
    "plt.xticks(rotation = 45, ha = 'right')\n",
    "plt.legend(title = 'RACE', bbox_to_anchor = (1, 1))"
   ]
  },
  {
   "cell_type": "markdown",
   "metadata": {},
   "source": [
    "Since most of the active prisoners are labelled with what facility they are in, another graph was made to show the inmate count of facilites by race."
   ]
  },
  {
   "cell_type": "code",
   "execution_count": 73,
   "metadata": {},
   "outputs": [
    {
     "data": {
      "text/plain": [
       "<matplotlib.legend.Legend at 0x7fcc3f070a00>"
      ]
     },
     "execution_count": 73,
     "metadata": {},
     "output_type": "execute_result"
    },
    {
     "data": {
      "image/png": "[encoded data removed]",
      "text/plain": [
       "<Figure size 1080x720 with 1 Axes>"
      ]
     },
     "metadata": {},
     "output_type": "display_data"
    }
   ],
   "source": [
    "fig_dims = (15, 10)\n",
    "fig, ax = plt.subplots(figsize=fig_dims)\n",
    "sns.set_theme(style=\"darkgrid\")\n",
    "\n",
    "ax = sns.countplot(x=\"FACILITY\", hue=\"RACE DESC\", ax=ax\n",
    "                   , data=dfActive,  \n",
    "                   order=dfActive[\"FACILITY\"].value_counts().iloc[:15].index,\n",
    "                  hue_order=dfActive[\"RACE DESC\"].value_counts().iloc[:5].index)\n",
    "plt.xticks(rotation = 45, ha = 'right')\n",
    "plt.legend(title = 'RACE', bbox_to_anchor = (1, 1))"
   ]
  },
  {
   "cell_type": "markdown",
   "metadata": {},
   "source": [
    "## 13.0 All Values Compared"
   ]
  },
  {
   "cell_type": "markdown",
   "metadata": {},
   "source": [
    "### 13.1 Average Sentence Begin Age"
   ]
  },
  {
   "cell_type": "code",
   "execution_count": 74,
   "metadata": {},
   "outputs": [
    {
     "name": "stdout",
     "output_type": "stream",
     "text": [
      "1980s:\n",
      "28.545750329650527\n",
      "1990s:\n",
      "30.15704491300193\n",
      "2000s:\n",
      "32.253207294264755\n",
      "2010s:\n",
      "33.66685052682106\n",
      "Active:\n",
      "33.84659679859728\n"
     ]
    }
   ],
   "source": [
    "print('1980s:')\n",
    "print(df1980['SENTENCE BEGIN AGE'].mean())\n",
    "\n",
    "print('1990s:')\n",
    "print(df1990['SENTENCE BEGIN AGE'].mean())\n",
    "\n",
    "print('2000s:')\n",
    "print(df2000['SENTENCE BEGIN AGE'].mean())\n",
    "\n",
    "print('2010s:')\n",
    "print(df2010['SENTENCE BEGIN AGE'].mean())\n",
    "\n",
    "print('Active:')\n",
    "print(dfActive['SENTENCE BEGIN AGE'].mean())"
   ]
  },
  {
   "cell_type": "markdown",
   "metadata": {},
   "source": [
    "### 13.2 Average Min/Max Term or Year by Decade"
   ]
  },
  {
   "cell_type": "code",
   "execution_count": 75,
   "metadata": {},
   "outputs": [
    {
     "name": "stdout",
     "output_type": "stream",
     "text": [
      "1980s:\n",
      "2.5947281713344315\n",
      "5.680630736643916\n",
      "1990s:\n",
      "2.926451886392539\n",
      "5.917337855023315\n",
      "2000s:\n",
      "3.3803229110775086\n",
      "5.8596653821764795\n",
      "2010s:\n",
      "4.360678744577698\n",
      "6.705962405375521\n",
      "Active:\n",
      "13.743046178773968\n",
      "19.598568728058332\n"
     ]
    }
   ],
   "source": [
    "print('1980s:')\n",
    "print(df1980['MIN TERM/YEAR'].mean())\n",
    "print(df1980['MAX TERM/YEAR'].mean())\n",
    "\n",
    "print('1990s:')\n",
    "print(df1990['MIN TERM/YEAR'].mean())\n",
    "print(df1990['MAX TERM/YEAR'].mean())\n",
    "\n",
    "print('2000s:')\n",
    "print(df2000['MIN TERM/YEAR'].mean())\n",
    "print(df2000['MAX TERM/YEAR'].mean())\n",
    "\n",
    "print('2010s:')\n",
    "print(df2010['MIN TERM/YEAR'].mean())\n",
    "print(df2010['MAX TERM/YEAR'].mean())\n",
    "\n",
    "print('Active:')\n",
    "print(dfActive['MIN TERM/YEAR'].mean())\n",
    "print(dfActive['MAX TERM/YEAR'].mean())"
   ]
  },
  {
   "cell_type": "markdown",
   "metadata": {},
   "source": [
    "### 13.3 Racial Breakdown of Inmates by Decade"
   ]
  },
  {
   "cell_type": "code",
   "execution_count": 76,
   "metadata": {},
   "outputs": [
    {
     "name": "stdout",
     "output_type": "stream",
     "text": [
      "1980s:\n",
      "RACE DESC\n",
      "WHITE                             0.659802\n",
      "BLACK                             0.251236\n",
      "NATIVE AMERICAN                   0.045187\n",
      "HISPANIC                          0.038127\n",
      "OTHER                             0.005413\n",
      "ASIAN                             0.000118\n",
      "                                  0.000118\n",
      "dtype: float64\n",
      "\n",
      "1990s:\n",
      "RACE DESC\n",
      "WHITE                             0.577646\n",
      "BLACK                             0.270242\n",
      "HISPANIC                          0.102515\n",
      "NATIVE AMERICAN                   0.045217\n",
      "ASIAN                             0.003603\n",
      "OTHER                             0.000777\n",
      "dtype: float64\n",
      "\n",
      "2000s:\n",
      "RACE DESC\n",
      "WHITE                             0.582801\n",
      "BLACK                             0.227355\n",
      "HISPANIC                          0.131555\n",
      "NATIVE AMERICAN                   0.049071\n",
      "ASIAN                             0.006780\n",
      "OTHER                             0.002195\n",
      "                                  0.000146\n",
      "PACIFIC ISLANDER                  0.000098\n",
      "dtype: float64\n",
      "\n",
      "2010s:\n",
      "RACE DESC\n",
      "WHITE                             0.569746\n",
      "BLACK                             0.239942\n",
      "HISPANIC                          0.128859\n",
      "NATIVE AMERICAN                   0.043166\n",
      "OTHER                             0.008591\n",
      "ASIAN                             0.006975\n",
      "                                  0.001956\n",
      "PACIFIC ISLANDER                  0.000723\n",
      "HAWAIIAN ISLANDER                 0.000043\n",
      "dtype: float64\n",
      "\n",
      "Active:\n",
      "RACE DESC\n",
      "WHITE                             0.534837\n",
      "BLACK                             0.261140\n",
      "HISPANIC                          0.140697\n",
      "NATIVE AMERICAN                   0.045234\n",
      "ASIAN                             0.008777\n",
      "OTHER                             0.008237\n",
      "PACIFIC ISLANDER                  0.000540\n",
      "                                  0.000540\n",
      "dtype: float64\n"
     ]
    }
   ],
   "source": [
    "print('1980s:')\n",
    "print(df1980.value_counts('RACE DESC', normalize=True))\n",
    "print()\n",
    "print('1990s:')\n",
    "print(df1990.value_counts('RACE DESC', normalize=True))\n",
    "print()\n",
    "print('2000s:')\n",
    "print(df2000.value_counts('RACE DESC', normalize=True))\n",
    "print()\n",
    "print('2010s:')\n",
    "print(df2010.value_counts('RACE DESC', normalize=True))\n",
    "print()\n",
    "print('Active:')\n",
    "print(dfActive.value_counts('RACE DESC', normalize=True))"
   ]
  },
  {
   "cell_type": "code",
   "execution_count": null,
   "metadata": {},
   "outputs": [],
   "source": []
  }
 ],
 "metadata": {
  "kernelspec": {
   "display_name": "Python 3",
   "language": "python",
   "name": "python3"
  },
  "language_info": {
   "codemirror_mode": {
    "name": "ipython",
    "version": 3
   },
   "file_extension": ".py",
   "mimetype": "text/x-python",
   "name": "python",
   "nbconvert_exporter": "python",
   "pygments_lexer": "ipython3",
   "version": "3.8.5"
  }
 },
 "nbformat": 4,
 "nbformat_minor": 4
}
