{
 "cells": [
  {
   "cell_type": "markdown",
   "metadata": {},
   "source": [
    "## Updated Dataset"
   ]
  },
  {
   "cell_type": "markdown",
   "metadata": {},
   "source": [
    "The data being used was originally from inmate databases aquired from the Nebraska Department of Corrections Public Records. https://dcs-inmatesearch.ne.gov/Corrections/COR_download.htm"
   ]
  },
  {
   "cell_type": "markdown",
   "metadata": {},
   "source": [
    "The Database was modified in NE_inmates_offenses_1.ipynb. It had unnessescary rows deleted, extra rows added for analysis, and was prepared for exploration and visualization. "
   ]
  },
  {
   "cell_type": "markdown",
   "metadata": {},
   "source": [
    "## 1. Load the Data"
   ]
  },
  {
   "cell_type": "markdown",
   "metadata": {},
   "source": [
    "Load the data using Pandas. "
   ]
  },
  {
   "cell_type": "markdown",
   "metadata": {},
   "source": [
    "Pandas read_csv will load the data csv file as a Pandas DataFrame object. "
   ]
  },
  {
   "cell_type": "code",
   "execution_count": 1,
   "metadata": {},
   "outputs": [],
   "source": [
    "import pandas as pd\n",
    "import numpy as np"
   ]
  },
  {
   "cell_type": "code",
   "execution_count": 2,
   "metadata": {},
   "outputs": [],
   "source": [
    "df = pd.read_csv('inmate_updatedClean_offenses.csv')"
   ]
  },
  {
   "cell_type": "markdown",
   "metadata": {},
   "source": [
    "## 2. Check the First Few Rows of Data"
   ]
  },
  {
   "cell_type": "markdown",
   "metadata": {},
   "source": [
    "The DataFrame's first five rows can be viewed using the .head() method"
   ]
  },
  {
   "cell_type": "code",
   "execution_count": 3,
   "metadata": {},
   "outputs": [
    {
     "data": {
      "text/html": [
       "<div>\n",
       "<style scoped>\n",
       "    .dataframe tbody tr th:only-of-type {\n",
       "        vertical-align: middle;\n",
       "    }\n",
       "\n",
       "    .dataframe tbody tr th {\n",
       "        vertical-align: top;\n",
       "    }\n",
       "\n",
       "    .dataframe thead th {\n",
       "        text-align: right;\n",
       "    }\n",
       "</style>\n",
       "<table border=\"1\" class=\"dataframe\">\n",
       "  <thead>\n",
       "    <tr style=\"text-align: right;\">\n",
       "      <th></th>\n",
       "      <th>ID NUMBER</th>\n",
       "      <th>DATE OF BIRTH</th>\n",
       "      <th>RACE DESC</th>\n",
       "      <th>GENDER</th>\n",
       "      <th>FACILITY</th>\n",
       "      <th>SENTENCE BEGIN DATE</th>\n",
       "      <th>MIN TERM/YEAR</th>\n",
       "      <th>MAX TERM/YEAR</th>\n",
       "      <th>INST RELEASE DATE</th>\n",
       "      <th>ACTIVE</th>\n",
       "      <th>...</th>\n",
       "      <th>COUNTY COMMITTED</th>\n",
       "      <th>OFFENSE ARREST CD</th>\n",
       "      <th>OFFENSE ARREST</th>\n",
       "      <th>OFFENSE GROUP</th>\n",
       "      <th>OFFENSE CATEGORY</th>\n",
       "      <th>SENTENCE BEGIN DATE DT</th>\n",
       "      <th>DATE OF BIRTH DT</th>\n",
       "      <th>SENTENCE BEGIN AGE</th>\n",
       "      <th>CURRENT AGE</th>\n",
       "      <th>SENTENCE BEGIN YEAR</th>\n",
       "    </tr>\n",
       "  </thead>\n",
       "  <tbody>\n",
       "    <tr>\n",
       "      <th>0</th>\n",
       "      <td>27642</td>\n",
       "      <td>1955-05-18</td>\n",
       "      <td>BLACK</td>\n",
       "      <td>MALE</td>\n",
       "      <td>NaN</td>\n",
       "      <td>2015-12-01</td>\n",
       "      <td>90</td>\n",
       "      <td>95</td>\n",
       "      <td>2016-08-25</td>\n",
       "      <td>0</td>\n",
       "      <td>...</td>\n",
       "      <td>DOUGLAS</td>\n",
       "      <td>B01</td>\n",
       "      <td>MURDER 1ST DEGREE</td>\n",
       "      <td>Homicide</td>\n",
       "      <td>Person</td>\n",
       "      <td>2015-12-01</td>\n",
       "      <td>1955-05-18</td>\n",
       "      <td>60.580822</td>\n",
       "      <td>65.816438</td>\n",
       "      <td>2015</td>\n",
       "    </tr>\n",
       "    <tr>\n",
       "      <th>1</th>\n",
       "      <td>27642</td>\n",
       "      <td>1955-05-18</td>\n",
       "      <td>BLACK</td>\n",
       "      <td>MALE</td>\n",
       "      <td>NaN</td>\n",
       "      <td>2015-12-01</td>\n",
       "      <td>90</td>\n",
       "      <td>95</td>\n",
       "      <td>2016-08-25</td>\n",
       "      <td>0</td>\n",
       "      <td>...</td>\n",
       "      <td>LANCASTER</td>\n",
       "      <td>B24</td>\n",
       "      <td>SODOMY</td>\n",
       "      <td>Sex Offenses</td>\n",
       "      <td>Sex Offenses</td>\n",
       "      <td>2015-12-01</td>\n",
       "      <td>1955-05-18</td>\n",
       "      <td>60.580822</td>\n",
       "      <td>65.816438</td>\n",
       "      <td>2015</td>\n",
       "    </tr>\n",
       "    <tr>\n",
       "      <th>2</th>\n",
       "      <td>27739</td>\n",
       "      <td>1936-04-06</td>\n",
       "      <td>WHITE</td>\n",
       "      <td>MALE</td>\n",
       "      <td>NaN</td>\n",
       "      <td>1982-11-15</td>\n",
       "      <td>5</td>\n",
       "      <td>11</td>\n",
       "      <td>1986-07-23</td>\n",
       "      <td>0</td>\n",
       "      <td>...</td>\n",
       "      <td>DOUGLAS</td>\n",
       "      <td>D11</td>\n",
       "      <td>BURGLARY</td>\n",
       "      <td>Burglary</td>\n",
       "      <td>Property</td>\n",
       "      <td>1982-11-15</td>\n",
       "      <td>1936-04-06</td>\n",
       "      <td>46.641096</td>\n",
       "      <td>84.942466</td>\n",
       "      <td>1982</td>\n",
       "    </tr>\n",
       "    <tr>\n",
       "      <th>3</th>\n",
       "      <td>27739</td>\n",
       "      <td>1936-04-06</td>\n",
       "      <td>WHITE</td>\n",
       "      <td>MALE</td>\n",
       "      <td>NaN</td>\n",
       "      <td>1982-11-15</td>\n",
       "      <td>5</td>\n",
       "      <td>11</td>\n",
       "      <td>1986-07-23</td>\n",
       "      <td>0</td>\n",
       "      <td>...</td>\n",
       "      <td>DOUGLAS</td>\n",
       "      <td>H50</td>\n",
       "      <td>ESCAPE</td>\n",
       "      <td>Other</td>\n",
       "      <td>Other</td>\n",
       "      <td>1982-11-15</td>\n",
       "      <td>1936-04-06</td>\n",
       "      <td>46.641096</td>\n",
       "      <td>84.942466</td>\n",
       "      <td>1982</td>\n",
       "    </tr>\n",
       "    <tr>\n",
       "      <th>4</th>\n",
       "      <td>27739</td>\n",
       "      <td>1936-04-06</td>\n",
       "      <td>WHITE</td>\n",
       "      <td>MALE</td>\n",
       "      <td>NaN</td>\n",
       "      <td>1982-11-15</td>\n",
       "      <td>5</td>\n",
       "      <td>11</td>\n",
       "      <td>1986-07-23</td>\n",
       "      <td>0</td>\n",
       "      <td>...</td>\n",
       "      <td>DOUGLAS</td>\n",
       "      <td>D11</td>\n",
       "      <td>BURGLARY</td>\n",
       "      <td>Burglary</td>\n",
       "      <td>Property</td>\n",
       "      <td>1982-11-15</td>\n",
       "      <td>1936-04-06</td>\n",
       "      <td>46.641096</td>\n",
       "      <td>84.942466</td>\n",
       "      <td>1982</td>\n",
       "    </tr>\n",
       "  </tbody>\n",
       "</table>\n",
       "<p>5 rows × 28 columns</p>\n",
       "</div>"
      ],
      "text/plain": [
       "   ID NUMBER DATE OF BIRTH                       RACE DESC GENDER FACILITY  \\\n",
       "0      27642    1955-05-18  BLACK                            MALE      NaN   \n",
       "1      27642    1955-05-18  BLACK                            MALE      NaN   \n",
       "2      27739    1936-04-06  WHITE                            MALE      NaN   \n",
       "3      27739    1936-04-06  WHITE                            MALE      NaN   \n",
       "4      27739    1936-04-06  WHITE                            MALE      NaN   \n",
       "\n",
       "  SENTENCE BEGIN DATE MIN TERM/YEAR MAX TERM/YEAR INST RELEASE DATE  ACTIVE  \\\n",
       "0          2015-12-01            90            95        2016-08-25       0   \n",
       "1          2015-12-01            90            95        2016-08-25       0   \n",
       "2          1982-11-15             5            11        1986-07-23       0   \n",
       "3          1982-11-15             5            11        1986-07-23       0   \n",
       "4          1982-11-15             5            11        1986-07-23       0   \n",
       "\n",
       "   ...  COUNTY COMMITTED  OFFENSE ARREST CD     OFFENSE ARREST OFFENSE GROUP  \\\n",
       "0  ...           DOUGLAS                B01  MURDER 1ST DEGREE      Homicide   \n",
       "1  ...         LANCASTER                B24             SODOMY  Sex Offenses   \n",
       "2  ...           DOUGLAS                D11           BURGLARY      Burglary   \n",
       "3  ...           DOUGLAS                H50             ESCAPE         Other   \n",
       "4  ...           DOUGLAS                D11           BURGLARY      Burglary   \n",
       "\n",
       "  OFFENSE CATEGORY SENTENCE BEGIN DATE DT DATE OF BIRTH DT SENTENCE BEGIN AGE  \\\n",
       "0           Person             2015-12-01       1955-05-18          60.580822   \n",
       "1     Sex Offenses             2015-12-01       1955-05-18          60.580822   \n",
       "2         Property             1982-11-15       1936-04-06          46.641096   \n",
       "3            Other             1982-11-15       1936-04-06          46.641096   \n",
       "4         Property             1982-11-15       1936-04-06          46.641096   \n",
       "\n",
       "  CURRENT AGE SENTENCE BEGIN YEAR  \n",
       "0   65.816438                2015  \n",
       "1   65.816438                2015  \n",
       "2   84.942466                1982  \n",
       "3   84.942466                1982  \n",
       "4   84.942466                1982  \n",
       "\n",
       "[5 rows x 28 columns]"
      ]
     },
     "execution_count": 3,
     "metadata": {},
     "output_type": "execute_result"
    }
   ],
   "source": [
    "df.head()"
   ]
  },
  {
   "cell_type": "markdown",
   "metadata": {},
   "source": [
    "## 3. Description of Data"
   ]
  },
  {
   "cell_type": "markdown",
   "metadata": {},
   "source": [
    "The DataFrame info() method is used to see helpful descriptions of the data, such as the column name and number of rows. The 'Non-Null Count' is the number of rows that have a value for that particular column. The 'Dtype' is the data type found within each column. An int64 is an integer, an object type is usually written text, and datetime64 is a date time value. "
   ]
  },
  {
   "cell_type": "code",
   "execution_count": 4,
   "metadata": {},
   "outputs": [
    {
     "name": "stdout",
     "output_type": "stream",
     "text": [
      "<class 'pandas.core.frame.DataFrame'>\n",
      "RangeIndex: 114765 entries, 0 to 114764\n",
      "Data columns (total 28 columns):\n",
      " #   Column                        Non-Null Count   Dtype  \n",
      "---  ------                        --------------   -----  \n",
      " 0   ID NUMBER                     114765 non-null  int64  \n",
      " 1   DATE OF BIRTH                 114765 non-null  object \n",
      " 2   RACE DESC                     114765 non-null  object \n",
      " 3   GENDER                        114765 non-null  object \n",
      " 4   FACILITY                      24703 non-null   object \n",
      " 5   SENTENCE BEGIN DATE           114765 non-null  object \n",
      " 6   MIN TERM/YEAR                 114765 non-null  object \n",
      " 7   MAX TERM/YEAR                 114765 non-null  object \n",
      " 8   INST RELEASE DATE             103618 non-null  object \n",
      " 9   ACTIVE                        114765 non-null  int64  \n",
      " 10  OFFENSE MINIMUM YEAR OR TERM  114765 non-null  float64\n",
      " 11  OFFENSE MAXIMUM YEAR OR TERM  114765 non-null  float64\n",
      " 12  OFFENSE ARREST DESC           114765 non-null  object \n",
      " 13  FELONY MSDMNR CODE            104698 non-null  object \n",
      " 14  OFFENSE TYPE CODE             114765 non-null  object \n",
      " 15  OFFENSE ATTEMPT DESC          15549 non-null   object \n",
      " 16  HABITUAL CRIMINAL             675 non-null     object \n",
      " 17  OFFENSE RUN CODE              92414 non-null   object \n",
      " 18  COUNTY COMMITTED              114746 non-null  object \n",
      " 19  OFFENSE ARREST CD             114735 non-null  object \n",
      " 20  OFFENSE ARREST                114735 non-null  object \n",
      " 21  OFFENSE GROUP                 114765 non-null  object \n",
      " 22  OFFENSE CATEGORY              114735 non-null  object \n",
      " 23  SENTENCE BEGIN DATE DT        114765 non-null  object \n",
      " 24  DATE OF BIRTH DT              114765 non-null  object \n",
      " 25  SENTENCE BEGIN AGE            114765 non-null  float64\n",
      " 26  CURRENT AGE                   114765 non-null  float64\n",
      " 27  SENTENCE BEGIN YEAR           114765 non-null  int64  \n",
      "dtypes: float64(4), int64(3), object(21)\n",
      "memory usage: 24.5+ MB\n"
     ]
    }
   ],
   "source": [
    "df.info()"
   ]
  },
  {
   "cell_type": "markdown",
   "metadata": {},
   "source": [
    "## 4. Creating An Active Inmate DataFrame"
   ]
  },
  {
   "cell_type": "markdown",
   "metadata": {},
   "source": [
    "A new DataFrame containing only active inmates can be created by making a new DataFrame from the same info as before but selecting only inmates marked active."
   ]
  },
  {
   "cell_type": "code",
   "execution_count": 5,
   "metadata": {},
   "outputs": [],
   "source": [
    "dfActive = df[df.ACTIVE == 1]"
   ]
  },
  {
   "cell_type": "code",
   "execution_count": 6,
   "metadata": {},
   "outputs": [
    {
     "data": {
      "text/html": [
       "<div>\n",
       "<style scoped>\n",
       "    .dataframe tbody tr th:only-of-type {\n",
       "        vertical-align: middle;\n",
       "    }\n",
       "\n",
       "    .dataframe tbody tr th {\n",
       "        vertical-align: top;\n",
       "    }\n",
       "\n",
       "    .dataframe thead th {\n",
       "        text-align: right;\n",
       "    }\n",
       "</style>\n",
       "<table border=\"1\" class=\"dataframe\">\n",
       "  <thead>\n",
       "    <tr style=\"text-align: right;\">\n",
       "      <th></th>\n",
       "      <th>ID NUMBER</th>\n",
       "      <th>DATE OF BIRTH</th>\n",
       "      <th>RACE DESC</th>\n",
       "      <th>GENDER</th>\n",
       "      <th>FACILITY</th>\n",
       "      <th>SENTENCE BEGIN DATE</th>\n",
       "      <th>MIN TERM/YEAR</th>\n",
       "      <th>MAX TERM/YEAR</th>\n",
       "      <th>INST RELEASE DATE</th>\n",
       "      <th>ACTIVE</th>\n",
       "      <th>...</th>\n",
       "      <th>COUNTY COMMITTED</th>\n",
       "      <th>OFFENSE ARREST CD</th>\n",
       "      <th>OFFENSE ARREST</th>\n",
       "      <th>OFFENSE GROUP</th>\n",
       "      <th>OFFENSE CATEGORY</th>\n",
       "      <th>SENTENCE BEGIN DATE DT</th>\n",
       "      <th>DATE OF BIRTH DT</th>\n",
       "      <th>SENTENCE BEGIN AGE</th>\n",
       "      <th>CURRENT AGE</th>\n",
       "      <th>SENTENCE BEGIN YEAR</th>\n",
       "    </tr>\n",
       "  </thead>\n",
       "  <tbody>\n",
       "    <tr>\n",
       "      <th>23</th>\n",
       "      <td>29333</td>\n",
       "      <td>1956-07-22</td>\n",
       "      <td>WHITE</td>\n",
       "      <td>MALE</td>\n",
       "      <td>LINCOLN CORRECTIONAL CENTER</td>\n",
       "      <td>2017-02-03</td>\n",
       "      <td>110</td>\n",
       "      <td>126</td>\n",
       "      <td>NaN</td>\n",
       "      <td>1</td>\n",
       "      <td>...</td>\n",
       "      <td>DOUGLAS</td>\n",
       "      <td>B01</td>\n",
       "      <td>MURDER 1ST DEGREE</td>\n",
       "      <td>Homicide</td>\n",
       "      <td>Person</td>\n",
       "      <td>2017-02-03</td>\n",
       "      <td>1956-07-22</td>\n",
       "      <td>60.578082</td>\n",
       "      <td>64.635616</td>\n",
       "      <td>2017</td>\n",
       "    </tr>\n",
       "    <tr>\n",
       "      <th>40</th>\n",
       "      <td>31404</td>\n",
       "      <td>1960-09-14</td>\n",
       "      <td>WHITE</td>\n",
       "      <td>MALE</td>\n",
       "      <td>TECUMSEH STATE COR INSTITUTION</td>\n",
       "      <td>2017-01-03</td>\n",
       "      <td>83</td>\n",
       "      <td>132</td>\n",
       "      <td>NaN</td>\n",
       "      <td>1</td>\n",
       "      <td>...</td>\n",
       "      <td>HALL</td>\n",
       "      <td>B01</td>\n",
       "      <td>MURDER 1ST DEGREE</td>\n",
       "      <td>Homicide</td>\n",
       "      <td>Person</td>\n",
       "      <td>2017-01-03</td>\n",
       "      <td>1960-09-14</td>\n",
       "      <td>56.342466</td>\n",
       "      <td>60.484932</td>\n",
       "      <td>2017</td>\n",
       "    </tr>\n",
       "    <tr>\n",
       "      <th>41</th>\n",
       "      <td>31404</td>\n",
       "      <td>1960-09-14</td>\n",
       "      <td>WHITE</td>\n",
       "      <td>MALE</td>\n",
       "      <td>TECUMSEH STATE COR INSTITUTION</td>\n",
       "      <td>2017-01-03</td>\n",
       "      <td>83</td>\n",
       "      <td>132</td>\n",
       "      <td>NaN</td>\n",
       "      <td>1</td>\n",
       "      <td>...</td>\n",
       "      <td>LANCASTER</td>\n",
       "      <td>B11</td>\n",
       "      <td>ASSAULT 1ST DEGREE</td>\n",
       "      <td>Assault</td>\n",
       "      <td>Person</td>\n",
       "      <td>2017-01-03</td>\n",
       "      <td>1960-09-14</td>\n",
       "      <td>56.342466</td>\n",
       "      <td>60.484932</td>\n",
       "      <td>2017</td>\n",
       "    </tr>\n",
       "    <tr>\n",
       "      <th>42</th>\n",
       "      <td>31404</td>\n",
       "      <td>1960-09-14</td>\n",
       "      <td>WHITE</td>\n",
       "      <td>MALE</td>\n",
       "      <td>TECUMSEH STATE COR INSTITUTION</td>\n",
       "      <td>2017-01-03</td>\n",
       "      <td>83</td>\n",
       "      <td>132</td>\n",
       "      <td>NaN</td>\n",
       "      <td>1</td>\n",
       "      <td>...</td>\n",
       "      <td>LANCASTER</td>\n",
       "      <td>B11</td>\n",
       "      <td>ASSAULT 1ST DEGREE</td>\n",
       "      <td>Assault</td>\n",
       "      <td>Person</td>\n",
       "      <td>2017-01-03</td>\n",
       "      <td>1960-09-14</td>\n",
       "      <td>56.342466</td>\n",
       "      <td>60.484932</td>\n",
       "      <td>2017</td>\n",
       "    </tr>\n",
       "    <tr>\n",
       "      <th>43</th>\n",
       "      <td>31404</td>\n",
       "      <td>1960-09-14</td>\n",
       "      <td>WHITE</td>\n",
       "      <td>MALE</td>\n",
       "      <td>TECUMSEH STATE COR INSTITUTION</td>\n",
       "      <td>2017-01-03</td>\n",
       "      <td>83</td>\n",
       "      <td>132</td>\n",
       "      <td>NaN</td>\n",
       "      <td>1</td>\n",
       "      <td>...</td>\n",
       "      <td>LANCASTER</td>\n",
       "      <td>K02</td>\n",
       "      <td>USE FIREARM TO COMMIT FELONY</td>\n",
       "      <td>Weapons</td>\n",
       "      <td>Person</td>\n",
       "      <td>2017-01-03</td>\n",
       "      <td>1960-09-14</td>\n",
       "      <td>56.342466</td>\n",
       "      <td>60.484932</td>\n",
       "      <td>2017</td>\n",
       "    </tr>\n",
       "  </tbody>\n",
       "</table>\n",
       "<p>5 rows × 28 columns</p>\n",
       "</div>"
      ],
      "text/plain": [
       "    ID NUMBER DATE OF BIRTH                       RACE DESC GENDER  \\\n",
       "23      29333    1956-07-22  WHITE                            MALE   \n",
       "40      31404    1960-09-14  WHITE                            MALE   \n",
       "41      31404    1960-09-14  WHITE                            MALE   \n",
       "42      31404    1960-09-14  WHITE                            MALE   \n",
       "43      31404    1960-09-14  WHITE                            MALE   \n",
       "\n",
       "                          FACILITY SENTENCE BEGIN DATE MIN TERM/YEAR  \\\n",
       "23  LINCOLN CORRECTIONAL CENTER             2017-02-03           110   \n",
       "40  TECUMSEH STATE COR INSTITUTION          2017-01-03            83   \n",
       "41  TECUMSEH STATE COR INSTITUTION          2017-01-03            83   \n",
       "42  TECUMSEH STATE COR INSTITUTION          2017-01-03            83   \n",
       "43  TECUMSEH STATE COR INSTITUTION          2017-01-03            83   \n",
       "\n",
       "   MAX TERM/YEAR INST RELEASE DATE  ACTIVE  ...  COUNTY COMMITTED  \\\n",
       "23           126               NaN       1  ...           DOUGLAS   \n",
       "40           132               NaN       1  ...              HALL   \n",
       "41           132               NaN       1  ...         LANCASTER   \n",
       "42           132               NaN       1  ...         LANCASTER   \n",
       "43           132               NaN       1  ...         LANCASTER   \n",
       "\n",
       "    OFFENSE ARREST CD                OFFENSE ARREST OFFENSE GROUP  \\\n",
       "23                B01             MURDER 1ST DEGREE      Homicide   \n",
       "40                B01             MURDER 1ST DEGREE      Homicide   \n",
       "41                B11            ASSAULT 1ST DEGREE       Assault   \n",
       "42                B11            ASSAULT 1ST DEGREE       Assault   \n",
       "43                K02  USE FIREARM TO COMMIT FELONY       Weapons   \n",
       "\n",
       "   OFFENSE CATEGORY SENTENCE BEGIN DATE DT DATE OF BIRTH DT  \\\n",
       "23           Person             2017-02-03       1956-07-22   \n",
       "40           Person             2017-01-03       1960-09-14   \n",
       "41           Person             2017-01-03       1960-09-14   \n",
       "42           Person             2017-01-03       1960-09-14   \n",
       "43           Person             2017-01-03       1960-09-14   \n",
       "\n",
       "   SENTENCE BEGIN AGE CURRENT AGE SENTENCE BEGIN YEAR  \n",
       "23          60.578082   64.635616                2017  \n",
       "40          56.342466   60.484932                2017  \n",
       "41          56.342466   60.484932                2017  \n",
       "42          56.342466   60.484932                2017  \n",
       "43          56.342466   60.484932                2017  \n",
       "\n",
       "[5 rows x 28 columns]"
      ]
     },
     "execution_count": 6,
     "metadata": {},
     "output_type": "execute_result"
    }
   ],
   "source": [
    "dfActive.head()"
   ]
  },
  {
   "cell_type": "code",
   "execution_count": 7,
   "metadata": {},
   "outputs": [
    {
     "name": "stdout",
     "output_type": "stream",
     "text": [
      "<class 'pandas.core.frame.DataFrame'>\n",
      "Int64Index: 17599 entries, 23 to 113609\n",
      "Data columns (total 28 columns):\n",
      " #   Column                        Non-Null Count  Dtype  \n",
      "---  ------                        --------------  -----  \n",
      " 0   ID NUMBER                     17599 non-null  int64  \n",
      " 1   DATE OF BIRTH                 17599 non-null  object \n",
      " 2   RACE DESC                     17599 non-null  object \n",
      " 3   GENDER                        17599 non-null  object \n",
      " 4   FACILITY                      17513 non-null  object \n",
      " 5   SENTENCE BEGIN DATE           17599 non-null  object \n",
      " 6   MIN TERM/YEAR                 17599 non-null  object \n",
      " 7   MAX TERM/YEAR                 17599 non-null  object \n",
      " 8   INST RELEASE DATE             7320 non-null   object \n",
      " 9   ACTIVE                        17599 non-null  int64  \n",
      " 10  OFFENSE MINIMUM YEAR OR TERM  17599 non-null  float64\n",
      " 11  OFFENSE MAXIMUM YEAR OR TERM  17599 non-null  float64\n",
      " 12  OFFENSE ARREST DESC           17599 non-null  object \n",
      " 13  FELONY MSDMNR CODE            17590 non-null  object \n",
      " 14  OFFENSE TYPE CODE             17599 non-null  object \n",
      " 15  OFFENSE ATTEMPT DESC          2798 non-null   object \n",
      " 16  HABITUAL CRIMINAL             426 non-null    object \n",
      " 17  OFFENSE RUN CODE              11237 non-null  object \n",
      " 18  COUNTY COMMITTED              17599 non-null  object \n",
      " 19  OFFENSE ARREST CD             17599 non-null  object \n",
      " 20  OFFENSE ARREST                17599 non-null  object \n",
      " 21  OFFENSE GROUP                 17599 non-null  object \n",
      " 22  OFFENSE CATEGORY              17599 non-null  object \n",
      " 23  SENTENCE BEGIN DATE DT        17599 non-null  object \n",
      " 24  DATE OF BIRTH DT              17599 non-null  object \n",
      " 25  SENTENCE BEGIN AGE            17599 non-null  float64\n",
      " 26  CURRENT AGE                   17599 non-null  float64\n",
      " 27  SENTENCE BEGIN YEAR           17599 non-null  int64  \n",
      "dtypes: float64(4), int64(3), object(21)\n",
      "memory usage: 3.9+ MB\n"
     ]
    }
   ],
   "source": [
    "dfActive.info()"
   ]
  },
  {
   "cell_type": "markdown",
   "metadata": {},
   "source": [
    "## 5. Creating a New DataFrame for each Decade"
   ]
  },
  {
   "cell_type": "markdown",
   "metadata": {},
   "source": [
    "Each decade is separted out into their own DataFrame by selecting only inmates incarcerated within that time span. "
   ]
  },
  {
   "cell_type": "code",
   "execution_count": 8,
   "metadata": {},
   "outputs": [],
   "source": [
    "#1980s decade\n",
    "d1980 = (df['SENTENCE BEGIN YEAR'] > 1979) & (df['SENTENCE BEGIN YEAR'] <= 1989)\n",
    "df1980 = pd.DataFrame(df.loc[d1980])"
   ]
  },
  {
   "cell_type": "code",
   "execution_count": 9,
   "metadata": {},
   "outputs": [],
   "source": [
    "#1990s decade\n",
    "d1990 = (df['SENTENCE BEGIN YEAR'] > 1989) & (df['SENTENCE BEGIN YEAR'] <= 1999)\n",
    "df1990 = pd.DataFrame(df.loc[d1990])"
   ]
  },
  {
   "cell_type": "code",
   "execution_count": 10,
   "metadata": {},
   "outputs": [],
   "source": [
    "#2000s decade\n",
    "d2000 = (df['SENTENCE BEGIN YEAR'] > 1999) & (df['SENTENCE BEGIN YEAR'] <= 2009)\n",
    "df2000 = pd.DataFrame(df.loc[d2000])"
   ]
  },
  {
   "cell_type": "code",
   "execution_count": 11,
   "metadata": {},
   "outputs": [],
   "source": [
    "#2010s decade\n",
    "d2010 = (df['SENTENCE BEGIN YEAR'] > 2009) & (df['SENTENCE BEGIN YEAR'] <= 2019)\n",
    "df2010 = pd.DataFrame(df.loc[d2010])"
   ]
  },
  {
   "cell_type": "markdown",
   "metadata": {},
   "source": [
    "## 6. Viewing the Data"
   ]
  },
  {
   "cell_type": "markdown",
   "metadata": {},
   "source": [
    "The DataFrame describe method helps us take a broad look at the numerical data. It shows the count, mean, standard deviation, maximum and minimum values"
   ]
  },
  {
   "cell_type": "markdown",
   "metadata": {},
   "source": [
    "The noteworthy numbers are the mean, min, and max values for OFFENSE MINIMUM / MAXIMUM YEAR OR TERM, SENTENCE BEGIN AGE, and CURRENT AGE "
   ]
  },
  {
   "cell_type": "code",
   "execution_count": 12,
   "metadata": {},
   "outputs": [
    {
     "data": {
      "text/html": [
       "<div>\n",
       "<style scoped>\n",
       "    .dataframe tbody tr th:only-of-type {\n",
       "        vertical-align: middle;\n",
       "    }\n",
       "\n",
       "    .dataframe tbody tr th {\n",
       "        vertical-align: top;\n",
       "    }\n",
       "\n",
       "    .dataframe thead th {\n",
       "        text-align: right;\n",
       "    }\n",
       "</style>\n",
       "<table border=\"1\" class=\"dataframe\">\n",
       "  <thead>\n",
       "    <tr style=\"text-align: right;\">\n",
       "      <th></th>\n",
       "      <th>ID NUMBER</th>\n",
       "      <th>ACTIVE</th>\n",
       "      <th>OFFENSE MINIMUM YEAR OR TERM</th>\n",
       "      <th>OFFENSE MAXIMUM YEAR OR TERM</th>\n",
       "      <th>SENTENCE BEGIN AGE</th>\n",
       "      <th>CURRENT AGE</th>\n",
       "      <th>SENTENCE BEGIN YEAR</th>\n",
       "    </tr>\n",
       "  </thead>\n",
       "  <tbody>\n",
       "    <tr>\n",
       "      <th>count</th>\n",
       "      <td>114765.000000</td>\n",
       "      <td>114765.000000</td>\n",
       "      <td>114765.000000</td>\n",
       "      <td>114765.000000</td>\n",
       "      <td>114765.000000</td>\n",
       "      <td>114765.000000</td>\n",
       "      <td>114765.000000</td>\n",
       "    </tr>\n",
       "    <tr>\n",
       "      <th>mean</th>\n",
       "      <td>79649.905755</td>\n",
       "      <td>0.153348</td>\n",
       "      <td>2.390799</td>\n",
       "      <td>4.255914</td>\n",
       "      <td>31.624433</td>\n",
       "      <td>47.372353</td>\n",
       "      <td>2004.917301</td>\n",
       "    </tr>\n",
       "    <tr>\n",
       "      <th>std</th>\n",
       "      <td>60996.021658</td>\n",
       "      <td>0.360324</td>\n",
       "      <td>5.417411</td>\n",
       "      <td>6.977242</td>\n",
       "      <td>10.301393</td>\n",
       "      <td>13.335310</td>\n",
       "      <td>10.519024</td>\n",
       "    </tr>\n",
       "    <tr>\n",
       "      <th>min</th>\n",
       "      <td>27642.000000</td>\n",
       "      <td>0.000000</td>\n",
       "      <td>0.000000</td>\n",
       "      <td>0.000000</td>\n",
       "      <td>13.660274</td>\n",
       "      <td>16.789041</td>\n",
       "      <td>1980.000000</td>\n",
       "    </tr>\n",
       "    <tr>\n",
       "      <th>25%</th>\n",
       "      <td>51834.000000</td>\n",
       "      <td>0.000000</td>\n",
       "      <td>0.000000</td>\n",
       "      <td>1.000000</td>\n",
       "      <td>23.210959</td>\n",
       "      <td>36.958904</td>\n",
       "      <td>1997.000000</td>\n",
       "    </tr>\n",
       "    <tr>\n",
       "      <th>50%</th>\n",
       "      <td>69025.000000</td>\n",
       "      <td>0.000000</td>\n",
       "      <td>1.000000</td>\n",
       "      <td>3.000000</td>\n",
       "      <td>29.597260</td>\n",
       "      <td>46.471233</td>\n",
       "      <td>2007.000000</td>\n",
       "    </tr>\n",
       "    <tr>\n",
       "      <th>75%</th>\n",
       "      <td>85383.000000</td>\n",
       "      <td>0.000000</td>\n",
       "      <td>2.000000</td>\n",
       "      <td>5.000000</td>\n",
       "      <td>38.024658</td>\n",
       "      <td>57.216438</td>\n",
       "      <td>2014.000000</td>\n",
       "    </tr>\n",
       "    <tr>\n",
       "      <th>max</th>\n",
       "      <td>502235.000000</td>\n",
       "      <td>1.000000</td>\n",
       "      <td>201.000000</td>\n",
       "      <td>126.000000</td>\n",
       "      <td>90.027397</td>\n",
       "      <td>121.213699</td>\n",
       "      <td>2020.000000</td>\n",
       "    </tr>\n",
       "  </tbody>\n",
       "</table>\n",
       "</div>"
      ],
      "text/plain": [
       "           ID NUMBER         ACTIVE  OFFENSE MINIMUM YEAR OR TERM  \\\n",
       "count  114765.000000  114765.000000                 114765.000000   \n",
       "mean    79649.905755       0.153348                      2.390799   \n",
       "std     60996.021658       0.360324                      5.417411   \n",
       "min     27642.000000       0.000000                      0.000000   \n",
       "25%     51834.000000       0.000000                      0.000000   \n",
       "50%     69025.000000       0.000000                      1.000000   \n",
       "75%     85383.000000       0.000000                      2.000000   \n",
       "max    502235.000000       1.000000                    201.000000   \n",
       "\n",
       "       OFFENSE MAXIMUM YEAR OR TERM  SENTENCE BEGIN AGE    CURRENT AGE  \\\n",
       "count                 114765.000000       114765.000000  114765.000000   \n",
       "mean                       4.255914           31.624433      47.372353   \n",
       "std                        6.977242           10.301393      13.335310   \n",
       "min                        0.000000           13.660274      16.789041   \n",
       "25%                        1.000000           23.210959      36.958904   \n",
       "50%                        3.000000           29.597260      46.471233   \n",
       "75%                        5.000000           38.024658      57.216438   \n",
       "max                      126.000000           90.027397     121.213699   \n",
       "\n",
       "       SENTENCE BEGIN YEAR  \n",
       "count        114765.000000  \n",
       "mean           2004.917301  \n",
       "std              10.519024  \n",
       "min            1980.000000  \n",
       "25%            1997.000000  \n",
       "50%            2007.000000  \n",
       "75%            2014.000000  \n",
       "max            2020.000000  "
      ]
     },
     "execution_count": 12,
     "metadata": {},
     "output_type": "execute_result"
    }
   ],
   "source": [
    "df.describe()"
   ]
  },
  {
   "cell_type": "markdown",
   "metadata": {},
   "source": [
    "The same method is used with the active inmate database"
   ]
  },
  {
   "cell_type": "code",
   "execution_count": 13,
   "metadata": {},
   "outputs": [
    {
     "data": {
      "text/html": [
       "<div>\n",
       "<style scoped>\n",
       "    .dataframe tbody tr th:only-of-type {\n",
       "        vertical-align: middle;\n",
       "    }\n",
       "\n",
       "    .dataframe tbody tr th {\n",
       "        vertical-align: top;\n",
       "    }\n",
       "\n",
       "    .dataframe thead th {\n",
       "        text-align: right;\n",
       "    }\n",
       "</style>\n",
       "<table border=\"1\" class=\"dataframe\">\n",
       "  <thead>\n",
       "    <tr style=\"text-align: right;\">\n",
       "      <th></th>\n",
       "      <th>ID NUMBER</th>\n",
       "      <th>ACTIVE</th>\n",
       "      <th>OFFENSE MINIMUM YEAR OR TERM</th>\n",
       "      <th>OFFENSE MAXIMUM YEAR OR TERM</th>\n",
       "      <th>SENTENCE BEGIN AGE</th>\n",
       "      <th>CURRENT AGE</th>\n",
       "      <th>SENTENCE BEGIN YEAR</th>\n",
       "    </tr>\n",
       "  </thead>\n",
       "  <tbody>\n",
       "    <tr>\n",
       "      <th>count</th>\n",
       "      <td>17599.000000</td>\n",
       "      <td>17599.0</td>\n",
       "      <td>17599.000000</td>\n",
       "      <td>17599.000000</td>\n",
       "      <td>17599.000000</td>\n",
       "      <td>17599.000000</td>\n",
       "      <td>17599.000000</td>\n",
       "    </tr>\n",
       "    <tr>\n",
       "      <th>mean</th>\n",
       "      <td>119238.296153</td>\n",
       "      <td>1.0</td>\n",
       "      <td>6.679414</td>\n",
       "      <td>9.735155</td>\n",
       "      <td>33.009940</td>\n",
       "      <td>38.736174</td>\n",
       "      <td>2014.929769</td>\n",
       "    </tr>\n",
       "    <tr>\n",
       "      <th>std</th>\n",
       "      <td>77429.691425</td>\n",
       "      <td>0.0</td>\n",
       "      <td>11.233629</td>\n",
       "      <td>13.895484</td>\n",
       "      <td>10.646788</td>\n",
       "      <td>11.657834</td>\n",
       "      <td>6.576930</td>\n",
       "    </tr>\n",
       "    <tr>\n",
       "      <th>min</th>\n",
       "      <td>29333.000000</td>\n",
       "      <td>1.0</td>\n",
       "      <td>0.000000</td>\n",
       "      <td>0.000000</td>\n",
       "      <td>15.095890</td>\n",
       "      <td>16.789041</td>\n",
       "      <td>1980.000000</td>\n",
       "    </tr>\n",
       "    <tr>\n",
       "      <th>25%</th>\n",
       "      <td>79149.500000</td>\n",
       "      <td>1.0</td>\n",
       "      <td>0.000000</td>\n",
       "      <td>1.000000</td>\n",
       "      <td>24.693151</td>\n",
       "      <td>29.868493</td>\n",
       "      <td>2013.000000</td>\n",
       "    </tr>\n",
       "    <tr>\n",
       "      <th>50%</th>\n",
       "      <td>87238.000000</td>\n",
       "      <td>1.0</td>\n",
       "      <td>2.000000</td>\n",
       "      <td>4.000000</td>\n",
       "      <td>31.180822</td>\n",
       "      <td>36.731507</td>\n",
       "      <td>2018.000000</td>\n",
       "    </tr>\n",
       "    <tr>\n",
       "      <th>75%</th>\n",
       "      <td>99898.000000</td>\n",
       "      <td>1.0</td>\n",
       "      <td>8.000000</td>\n",
       "      <td>12.000000</td>\n",
       "      <td>39.087671</td>\n",
       "      <td>45.561644</td>\n",
       "      <td>2019.000000</td>\n",
       "    </tr>\n",
       "    <tr>\n",
       "      <th>max</th>\n",
       "      <td>392481.000000</td>\n",
       "      <td>1.0</td>\n",
       "      <td>110.000000</td>\n",
       "      <td>126.000000</td>\n",
       "      <td>86.271233</td>\n",
       "      <td>90.715068</td>\n",
       "      <td>2020.000000</td>\n",
       "    </tr>\n",
       "  </tbody>\n",
       "</table>\n",
       "</div>"
      ],
      "text/plain": [
       "           ID NUMBER   ACTIVE  OFFENSE MINIMUM YEAR OR TERM  \\\n",
       "count   17599.000000  17599.0                  17599.000000   \n",
       "mean   119238.296153      1.0                      6.679414   \n",
       "std     77429.691425      0.0                     11.233629   \n",
       "min     29333.000000      1.0                      0.000000   \n",
       "25%     79149.500000      1.0                      0.000000   \n",
       "50%     87238.000000      1.0                      2.000000   \n",
       "75%     99898.000000      1.0                      8.000000   \n",
       "max    392481.000000      1.0                    110.000000   \n",
       "\n",
       "       OFFENSE MAXIMUM YEAR OR TERM  SENTENCE BEGIN AGE   CURRENT AGE  \\\n",
       "count                  17599.000000        17599.000000  17599.000000   \n",
       "mean                       9.735155           33.009940     38.736174   \n",
       "std                       13.895484           10.646788     11.657834   \n",
       "min                        0.000000           15.095890     16.789041   \n",
       "25%                        1.000000           24.693151     29.868493   \n",
       "50%                        4.000000           31.180822     36.731507   \n",
       "75%                       12.000000           39.087671     45.561644   \n",
       "max                      126.000000           86.271233     90.715068   \n",
       "\n",
       "       SENTENCE BEGIN YEAR  \n",
       "count         17599.000000  \n",
       "mean           2014.929769  \n",
       "std               6.576930  \n",
       "min            1980.000000  \n",
       "25%            2013.000000  \n",
       "50%            2018.000000  \n",
       "75%            2019.000000  \n",
       "max            2020.000000  "
      ]
     },
     "execution_count": 13,
     "metadata": {},
     "output_type": "execute_result"
    }
   ],
   "source": [
    "dfActive.describe()"
   ]
  },
  {
   "cell_type": "markdown",
   "metadata": {},
   "source": [
    "## 7. Exploring Full Value Counts, Value Averages, and Visualizations "
   ]
  },
  {
   "cell_type": "markdown",
   "metadata": {},
   "source": [
    "Value counts is a pandas method that returns a list of the counts of every value in the column ordered by most common to least common.\n",
    "This is helpful to distinguish what aspects of inmates were the most common"
   ]
  },
  {
   "cell_type": "markdown",
   "metadata": {},
   "source": [
    "### 7.1 General Info"
   ]
  },
  {
   "cell_type": "code",
   "execution_count": 14,
   "metadata": {},
   "outputs": [
    {
     "name": "stdout",
     "output_type": "stream",
     "text": [
      "<class 'pandas.core.frame.DataFrame'>\n",
      "RangeIndex: 114765 entries, 0 to 114764\n",
      "Data columns (total 28 columns):\n",
      " #   Column                        Non-Null Count   Dtype  \n",
      "---  ------                        --------------   -----  \n",
      " 0   ID NUMBER                     114765 non-null  int64  \n",
      " 1   DATE OF BIRTH                 114765 non-null  object \n",
      " 2   RACE DESC                     114765 non-null  object \n",
      " 3   GENDER                        114765 non-null  object \n",
      " 4   FACILITY                      24703 non-null   object \n",
      " 5   SENTENCE BEGIN DATE           114765 non-null  object \n",
      " 6   MIN TERM/YEAR                 114765 non-null  object \n",
      " 7   MAX TERM/YEAR                 114765 non-null  object \n",
      " 8   INST RELEASE DATE             103618 non-null  object \n",
      " 9   ACTIVE                        114765 non-null  int64  \n",
      " 10  OFFENSE MINIMUM YEAR OR TERM  114765 non-null  float64\n",
      " 11  OFFENSE MAXIMUM YEAR OR TERM  114765 non-null  float64\n",
      " 12  OFFENSE ARREST DESC           114765 non-null  object \n",
      " 13  FELONY MSDMNR CODE            104698 non-null  object \n",
      " 14  OFFENSE TYPE CODE             114765 non-null  object \n",
      " 15  OFFENSE ATTEMPT DESC          15549 non-null   object \n",
      " 16  HABITUAL CRIMINAL             675 non-null     object \n",
      " 17  OFFENSE RUN CODE              92414 non-null   object \n",
      " 18  COUNTY COMMITTED              114746 non-null  object \n",
      " 19  OFFENSE ARREST CD             114735 non-null  object \n",
      " 20  OFFENSE ARREST                114735 non-null  object \n",
      " 21  OFFENSE GROUP                 114765 non-null  object \n",
      " 22  OFFENSE CATEGORY              114735 non-null  object \n",
      " 23  SENTENCE BEGIN DATE DT        114765 non-null  object \n",
      " 24  DATE OF BIRTH DT              114765 non-null  object \n",
      " 25  SENTENCE BEGIN AGE            114765 non-null  float64\n",
      " 26  CURRENT AGE                   114765 non-null  float64\n",
      " 27  SENTENCE BEGIN YEAR           114765 non-null  int64  \n",
      "dtypes: float64(4), int64(3), object(21)\n",
      "memory usage: 24.5+ MB\n"
     ]
    }
   ],
   "source": [
    "df.info()"
   ]
  },
  {
   "cell_type": "markdown",
   "metadata": {},
   "source": [
    "### 7.2 Offense Group"
   ]
  },
  {
   "cell_type": "markdown",
   "metadata": {},
   "source": [
    "The offense group is the broad family of offenses that the specific offense is a part of"
   ]
  },
  {
   "cell_type": "markdown",
   "metadata": {},
   "source": [
    "Nearly 20% of offenses are drug-related."
   ]
  },
  {
   "cell_type": "code",
   "execution_count": 15,
   "metadata": {},
   "outputs": [
    {
     "data": {
      "text/plain": [
       "OFFENSE GROUP\n",
       "Drugs            0.199756\n",
       "Theft            0.135433\n",
       "Assault          0.129377\n",
       "Motor Vehicle    0.095534\n",
       "Other            0.086882\n",
       "Burglary         0.084015\n",
       "Sex Offenses     0.070832\n",
       "Weapons          0.065090\n",
       "Fraud            0.061700\n",
       "Robbery          0.038191\n",
       "dtype: float64"
      ]
     },
     "execution_count": 15,
     "metadata": {},
     "output_type": "execute_result"
    }
   ],
   "source": [
    "df.value_counts('OFFENSE GROUP', normalize=True).head(10)"
   ]
  },
  {
   "cell_type": "markdown",
   "metadata": {},
   "source": [
    "### 7.3 Offense Category"
   ]
  },
  {
   "cell_type": "markdown",
   "metadata": {},
   "source": [
    "The offense catagory describes more about the broad groups the offenses are in. The \"Person\" value means that the crime was committed against a person. Burglarary and theft would both be in the \"Property\" value."
   ]
  },
  {
   "cell_type": "code",
   "execution_count": 16,
   "metadata": {},
   "outputs": [
    {
     "data": {
      "text/plain": [
       "OFFENSE CATEGORY\n",
       "Other           0.282067\n",
       "Person          0.224204\n",
       "Property        0.223071\n",
       "Drugs           0.199808\n",
       "Sex Offenses    0.070850\n",
       "dtype: float64"
      ]
     },
     "execution_count": 16,
     "metadata": {},
     "output_type": "execute_result"
    }
   ],
   "source": [
    "df.value_counts('OFFENSE CATEGORY', normalize=True).head(10)"
   ]
  },
  {
   "cell_type": "markdown",
   "metadata": {},
   "source": [
    "### 7.4 Felony/Misdemeanor Code"
   ]
  },
  {
   "cell_type": "markdown",
   "metadata": {},
   "source": [
    "The felony/misdemeanor code describes what felony or misdemeaner class the offense is in. "
   ]
  },
  {
   "cell_type": "markdown",
   "metadata": {},
   "source": [
    "35% of offenses are Class IV felonies, the least serious felony charge, and often includes crimes like forgery."
   ]
  },
  {
   "cell_type": "code",
   "execution_count": 17,
   "metadata": {},
   "outputs": [
    {
     "data": {
      "text/plain": [
       "FELONY MSDMNR CODE\n",
       "CLASS IV FELONY         0.342624\n",
       "CLASS III FELONY        0.190004\n",
       "CLASS I MISDEMEANOR     0.099582\n",
       "CLASS II FELONY         0.090632\n",
       "CLASS IIIA FELONY       0.090422\n",
       "FELONY                  0.083287\n",
       "CLASS IIA FELONY        0.029943\n",
       "CLASS II MISDEMEANOR    0.015378\n",
       "CLASS ID FELONY         0.012770\n",
       "MISDEMEANOR             0.011910\n",
       "dtype: float64"
      ]
     },
     "execution_count": 17,
     "metadata": {},
     "output_type": "execute_result"
    }
   ],
   "source": [
    "df.value_counts('FELONY MSDMNR CODE', normalize=True).head(10)"
   ]
  },
  {
   "cell_type": "markdown",
   "metadata": {},
   "source": [
    "### 7.5 Offense Arrest"
   ]
  },
  {
   "cell_type": "markdown",
   "metadata": {},
   "source": [
    "Offense Arrest names the specific type of offense when the inmate is incarcerated."
   ]
  },
  {
   "cell_type": "markdown",
   "metadata": {},
   "source": [
    "The top two values are drug-realted charges, possesion of a controlled substance and dealing or distributing the controlled substance."
   ]
  },
  {
   "cell_type": "code",
   "execution_count": 18,
   "metadata": {},
   "outputs": [
    {
     "data": {
      "text/plain": [
       "OFFENSE ARREST\n",
       "POS CNTRL SUB EXCEPT MARIJUANA    0.095568\n",
       "MANU/DIST/DEL/DISP OR POSS W/I    0.090757\n",
       "BURGLARY                          0.080403\n",
       "ROBBERY                           0.038184\n",
       "THEFT BY UNLWFL TAKING OR DISP    0.036972\n",
       "FORGERY 2ND DEGREE                0.034488\n",
       "THEFT BY RECEIVING STOLEN PROP    0.034079\n",
       "DRIVING WHILE INTOXICATED         0.032701\n",
       "DRIVING UNDER REVOKED LICENSE     0.032135\n",
       "THEFT                             0.030104\n",
       "dtype: float64"
      ]
     },
     "execution_count": 18,
     "metadata": {},
     "output_type": "execute_result"
    }
   ],
   "source": [
    "df.value_counts('OFFENSE ARREST', normalize=True).head(10)"
   ]
  },
  {
   "cell_type": "markdown",
   "metadata": {},
   "source": [
    "### 7.6 Offense Type Code"
   ]
  },
  {
   "cell_type": "markdown",
   "metadata": {},
   "source": [
    "Offense Type Code denotes what offense number it is for the inmate."
   ]
  },
  {
   "cell_type": "markdown",
   "metadata": {},
   "source": [
    "A '*' value denotes that it is the crime the inmate is incarcerated for, all concurrent or consecutive offenses they are charged with are marked by an A, B, C and so on. "
   ]
  },
  {
   "cell_type": "code",
   "execution_count": 19,
   "metadata": {},
   "outputs": [
    {
     "data": {
      "text/plain": [
       "OFFENSE TYPE CODE\n",
       "*    0.873359\n",
       "A    0.101102\n",
       "B    0.018804\n",
       "C    0.004444\n",
       "D    0.001516\n",
       "E    0.000401\n",
       "F    0.000192\n",
       "G    0.000122\n",
       "I    0.000026\n",
       "H    0.000017\n",
       "S    0.000009\n",
       "N    0.000009\n",
       "dtype: float64"
      ]
     },
     "execution_count": 19,
     "metadata": {},
     "output_type": "execute_result"
    }
   ],
   "source": [
    "df.value_counts('OFFENSE TYPE CODE', normalize=True)"
   ]
  },
  {
   "cell_type": "markdown",
   "metadata": {},
   "source": [
    "### 7.7 County Committed"
   ]
  },
  {
   "cell_type": "markdown",
   "metadata": {},
   "source": [
    "This shows the country the crimes took place in."
   ]
  },
  {
   "cell_type": "code",
   "execution_count": 20,
   "metadata": {},
   "outputs": [
    {
     "data": {
      "text/plain": [
       "COUNTY COMMITTED\n",
       "DOUGLAS         0.329641\n",
       "LANCASTER       0.155300\n",
       "HALL            0.053143\n",
       "SARPY           0.050904\n",
       "MADISON         0.036542\n",
       "SCOTTS BLUFF    0.026929\n",
       "BUFFALO         0.026136\n",
       "DODGE           0.024393\n",
       "ADAMS           0.018676\n",
       "PLATTE          0.018301\n",
       "dtype: float64"
      ]
     },
     "execution_count": 20,
     "metadata": {},
     "output_type": "execute_result"
    }
   ],
   "source": [
    "df.value_counts('COUNTY COMMITTED', normalize=True).head(10)"
   ]
  },
  {
   "cell_type": "markdown",
   "metadata": {},
   "source": [
    "The normalize parameters returns the frequencies of the values"
   ]
  },
  {
   "cell_type": "markdown",
   "metadata": {},
   "source": [
    "### 7.8 Offense Minimum/Maximum Sentencing "
   ]
  },
  {
   "cell_type": "markdown",
   "metadata": {},
   "source": [
    "The .mean() function shows the average of all the values (in this case, the offense's minimum sentence)."
   ]
  },
  {
   "cell_type": "code",
   "execution_count": 21,
   "metadata": {},
   "outputs": [
    {
     "data": {
      "text/plain": [
       "2.3907985884198144"
      ]
     },
     "execution_count": 21,
     "metadata": {},
     "output_type": "execute_result"
    }
   ],
   "source": [
    "df['OFFENSE MINIMUM YEAR OR TERM'].mean()"
   ]
  },
  {
   "cell_type": "markdown",
   "metadata": {},
   "source": [
    "This shows the top minimum sentencing values for offenses."
   ]
  },
  {
   "cell_type": "code",
   "execution_count": 22,
   "metadata": {},
   "outputs": [
    {
     "data": {
      "text/plain": [
       "OFFENSE MINIMUM YEAR OR TERM\n",
       "1.0     0.393334\n",
       "0.0     0.277262\n",
       "2.0     0.100876\n",
       "3.0     0.073054\n",
       "4.0     0.036814\n",
       "5.0     0.035037\n",
       "10.0    0.019771\n",
       "6.0     0.016233\n",
       "8.0     0.008705\n",
       "15.0    0.006187\n",
       "dtype: float64"
      ]
     },
     "execution_count": 22,
     "metadata": {},
     "output_type": "execute_result"
    }
   ],
   "source": [
    "df.value_counts('OFFENSE MINIMUM YEAR OR TERM', normalize=True).head(10)"
   ]
  },
  {
   "cell_type": "markdown",
   "metadata": {},
   "source": [
    "The same numbers are pulled for maximum sentencing."
   ]
  },
  {
   "cell_type": "code",
   "execution_count": 23,
   "metadata": {},
   "outputs": [
    {
     "data": {
      "text/plain": [
       "4.255914259573912"
      ]
     },
     "execution_count": 23,
     "metadata": {},
     "output_type": "execute_result"
    }
   ],
   "source": [
    "df['OFFENSE MAXIMUM YEAR OR TERM'].mean()"
   ]
  },
  {
   "cell_type": "code",
   "execution_count": 24,
   "metadata": {},
   "outputs": [
    {
     "data": {
      "text/plain": [
       "OFFENSE MAXIMUM YEAR OR TERM\n",
       "1.0     0.227839\n",
       "3.0     0.141681\n",
       "2.0     0.136923\n",
       "0.0     0.132601\n",
       "5.0     0.130162\n",
       "4.0     0.072879\n",
       "10.0    0.032057\n",
       "6.0     0.028615\n",
       "20.0    0.018046\n",
       "8.0     0.017592\n",
       "dtype: float64"
      ]
     },
     "execution_count": 24,
     "metadata": {},
     "output_type": "execute_result"
    }
   ],
   "source": [
    "df.value_counts('OFFENSE MAXIMUM YEAR OR TERM', normalize=True).head(10)"
   ]
  },
  {
   "cell_type": "markdown",
   "metadata": {},
   "source": [
    "## 8. Exploring 1980s Value Counts, Value Averages, and Visualizations "
   ]
  },
  {
   "cell_type": "markdown",
   "metadata": {},
   "source": [
    "### 8.1 General Info"
   ]
  },
  {
   "cell_type": "code",
   "execution_count": 25,
   "metadata": {},
   "outputs": [
    {
     "name": "stdout",
     "output_type": "stream",
     "text": [
      "<class 'pandas.core.frame.DataFrame'>\n",
      "Int64Index: 11943 entries, 2 to 96123\n",
      "Data columns (total 28 columns):\n",
      " #   Column                        Non-Null Count  Dtype  \n",
      "---  ------                        --------------  -----  \n",
      " 0   ID NUMBER                     11943 non-null  int64  \n",
      " 1   DATE OF BIRTH                 11943 non-null  object \n",
      " 2   RACE DESC                     11943 non-null  object \n",
      " 3   GENDER                        11943 non-null  object \n",
      " 4   FACILITY                      919 non-null    object \n",
      " 5   SENTENCE BEGIN DATE           11943 non-null  object \n",
      " 6   MIN TERM/YEAR                 11943 non-null  object \n",
      " 7   MAX TERM/YEAR                 11943 non-null  object \n",
      " 8   INST RELEASE DATE             11794 non-null  object \n",
      " 9   ACTIVE                        11943 non-null  int64  \n",
      " 10  OFFENSE MINIMUM YEAR OR TERM  11943 non-null  float64\n",
      " 11  OFFENSE MAXIMUM YEAR OR TERM  11943 non-null  float64\n",
      " 12  OFFENSE ARREST DESC           11943 non-null  object \n",
      " 13  FELONY MSDMNR CODE            2210 non-null   object \n",
      " 14  OFFENSE TYPE CODE             11943 non-null  object \n",
      " 15  OFFENSE ATTEMPT DESC          634 non-null    object \n",
      " 16  HABITUAL CRIMINAL             82 non-null     object \n",
      " 17  OFFENSE RUN CODE              11877 non-null  object \n",
      " 18  COUNTY COMMITTED              11934 non-null  object \n",
      " 19  OFFENSE ARREST CD             11917 non-null  object \n",
      " 20  OFFENSE ARREST                11917 non-null  object \n",
      " 21  OFFENSE GROUP                 11943 non-null  object \n",
      " 22  OFFENSE CATEGORY              11917 non-null  object \n",
      " 23  SENTENCE BEGIN DATE DT        11943 non-null  object \n",
      " 24  DATE OF BIRTH DT              11943 non-null  object \n",
      " 25  SENTENCE BEGIN AGE            11943 non-null  float64\n",
      " 26  CURRENT AGE                   11943 non-null  float64\n",
      " 27  SENTENCE BEGIN YEAR           11943 non-null  int64  \n",
      "dtypes: float64(4), int64(3), object(21)\n",
      "memory usage: 2.6+ MB\n"
     ]
    }
   ],
   "source": [
    "df1980.info()"
   ]
  },
  {
   "cell_type": "markdown",
   "metadata": {},
   "source": [
    "### 8.2 Offense Group"
   ]
  },
  {
   "cell_type": "markdown",
   "metadata": {},
   "source": [
    "Most offenses in the 1980s were burglary and theft."
   ]
  },
  {
   "cell_type": "code",
   "execution_count": 26,
   "metadata": {},
   "outputs": [
    {
     "data": {
      "text/plain": [
       "OFFENSE GROUP\n",
       "Burglary         0.168132\n",
       "Theft            0.153814\n",
       "Drugs            0.115549\n",
       "Other            0.112786\n",
       "Fraud            0.084820\n",
       "Sex Offenses     0.072176\n",
       "Assault          0.071506\n",
       "Robbery          0.067822\n",
       "Weapons          0.051830\n",
       "Motor Vehicle    0.045299\n",
       "dtype: float64"
      ]
     },
     "execution_count": 26,
     "metadata": {},
     "output_type": "execute_result"
    }
   ],
   "source": [
    "df1980.value_counts('OFFENSE GROUP', normalize=True).head(10)"
   ]
  },
  {
   "cell_type": "markdown",
   "metadata": {},
   "source": [
    "### 8.3 Offense Category"
   ]
  },
  {
   "cell_type": "markdown",
   "metadata": {},
   "source": [
    "Accordingly, most offenses involved crimes involving property in the 1980s."
   ]
  },
  {
   "cell_type": "code",
   "execution_count": 27,
   "metadata": {},
   "outputs": [
    {
     "data": {
      "text/plain": [
       "OFFENSE CATEGORY\n",
       "Property        0.329110\n",
       "Other           0.264160\n",
       "Person          0.218595\n",
       "Drugs           0.115801\n",
       "Sex Offenses    0.072334\n",
       "dtype: float64"
      ]
     },
     "execution_count": 27,
     "metadata": {},
     "output_type": "execute_result"
    }
   ],
   "source": [
    "df1980.value_counts('OFFENSE CATEGORY', normalize=True).head(10)"
   ]
  },
  {
   "cell_type": "markdown",
   "metadata": {},
   "source": [
    "### 8.4 Felony/Misdemenor Code"
   ]
  },
  {
   "cell_type": "code",
   "execution_count": 28,
   "metadata": {},
   "outputs": [
    {
     "data": {
      "text/plain": [
       "FELONY MSDMNR CODE\n",
       "FELONY                 0.643439\n",
       "CLASS III FELONY       0.089593\n",
       "CLASS IV FELONY        0.078281\n",
       "CLASS II FELONY        0.065611\n",
       "MISDEMEANOR            0.043439\n",
       "CLASS I MISDEMEANOR    0.035294\n",
       "UNKNOWN                0.011312\n",
       "CLASS IA FELONY        0.009050\n",
       "CLASS I FELONY         0.008597\n",
       "CLASS IB FELONY        0.008145\n",
       "dtype: float64"
      ]
     },
     "execution_count": 28,
     "metadata": {},
     "output_type": "execute_result"
    }
   ],
   "source": [
    "df1980.value_counts('FELONY MSDMNR CODE', normalize=True).head(10)"
   ]
  },
  {
   "cell_type": "markdown",
   "metadata": {},
   "source": [
    "### 8.5 Offense Arrest"
   ]
  },
  {
   "cell_type": "markdown",
   "metadata": {},
   "source": [
    "Most offenses were burglary, theft, and robbery."
   ]
  },
  {
   "cell_type": "code",
   "execution_count": 29,
   "metadata": {},
   "outputs": [
    {
     "data": {
      "text/plain": [
       "OFFENSE ARREST\n",
       "BURGLARY                          0.161954\n",
       "THEFT                             0.133675\n",
       "ROBBERY                           0.067802\n",
       "SEXUAL ASSAULT 1ST DEGREE         0.053873\n",
       "FORGERY 2ND DEGREE                0.051859\n",
       "MANU/DIST/DEL/DISP OR POSS W/I    0.050097\n",
       "ESCAPE                            0.040866\n",
       "POS CNTRL SUB EXCEPT MARIJUANA    0.039523\n",
       "USE FIREARM TO COMMIT FELONY      0.030209\n",
       "ASSAULT 1ST DEGREE                0.021901\n",
       "dtype: float64"
      ]
     },
     "execution_count": 29,
     "metadata": {},
     "output_type": "execute_result"
    }
   ],
   "source": [
    "df1980.value_counts('OFFENSE ARREST', normalize=True).head(10)"
   ]
  },
  {
   "cell_type": "markdown",
   "metadata": {},
   "source": [
    "### 8.6 Offense Type Code"
   ]
  },
  {
   "cell_type": "code",
   "execution_count": 30,
   "metadata": {},
   "outputs": [
    {
     "data": {
      "text/plain": [
       "OFFENSE TYPE CODE\n",
       "*    0.891401\n",
       "A    0.084233\n",
       "B    0.017165\n",
       "C    0.004521\n",
       "D    0.001256\n",
       "E    0.000502\n",
       "F    0.000419\n",
       "G    0.000335\n",
       "I    0.000167\n",
       "dtype: float64"
      ]
     },
     "execution_count": 30,
     "metadata": {},
     "output_type": "execute_result"
    }
   ],
   "source": [
    "df1980.value_counts('OFFENSE TYPE CODE', normalize=True)"
   ]
  },
  {
   "cell_type": "markdown",
   "metadata": {},
   "source": [
    "### 8.7 County Committed"
   ]
  },
  {
   "cell_type": "code",
   "execution_count": 31,
   "metadata": {},
   "outputs": [
    {
     "data": {
      "text/plain": [
       "COUNTY COMMITTED\n",
       "DOUGLAS         0.369784\n",
       "LANCASTER       0.153176\n",
       "SARPY           0.039299\n",
       "SCOTTS BLUFF    0.037037\n",
       "HALL            0.032009\n",
       "LINCOLN         0.029915\n",
       "BUFFALO         0.028406\n",
       "ADAMS           0.024049\n",
       "DODGE           0.023630\n",
       "DAWSON          0.019775\n",
       "dtype: float64"
      ]
     },
     "execution_count": 31,
     "metadata": {},
     "output_type": "execute_result"
    }
   ],
   "source": [
    "df1980.value_counts('COUNTY COMMITTED', normalize=True).head(10)"
   ]
  },
  {
   "cell_type": "markdown",
   "metadata": {},
   "source": [
    "### 7.8 Offense Minimum/Maximum Sentencing "
   ]
  },
  {
   "cell_type": "code",
   "execution_count": 32,
   "metadata": {},
   "outputs": [
    {
     "data": {
      "text/plain": [
       "2.0630494850540066"
      ]
     },
     "execution_count": 32,
     "metadata": {},
     "output_type": "execute_result"
    }
   ],
   "source": [
    "df1980['OFFENSE MINIMUM YEAR OR TERM'].mean()"
   ]
  },
  {
   "cell_type": "code",
   "execution_count": 33,
   "metadata": {},
   "outputs": [
    {
     "data": {
      "text/plain": [
       "OFFENSE MINIMUM YEAR OR TERM\n",
       "1.0     0.462782\n",
       "0.0     0.273717\n",
       "2.0     0.073600\n",
       "3.0     0.063636\n",
       "5.0     0.035753\n",
       "4.0     0.019844\n",
       "10.0    0.019761\n",
       "6.0     0.019761\n",
       "15.0    0.005610\n",
       "8.0     0.004521\n",
       "dtype: float64"
      ]
     },
     "execution_count": 33,
     "metadata": {},
     "output_type": "execute_result"
    }
   ],
   "source": [
    "df1980.value_counts('OFFENSE MINIMUM YEAR OR TERM', normalize=True).head(10)"
   ]
  },
  {
   "cell_type": "code",
   "execution_count": 34,
   "metadata": {},
   "outputs": [
    {
     "data": {
      "text/plain": [
       "4.501883948756594"
      ]
     },
     "execution_count": 34,
     "metadata": {},
     "output_type": "execute_result"
    }
   ],
   "source": [
    "df1980['OFFENSE MAXIMUM YEAR OR TERM'].mean()"
   ]
  },
  {
   "cell_type": "code",
   "execution_count": 35,
   "metadata": {},
   "outputs": [
    {
     "data": {
      "text/plain": [
       "OFFENSE MAXIMUM YEAR OR TERM\n",
       "1.0     0.285439\n",
       "3.0     0.182450\n",
       "5.0     0.137570\n",
       "2.0     0.116051\n",
       "4.0     0.060203\n",
       "0.0     0.053588\n",
       "10.0    0.045633\n",
       "6.0     0.024784\n",
       "20.0    0.016830\n",
       "15.0    0.015155\n",
       "dtype: float64"
      ]
     },
     "execution_count": 35,
     "metadata": {},
     "output_type": "execute_result"
    }
   ],
   "source": [
    "df1980.value_counts('OFFENSE MAXIMUM YEAR OR TERM', normalize=True).head(10)"
   ]
  },
  {
   "cell_type": "markdown",
   "metadata": {},
   "source": [
    "### 8.5 Graphs"
   ]
  },
  {
   "cell_type": "markdown",
   "metadata": {},
   "source": [
    "Seabporn is a data visualization library based on matplotlib. "
   ]
  },
  {
   "cell_type": "code",
   "execution_count": 36,
   "metadata": {},
   "outputs": [],
   "source": [
    "import matplotlib.pyplot as plt\n",
    "%matplotlib inline\n",
    "import seaborn as sns"
   ]
  },
  {
   "cell_type": "markdown",
   "metadata": {},
   "source": [
    "A countplot is a histogram for catagorial variables. The x axis is the offense group, and the plot counts those variables to create the y axis. "
   ]
  },
  {
   "cell_type": "markdown",
   "metadata": {},
   "source": [
    "The hue is the count broken down by another variable, in this case, race. "
   ]
  },
  {
   "cell_type": "markdown",
   "metadata": {},
   "source": [
    "You can see the racial breakdown of the most common offense groups in the 1980s."
   ]
  },
  {
   "cell_type": "code",
   "execution_count": 37,
   "metadata": {},
   "outputs": [
    {
     "data": {
      "text/plain": [
       "<matplotlib.legend.Legend at 0x7fe06f197d90>"
      ]
     },
     "execution_count": 37,
     "metadata": {},
     "output_type": "execute_result"
    },
    {
     "data": {
      "image/png": "[encoded data removed]",
      "text/plain": [
       "<Figure size 1080x720 with 1 Axes>"
      ]
     },
     "metadata": {
      "needs_background": "light"
     },
     "output_type": "display_data"
    }
   ],
   "source": [
    "fig_dims = (15, 10)\n",
    "fig, ax = plt.subplots(figsize=fig_dims)\n",
    "sns.set_theme(style=\"darkgrid\")\n",
    "\n",
    "ax = sns.countplot(x=\"OFFENSE GROUP\", hue=\"RACE DESC\", ax=ax\n",
    "                   , data=df1980, \n",
    "                    order=df1980[\"OFFENSE GROUP\"].value_counts().iloc[:15].index,\n",
    "                  hue_order=df1980[\"RACE DESC\"].value_counts().iloc[:5].index)\n",
    "plt.xticks(rotation = 45, ha = 'right')\n",
    "plt.legend(title = 'RACE', bbox_to_anchor = (1, 1))"
   ]
  },
  {
   "cell_type": "markdown",
   "metadata": {},
   "source": [
    "## 9. Exploring 1990s Value Counts, Value Averages, and Visualizations "
   ]
  },
  {
   "cell_type": "markdown",
   "metadata": {},
   "source": [
    "### 9.1 General Info"
   ]
  },
  {
   "cell_type": "code",
   "execution_count": 38,
   "metadata": {},
   "outputs": [
    {
     "name": "stdout",
     "output_type": "stream",
     "text": [
      "<class 'pandas.core.frame.DataFrame'>\n",
      "Int64Index: 22297 entries, 44 to 98241\n",
      "Data columns (total 28 columns):\n",
      " #   Column                        Non-Null Count  Dtype  \n",
      "---  ------                        --------------  -----  \n",
      " 0   ID NUMBER                     22297 non-null  int64  \n",
      " 1   DATE OF BIRTH                 22297 non-null  object \n",
      " 2   RACE DESC                     22297 non-null  object \n",
      " 3   GENDER                        22297 non-null  object \n",
      " 4   FACILITY                      685 non-null    object \n",
      " 5   SENTENCE BEGIN DATE           22297 non-null  object \n",
      " 6   MIN TERM/YEAR                 22297 non-null  object \n",
      " 7   MAX TERM/YEAR                 22297 non-null  object \n",
      " 8   INST RELEASE DATE             21973 non-null  object \n",
      " 9   ACTIVE                        22297 non-null  int64  \n",
      " 10  OFFENSE MINIMUM YEAR OR TERM  22297 non-null  float64\n",
      " 11  OFFENSE MAXIMUM YEAR OR TERM  22297 non-null  float64\n",
      " 12  OFFENSE ARREST DESC           22297 non-null  object \n",
      " 13  FELONY MSDMNR CODE            21963 non-null  object \n",
      " 14  OFFENSE TYPE CODE             22297 non-null  object \n",
      " 15  OFFENSE ATTEMPT DESC          2872 non-null   object \n",
      " 16  HABITUAL CRIMINAL             131 non-null    object \n",
      " 17  OFFENSE RUN CODE              22195 non-null  object \n",
      " 18  COUNTY COMMITTED              22294 non-null  object \n",
      " 19  OFFENSE ARREST CD             22297 non-null  object \n",
      " 20  OFFENSE ARREST                22297 non-null  object \n",
      " 21  OFFENSE GROUP                 22297 non-null  object \n",
      " 22  OFFENSE CATEGORY              22297 non-null  object \n",
      " 23  SENTENCE BEGIN DATE DT        22297 non-null  object \n",
      " 24  DATE OF BIRTH DT              22297 non-null  object \n",
      " 25  SENTENCE BEGIN AGE            22297 non-null  float64\n",
      " 26  CURRENT AGE                   22297 non-null  float64\n",
      " 27  SENTENCE BEGIN YEAR           22297 non-null  int64  \n",
      "dtypes: float64(4), int64(3), object(21)\n",
      "memory usage: 4.9+ MB\n"
     ]
    }
   ],
   "source": [
    "df1990.info()"
   ]
  },
  {
   "cell_type": "markdown",
   "metadata": {},
   "source": [
    "### 9.2 Offense Group"
   ]
  },
  {
   "cell_type": "markdown",
   "metadata": {},
   "source": [
    "Most offenses were drug charges in the 1990s"
   ]
  },
  {
   "cell_type": "code",
   "execution_count": 39,
   "metadata": {},
   "outputs": [
    {
     "data": {
      "text/plain": [
       "OFFENSE GROUP\n",
       "Drugs            0.196215\n",
       "Theft            0.137014\n",
       "Assault          0.100058\n",
       "Other            0.095529\n",
       "Burglary         0.094049\n",
       "Motor Vehicle    0.089608\n",
       "Sex Offenses     0.075391\n",
       "Fraud            0.072790\n",
       "Weapons          0.061398\n",
       "Robbery          0.037628\n",
       "dtype: float64"
      ]
     },
     "execution_count": 39,
     "metadata": {},
     "output_type": "execute_result"
    }
   ],
   "source": [
    "df1990.value_counts('OFFENSE GROUP', normalize=True).head(10)"
   ]
  },
  {
   "cell_type": "markdown",
   "metadata": {},
   "source": [
    "### 9.3 Offense Category"
   ]
  },
  {
   "cell_type": "code",
   "execution_count": 40,
   "metadata": {},
   "outputs": [
    {
     "data": {
      "text/plain": [
       "OFFENSE CATEGORY\n",
       "Other           0.288649\n",
       "Property        0.236130\n",
       "Person          0.203615\n",
       "Drugs           0.196215\n",
       "Sex Offenses    0.075391\n",
       "dtype: float64"
      ]
     },
     "execution_count": 40,
     "metadata": {},
     "output_type": "execute_result"
    }
   ],
   "source": [
    "df1990.value_counts('OFFENSE CATEGORY', normalize=True).head(10)"
   ]
  },
  {
   "cell_type": "markdown",
   "metadata": {},
   "source": [
    "### 9.4 Felony/Misdemenor Code"
   ]
  },
  {
   "cell_type": "code",
   "execution_count": 41,
   "metadata": {},
   "outputs": [
    {
     "data": {
      "text/plain": [
       "FELONY MSDMNR CODE\n",
       "FELONY                   0.330738\n",
       "CLASS IV FELONY          0.278423\n",
       "CLASS III FELONY         0.168693\n",
       "CLASS II FELONY          0.064563\n",
       "CLASS I MISDEMEANOR      0.064062\n",
       "MISDEMEANOR              0.049265\n",
       "CLASS II MISDEMEANOR     0.011975\n",
       "CLASS III MISDEMEANOR    0.008605\n",
       "CLASS W MISDEMEANOR      0.007740\n",
       "CLASS IIIA FELONY        0.005099\n",
       "dtype: float64"
      ]
     },
     "execution_count": 41,
     "metadata": {},
     "output_type": "execute_result"
    }
   ],
   "source": [
    "df1990.value_counts('FELONY MSDMNR CODE', normalize=True).head(10)"
   ]
  },
  {
   "cell_type": "markdown",
   "metadata": {},
   "source": [
    "### 9.5 Offense Arrest"
   ]
  },
  {
   "cell_type": "markdown",
   "metadata": {},
   "source": [
    "Most offenses were the manufacturing, distribution, delivery, dispensery, or possession with intent of selling drugs."
   ]
  },
  {
   "cell_type": "code",
   "execution_count": 42,
   "metadata": {},
   "outputs": [
    {
     "data": {
      "text/plain": [
       "OFFENSE ARREST\n",
       "MANU/DIST/DEL/DISP OR POSS W/I    0.122573\n",
       "BURGLARY                          0.090371\n",
       "THEFT                             0.064986\n",
       "POS CNTRL SUB EXCEPT MARIJUANA    0.062744\n",
       "DRIVING UNDER REVOKED LICENSE     0.055254\n",
       "FORGERY 2ND DEGREE                0.047450\n",
       "ROBBERY                           0.037628\n",
       "SEXUAL ASSAULT 1ST DEGREE         0.036911\n",
       "SEXUAL ASSAULT ON A CHILD         0.029556\n",
       "THEFT BY RECEIVING STOLEN PROP    0.025429\n",
       "dtype: float64"
      ]
     },
     "execution_count": 42,
     "metadata": {},
     "output_type": "execute_result"
    }
   ],
   "source": [
    "df1990.value_counts('OFFENSE ARREST', normalize=True).head(10)"
   ]
  },
  {
   "cell_type": "markdown",
   "metadata": {},
   "source": [
    "### 9.6 Offense Type Code"
   ]
  },
  {
   "cell_type": "code",
   "execution_count": 43,
   "metadata": {},
   "outputs": [
    {
     "data": {
      "text/plain": [
       "OFFENSE TYPE CODE\n",
       "*    0.875858\n",
       "A    0.103601\n",
       "B    0.015473\n",
       "C    0.003588\n",
       "D    0.001032\n",
       "G    0.000179\n",
       "E    0.000179\n",
       "F    0.000090\n",
       "dtype: float64"
      ]
     },
     "execution_count": 43,
     "metadata": {},
     "output_type": "execute_result"
    }
   ],
   "source": [
    "df1990.value_counts('OFFENSE TYPE CODE', normalize=True)"
   ]
  },
  {
   "cell_type": "markdown",
   "metadata": {},
   "source": [
    "### 9.7 County Committed"
   ]
  },
  {
   "cell_type": "code",
   "execution_count": 44,
   "metadata": {},
   "outputs": [
    {
     "data": {
      "text/plain": [
       "COUNTY COMMITTED\n",
       "DOUGLAS         0.366107\n",
       "LANCASTER       0.120301\n",
       "HALL            0.047771\n",
       "SARPY           0.044541\n",
       "MADISON         0.034090\n",
       "SCOTTS BLUFF    0.031937\n",
       "BUFFALO         0.024850\n",
       "LINCOLN         0.023459\n",
       "DAKOTA          0.018884\n",
       "DODGE           0.018839\n",
       "dtype: float64"
      ]
     },
     "execution_count": 44,
     "metadata": {},
     "output_type": "execute_result"
    }
   ],
   "source": [
    "df1990.value_counts('COUNTY COMMITTED', normalize=True).head(10)"
   ]
  },
  {
   "cell_type": "markdown",
   "metadata": {},
   "source": [
    "### 9.8 Offense Minimum/Maximum Sentencing "
   ]
  },
  {
   "cell_type": "code",
   "execution_count": 45,
   "metadata": {},
   "outputs": [
    {
     "data": {
      "text/plain": [
       "2.045342422747455"
      ]
     },
     "execution_count": 45,
     "metadata": {},
     "output_type": "execute_result"
    }
   ],
   "source": [
    "df1990['OFFENSE MINIMUM YEAR OR TERM'].mean()"
   ]
  },
  {
   "cell_type": "code",
   "execution_count": 46,
   "metadata": {},
   "outputs": [
    {
     "data": {
      "text/plain": [
       "OFFENSE MINIMUM YEAR OR TERM\n",
       "1.0     0.420595\n",
       "0.0     0.245863\n",
       "2.0     0.120599\n",
       "3.0     0.074494\n",
       "4.0     0.040409\n",
       "5.0     0.031170\n",
       "6.0     0.018926\n",
       "10.0    0.017222\n",
       "8.0     0.005337\n",
       "15.0    0.004664\n",
       "dtype: float64"
      ]
     },
     "execution_count": 46,
     "metadata": {},
     "output_type": "execute_result"
    }
   ],
   "source": [
    "df1990.value_counts('OFFENSE MINIMUM YEAR OR TERM', normalize=True).head(10)"
   ]
  },
  {
   "cell_type": "code",
   "execution_count": 47,
   "metadata": {},
   "outputs": [
    {
     "data": {
      "text/plain": [
       "4.279499484235547"
      ]
     },
     "execution_count": 47,
     "metadata": {},
     "output_type": "execute_result"
    }
   ],
   "source": [
    "df1990['OFFENSE MAXIMUM YEAR OR TERM'].mean()"
   ]
  },
  {
   "cell_type": "code",
   "execution_count": 48,
   "metadata": {},
   "outputs": [
    {
     "data": {
      "text/plain": [
       "OFFENSE MAXIMUM YEAR OR TERM\n",
       "1.0     0.230390\n",
       "5.0     0.164282\n",
       "3.0     0.162892\n",
       "2.0     0.136117\n",
       "4.0     0.086379\n",
       "0.0     0.071579\n",
       "10.0    0.035386\n",
       "6.0     0.029825\n",
       "20.0    0.019330\n",
       "8.0     0.013769\n",
       "dtype: float64"
      ]
     },
     "execution_count": 48,
     "metadata": {},
     "output_type": "execute_result"
    }
   ],
   "source": [
    "df1990.value_counts('OFFENSE MAXIMUM YEAR OR TERM', normalize=True).head(10)"
   ]
  },
  {
   "cell_type": "markdown",
   "metadata": {},
   "source": [
    "### 9.9 Graphs"
   ]
  },
  {
   "cell_type": "markdown",
   "metadata": {},
   "source": [
    "The amount of hispanics incarcerated each year increases, while black inmates remains largely around the same"
   ]
  },
  {
   "cell_type": "code",
   "execution_count": 49,
   "metadata": {
    "scrolled": false
   },
   "outputs": [
    {
     "data": {
      "text/plain": [
       "<matplotlib.legend.Legend at 0x7fe06f5cb730>"
      ]
     },
     "execution_count": 49,
     "metadata": {},
     "output_type": "execute_result"
    },
    {
     "data": {
      "image/png": "[encoded data removed]",
      "text/plain": [
       "<Figure size 1080x720 with 1 Axes>"
      ]
     },
     "metadata": {},
     "output_type": "display_data"
    }
   ],
   "source": [
    "fig_dims = (15, 10)\n",
    "fig, ax = plt.subplots(figsize=fig_dims)\n",
    "sns.set_theme(style=\"darkgrid\")\n",
    "\n",
    "ax = sns.countplot(x=\"OFFENSE GROUP\", hue=\"RACE DESC\", ax=ax\n",
    "                   , data=df1990, \n",
    "                   order=df1990[\"OFFENSE GROUP\"].value_counts().iloc[:15].index,\n",
    "                  hue_order=df1990[\"RACE DESC\"].value_counts().iloc[:5].index)\n",
    "plt.xticks(rotation = 45, ha = 'right')\n",
    "plt.legend(title = 'RACE', bbox_to_anchor = (1, 1))"
   ]
  },
  {
   "cell_type": "markdown",
   "metadata": {},
   "source": [
    "## 10. Exploring 2000s Value Counts, Value Averages, and Visualizations "
   ]
  },
  {
   "cell_type": "markdown",
   "metadata": {},
   "source": [
    "### 10.1 General Info"
   ]
  },
  {
   "cell_type": "code",
   "execution_count": 50,
   "metadata": {},
   "outputs": [
    {
     "name": "stdout",
     "output_type": "stream",
     "text": [
      "<class 'pandas.core.frame.DataFrame'>\n",
      "Int64Index: 34152 entries, 53 to 114673\n",
      "Data columns (total 28 columns):\n",
      " #   Column                        Non-Null Count  Dtype  \n",
      "---  ------                        --------------  -----  \n",
      " 0   ID NUMBER                     34152 non-null  int64  \n",
      " 1   DATE OF BIRTH                 34152 non-null  object \n",
      " 2   RACE DESC                     34152 non-null  object \n",
      " 3   GENDER                        34152 non-null  object \n",
      " 4   FACILITY                      2746 non-null   object \n",
      " 5   SENTENCE BEGIN DATE           34152 non-null  object \n",
      " 6   MIN TERM/YEAR                 34152 non-null  object \n",
      " 7   MAX TERM/YEAR                 34152 non-null  object \n",
      " 8   INST RELEASE DATE             33204 non-null  object \n",
      " 9   ACTIVE                        34152 non-null  int64  \n",
      " 10  OFFENSE MINIMUM YEAR OR TERM  34152 non-null  float64\n",
      " 11  OFFENSE MAXIMUM YEAR OR TERM  34152 non-null  float64\n",
      " 12  OFFENSE ARREST DESC           34152 non-null  object \n",
      " 13  FELONY MSDMNR CODE            34152 non-null  object \n",
      " 14  OFFENSE TYPE CODE             34152 non-null  object \n",
      " 15  OFFENSE ATTEMPT DESC          4730 non-null   object \n",
      " 16  HABITUAL CRIMINAL             218 non-null    object \n",
      " 17  OFFENSE RUN CODE              30517 non-null  object \n",
      " 18  COUNTY COMMITTED              34147 non-null  object \n",
      " 19  OFFENSE ARREST CD             34149 non-null  object \n",
      " 20  OFFENSE ARREST                34149 non-null  object \n",
      " 21  OFFENSE GROUP                 34152 non-null  object \n",
      " 22  OFFENSE CATEGORY              34149 non-null  object \n",
      " 23  SENTENCE BEGIN DATE DT        34152 non-null  object \n",
      " 24  DATE OF BIRTH DT              34152 non-null  object \n",
      " 25  SENTENCE BEGIN AGE            34152 non-null  float64\n",
      " 26  CURRENT AGE                   34152 non-null  float64\n",
      " 27  SENTENCE BEGIN YEAR           34152 non-null  int64  \n",
      "dtypes: float64(4), int64(3), object(21)\n",
      "memory usage: 7.6+ MB\n"
     ]
    }
   ],
   "source": [
    "df2000.info()"
   ]
  },
  {
   "cell_type": "markdown",
   "metadata": {},
   "source": [
    "### 10.2 Offense Group"
   ]
  },
  {
   "cell_type": "markdown",
   "metadata": {},
   "source": [
    "The percentage of offenses related to drugs rises in the 2000s"
   ]
  },
  {
   "cell_type": "code",
   "execution_count": 51,
   "metadata": {},
   "outputs": [
    {
     "data": {
      "text/plain": [
       "OFFENSE GROUP\n",
       "Drugs            0.216298\n",
       "Theft            0.134516\n",
       "Assault          0.126405\n",
       "Motor Vehicle    0.105118\n",
       "Other            0.080435\n",
       "Burglary         0.077360\n",
       "Fraud            0.072968\n",
       "Sex Offenses     0.065823\n",
       "Weapons          0.052266\n",
       "Robbery          0.037655\n",
       "dtype: float64"
      ]
     },
     "execution_count": 51,
     "metadata": {},
     "output_type": "execute_result"
    }
   ],
   "source": [
    "df2000.value_counts('OFFENSE GROUP', normalize=True).head(10)"
   ]
  },
  {
   "cell_type": "markdown",
   "metadata": {},
   "source": [
    "### 10.3 Offense Category"
   ]
  },
  {
   "cell_type": "code",
   "execution_count": 52,
   "metadata": {},
   "outputs": [
    {
     "data": {
      "text/plain": [
       "OFFENSE CATEGORY\n",
       "Other           0.282527\n",
       "Person          0.220094\n",
       "Drugs           0.216317\n",
       "Property        0.215233\n",
       "Sex Offenses    0.065829\n",
       "dtype: float64"
      ]
     },
     "execution_count": 52,
     "metadata": {},
     "output_type": "execute_result"
    }
   ],
   "source": [
    "df2000.value_counts('OFFENSE CATEGORY', normalize=True).head(10)"
   ]
  },
  {
   "cell_type": "markdown",
   "metadata": {},
   "source": [
    "### 10.4 Felony/Misdemenor Code"
   ]
  },
  {
   "cell_type": "code",
   "execution_count": 53,
   "metadata": {},
   "outputs": [
    {
     "data": {
      "text/plain": [
       "FELONY MSDMNR CODE\n",
       "CLASS IV FELONY          0.405247\n",
       "CLASS III FELONY         0.253074\n",
       "CLASS I MISDEMEANOR      0.115015\n",
       "CLASS II FELONY          0.088662\n",
       "CLASS IIIA FELONY        0.088194\n",
       "CLASS II MISDEMEANOR     0.015812\n",
       "CLASS W MISDEMEANOR      0.010892\n",
       "CLASS III MISDEMEANOR    0.010775\n",
       "CLASS IB FELONY          0.004421\n",
       "CLASS ID FELONY          0.002518\n",
       "dtype: float64"
      ]
     },
     "execution_count": 53,
     "metadata": {},
     "output_type": "execute_result"
    }
   ],
   "source": [
    "df2000.value_counts('FELONY MSDMNR CODE', normalize=True).head(10)"
   ]
  },
  {
   "cell_type": "markdown",
   "metadata": {},
   "source": [
    "### 10.5 Offense Arrest"
   ]
  },
  {
   "cell_type": "markdown",
   "metadata": {},
   "source": [
    "The most common offenses are possesion of a controlled substance and the \"dealer\" of a controlled substnace charge."
   ]
  },
  {
   "cell_type": "code",
   "execution_count": 54,
   "metadata": {},
   "outputs": [
    {
     "data": {
      "text/plain": [
       "OFFENSE ARREST\n",
       "POS CNTRL SUB EXCEPT MARIJUANA    0.111365\n",
       "MANU/DIST/DEL/DISP OR POSS W/I    0.091247\n",
       "BURGLARY                          0.074058\n",
       "THEFT BY UNLWFL TAKING OR DISP    0.046209\n",
       "FORGERY 2ND DEGREE                0.044774\n",
       "THEFT BY RECEIVING STOLEN PROP    0.042812\n",
       "DRIVING WHILE INTOXICATED         0.039386\n",
       "DRIVING UNDER REVOKED LICENSE     0.037922\n",
       "ROBBERY                           0.037658\n",
       "SEXUAL ASSAULT 1ST DEGREE         0.026414\n",
       "dtype: float64"
      ]
     },
     "execution_count": 54,
     "metadata": {},
     "output_type": "execute_result"
    }
   ],
   "source": [
    "df2000.value_counts('OFFENSE ARREST', normalize=True).head(10)"
   ]
  },
  {
   "cell_type": "markdown",
   "metadata": {},
   "source": [
    "### 10.6 Offense Type Code"
   ]
  },
  {
   "cell_type": "code",
   "execution_count": 55,
   "metadata": {},
   "outputs": [
    {
     "data": {
      "text/plain": [
       "OFFENSE TYPE CODE\n",
       "*    0.870989\n",
       "A    0.102249\n",
       "B    0.018681\n",
       "C    0.004714\n",
       "D    0.002255\n",
       "E    0.000644\n",
       "F    0.000264\n",
       "G    0.000088\n",
       "H    0.000059\n",
       "S    0.000029\n",
       "I    0.000029\n",
       "dtype: float64"
      ]
     },
     "execution_count": 55,
     "metadata": {},
     "output_type": "execute_result"
    }
   ],
   "source": [
    "df2000.value_counts('OFFENSE TYPE CODE', normalize=True)"
   ]
  },
  {
   "cell_type": "markdown",
   "metadata": {},
   "source": [
    "### 10.7 County Committed"
   ]
  },
  {
   "cell_type": "code",
   "execution_count": 56,
   "metadata": {},
   "outputs": [
    {
     "data": {
      "text/plain": [
       "COUNTY COMMITTED\n",
       "DOUGLAS         0.330307\n",
       "LANCASTER       0.141125\n",
       "SARPY           0.056637\n",
       "HALL            0.049873\n",
       "MADISON         0.041028\n",
       "SCOTTS BLUFF    0.026620\n",
       "DODGE           0.024160\n",
       "BUFFALO         0.021232\n",
       "PLATTE          0.018918\n",
       "ADAMS           0.016810\n",
       "dtype: float64"
      ]
     },
     "execution_count": 56,
     "metadata": {},
     "output_type": "execute_result"
    }
   ],
   "source": [
    "df2000.value_counts('COUNTY COMMITTED', normalize=True).head(10)"
   ]
  },
  {
   "cell_type": "markdown",
   "metadata": {},
   "source": [
    "### 10.8 Offense Minimum/Maximum Sentencing "
   ]
  },
  {
   "cell_type": "code",
   "execution_count": 57,
   "metadata": {
    "scrolled": true
   },
   "outputs": [
    {
     "data": {
      "text/plain": [
       "2.2945361911454674"
      ]
     },
     "execution_count": 57,
     "metadata": {},
     "output_type": "execute_result"
    }
   ],
   "source": [
    "df2000['OFFENSE MINIMUM YEAR OR TERM'].mean()"
   ]
  },
  {
   "cell_type": "code",
   "execution_count": 58,
   "metadata": {},
   "outputs": [
    {
     "data": {
      "text/plain": [
       "OFFENSE MINIMUM YEAR OR TERM\n",
       "1.0     0.482900\n",
       "0.0     0.219811\n",
       "2.0     0.088194\n",
       "3.0     0.064418\n",
       "4.0     0.036660\n",
       "5.0     0.033292\n",
       "10.0    0.018915\n",
       "6.0     0.011947\n",
       "8.0     0.008872\n",
       "15.0    0.005651\n",
       "dtype: float64"
      ]
     },
     "execution_count": 58,
     "metadata": {},
     "output_type": "execute_result"
    }
   ],
   "source": [
    "df2000.value_counts('OFFENSE MINIMUM YEAR OR TERM', normalize=True).head(10)"
   ]
  },
  {
   "cell_type": "code",
   "execution_count": 59,
   "metadata": {},
   "outputs": [
    {
     "data": {
      "text/plain": [
       "4.1050890138205665"
      ]
     },
     "execution_count": 59,
     "metadata": {},
     "output_type": "execute_result"
    }
   ],
   "source": [
    "df2000['OFFENSE MAXIMUM YEAR OR TERM'].mean()"
   ]
  },
  {
   "cell_type": "code",
   "execution_count": 60,
   "metadata": {},
   "outputs": [
    {
     "data": {
      "text/plain": [
       "OFFENSE MAXIMUM YEAR OR TERM\n",
       "1.0     0.240279\n",
       "3.0     0.155159\n",
       "5.0     0.149713\n",
       "2.0     0.145292\n",
       "0.0     0.087491\n",
       "4.0     0.084914\n",
       "10.0    0.026528\n",
       "6.0     0.025738\n",
       "20.0    0.016632\n",
       "8.0     0.016017\n",
       "dtype: float64"
      ]
     },
     "execution_count": 60,
     "metadata": {},
     "output_type": "execute_result"
    }
   ],
   "source": [
    "df2000.value_counts('OFFENSE MAXIMUM YEAR OR TERM', normalize=True).head(10)"
   ]
  },
  {
   "cell_type": "markdown",
   "metadata": {},
   "source": [
    "### 10.9 Graphs"
   ]
  },
  {
   "cell_type": "markdown",
   "metadata": {},
   "source": [
    "The percentage of black inmates steadily rises over the 2000s. Hispanic inmate numbers stay about the same."
   ]
  },
  {
   "cell_type": "code",
   "execution_count": 61,
   "metadata": {
    "scrolled": false
   },
   "outputs": [
    {
     "data": {
      "text/plain": [
       "<matplotlib.legend.Legend at 0x7fe06ca33c10>"
      ]
     },
     "execution_count": 61,
     "metadata": {},
     "output_type": "execute_result"
    },
    {
     "data": {
      "image/png": "[encoded data removed]",
      "text/plain": [
       "<Figure size 1080x720 with 1 Axes>"
      ]
     },
     "metadata": {},
     "output_type": "display_data"
    }
   ],
   "source": [
    "fig_dims = (15, 10)\n",
    "fig, ax = plt.subplots(figsize=fig_dims)\n",
    "sns.set_theme(style=\"darkgrid\")\n",
    "\n",
    "ax = sns.countplot(x=\"OFFENSE GROUP\", hue=\"RACE DESC\", ax=ax\n",
    "                   , data=df2000,\n",
    "                   order=df2000[\"OFFENSE GROUP\"].value_counts().iloc[:15].index,\n",
    "                  hue_order=df2000[\"RACE DESC\"].value_counts().iloc[:5].index)\n",
    "plt.xticks(rotation = 45, ha = 'right')\n",
    "plt.legend(title = 'RACE', bbox_to_anchor = (1, 1))"
   ]
  },
  {
   "cell_type": "markdown",
   "metadata": {},
   "source": [
    "## 11. Exploring 2010s Value Counts, Value Averages, and Visualizations "
   ]
  },
  {
   "cell_type": "markdown",
   "metadata": {},
   "source": [
    "### 11.1 General Info"
   ]
  },
  {
   "cell_type": "code",
   "execution_count": 62,
   "metadata": {},
   "outputs": [
    {
     "name": "stdout",
     "output_type": "stream",
     "text": [
      "<class 'pandas.core.frame.DataFrame'>\n",
      "Int64Index: 42511 entries, 0 to 114764\n",
      "Data columns (total 28 columns):\n",
      " #   Column                        Non-Null Count  Dtype  \n",
      "---  ------                        --------------  -----  \n",
      " 0   ID NUMBER                     42511 non-null  int64  \n",
      " 1   DATE OF BIRTH                 42511 non-null  object \n",
      " 2   RACE DESC                     42511 non-null  object \n",
      " 3   GENDER                        42511 non-null  object \n",
      " 4   FACILITY                      16516 non-null  object \n",
      " 5   SENTENCE BEGIN DATE           42511 non-null  object \n",
      " 6   MIN TERM/YEAR                 42511 non-null  object \n",
      " 7   MAX TERM/YEAR                 42511 non-null  object \n",
      " 8   INST RELEASE DATE             35638 non-null  object \n",
      " 9   ACTIVE                        42511 non-null  int64  \n",
      " 10  OFFENSE MINIMUM YEAR OR TERM  42511 non-null  float64\n",
      " 11  OFFENSE MAXIMUM YEAR OR TERM  42511 non-null  float64\n",
      " 12  OFFENSE ARREST DESC           42511 non-null  object \n",
      " 13  FELONY MSDMNR CODE            42511 non-null  object \n",
      " 14  OFFENSE TYPE CODE             42511 non-null  object \n",
      " 15  OFFENSE ATTEMPT DESC          6618 non-null   object \n",
      " 16  HABITUAL CRIMINAL             229 non-null    object \n",
      " 17  OFFENSE RUN CODE              25880 non-null  object \n",
      " 18  COUNTY COMMITTED              42509 non-null  object \n",
      " 19  OFFENSE ARREST CD             42510 non-null  object \n",
      " 20  OFFENSE ARREST                42510 non-null  object \n",
      " 21  OFFENSE GROUP                 42511 non-null  object \n",
      " 22  OFFENSE CATEGORY              42510 non-null  object \n",
      " 23  SENTENCE BEGIN DATE DT        42511 non-null  object \n",
      " 24  DATE OF BIRTH DT              42511 non-null  object \n",
      " 25  SENTENCE BEGIN AGE            42511 non-null  float64\n",
      " 26  CURRENT AGE                   42511 non-null  float64\n",
      " 27  SENTENCE BEGIN YEAR           42511 non-null  int64  \n",
      "dtypes: float64(4), int64(3), object(21)\n",
      "memory usage: 9.4+ MB\n"
     ]
    }
   ],
   "source": [
    "df2010.info()"
   ]
  },
  {
   "cell_type": "markdown",
   "metadata": {},
   "source": [
    "### 11.2 Offense Group"
   ]
  },
  {
   "cell_type": "code",
   "execution_count": 63,
   "metadata": {},
   "outputs": [
    {
     "data": {
      "text/plain": [
       "OFFENSE GROUP\n",
       "Drugs            0.208817\n",
       "Assault          0.157042\n",
       "Theft            0.132577\n",
       "Motor Vehicle    0.105573\n",
       "Other            0.080191\n",
       "Weapons          0.078497\n",
       "Sex Offenses     0.072499\n",
       "Burglary         0.063678\n",
       "Fraud            0.043706\n",
       "Robbery          0.031733\n",
       "dtype: float64"
      ]
     },
     "execution_count": 63,
     "metadata": {},
     "output_type": "execute_result"
    }
   ],
   "source": [
    "df2010.value_counts('OFFENSE GROUP', normalize=True).head(10)"
   ]
  },
  {
   "cell_type": "markdown",
   "metadata": {},
   "source": [
    "### 11.3 Offense Category"
   ]
  },
  {
   "cell_type": "code",
   "execution_count": 64,
   "metadata": {},
   "outputs": [
    {
     "data": {
      "text/plain": [
       "OFFENSE CATEGORY\n",
       "Other           0.283322\n",
       "Person          0.236791\n",
       "Drugs           0.208821\n",
       "Property        0.198565\n",
       "Sex Offenses    0.072501\n",
       "dtype: float64"
      ]
     },
     "execution_count": 64,
     "metadata": {},
     "output_type": "execute_result"
    }
   ],
   "source": [
    "df2010.value_counts('OFFENSE CATEGORY', normalize=True).head(10)"
   ]
  },
  {
   "cell_type": "markdown",
   "metadata": {},
   "source": [
    "### 11.4 Felony/Misdemenor Code"
   ]
  },
  {
   "cell_type": "code",
   "execution_count": 65,
   "metadata": {},
   "outputs": [
    {
     "data": {
      "text/plain": [
       "FELONY MSDMNR CODE\n",
       "CLASS IV FELONY          0.342382\n",
       "CLASS III FELONY         0.170168\n",
       "CLASS IIIA FELONY        0.130225\n",
       "CLASS I MISDEMEANOR      0.108348\n",
       "CLASS II FELONY          0.105455\n",
       "CLASS IIA FELONY         0.058667\n",
       "CLASS ID FELONY          0.025852\n",
       "CLASS II MISDEMEANOR     0.017454\n",
       "CLASS III MISDEMEANOR    0.010609\n",
       "CLASS IC FELONY          0.009080\n",
       "dtype: float64"
      ]
     },
     "execution_count": 65,
     "metadata": {},
     "output_type": "execute_result"
    }
   ],
   "source": [
    "df2010.value_counts('FELONY MSDMNR CODE', normalize=True).head(10)"
   ]
  },
  {
   "cell_type": "markdown",
   "metadata": {},
   "source": [
    "### 11.5 Offense Arrest"
   ]
  },
  {
   "cell_type": "code",
   "execution_count": 66,
   "metadata": {},
   "outputs": [
    {
     "data": {
      "text/plain": [
       "OFFENSE ARREST\n",
       "POS CNTRL SUB EXCEPT MARIJUANA    0.111433\n",
       "MANU/DIST/DEL/DISP OR POSS W/I    0.085721\n",
       "BURGLARY                          0.060668\n",
       "THEFT BY UNLWFL TAKING OR DISP    0.045919\n",
       "DRIVING WHILE INTOXICATED         0.041778\n",
       "THEFT BY RECEIVING STOLEN PROP    0.037756\n",
       "POSS DEADLY WEAP BY FELON/FUG     0.033239\n",
       "TERRORISTIC THREATS               0.032416\n",
       "ROBBERY                           0.031734\n",
       "THEFT BY SHOPLIFTING              0.031640\n",
       "dtype: float64"
      ]
     },
     "execution_count": 66,
     "metadata": {},
     "output_type": "execute_result"
    }
   ],
   "source": [
    "df2010.value_counts('OFFENSE ARREST', normalize=True).head(10)"
   ]
  },
  {
   "cell_type": "markdown",
   "metadata": {},
   "source": [
    "### 11.6 Offense Type Code"
   ]
  },
  {
   "cell_type": "code",
   "execution_count": 67,
   "metadata": {},
   "outputs": [
    {
     "data": {
      "text/plain": [
       "OFFENSE TYPE CODE\n",
       "*    0.867893\n",
       "A    0.104679\n",
       "B    0.020724\n",
       "C    0.004822\n",
       "D    0.001317\n",
       "E    0.000329\n",
       "F    0.000141\n",
       "G    0.000071\n",
       "N    0.000024\n",
       "dtype: float64"
      ]
     },
     "execution_count": 67,
     "metadata": {},
     "output_type": "execute_result"
    }
   ],
   "source": [
    "df2010.value_counts('OFFENSE TYPE CODE', normalize=True)"
   ]
  },
  {
   "cell_type": "markdown",
   "metadata": {},
   "source": [
    "### 11.7 County Committed"
   ]
  },
  {
   "cell_type": "code",
   "execution_count": 68,
   "metadata": {},
   "outputs": [
    {
     "data": {
      "text/plain": [
       "COUNTY COMMITTED\n",
       "DOUGLAS         0.298831\n",
       "LANCASTER       0.187302\n",
       "HALL            0.064010\n",
       "SARPY           0.053377\n",
       "MADISON         0.037757\n",
       "BUFFALO         0.029217\n",
       "DODGE           0.027618\n",
       "SCOTTS BLUFF    0.022019\n",
       "ADAMS           0.021360\n",
       "PLATTE          0.019878\n",
       "dtype: float64"
      ]
     },
     "execution_count": 68,
     "metadata": {},
     "output_type": "execute_result"
    }
   ],
   "source": [
    "df2010.value_counts('COUNTY COMMITTED', normalize=True).head(10)"
   ]
  },
  {
   "cell_type": "markdown",
   "metadata": {},
   "source": [
    "### 11.8 Offense Minimum/Maximum Sentencing "
   ]
  },
  {
   "cell_type": "code",
   "execution_count": 69,
   "metadata": {},
   "outputs": [
    {
     "data": {
      "text/plain": [
       "2.7527228246806708"
      ]
     },
     "execution_count": 69,
     "metadata": {},
     "output_type": "execute_result"
    }
   ],
   "source": [
    "df2010['OFFENSE MINIMUM YEAR OR TERM'].mean()"
   ]
  },
  {
   "cell_type": "code",
   "execution_count": 70,
   "metadata": {},
   "outputs": [
    {
     "data": {
      "text/plain": [
       "OFFENSE MINIMUM YEAR OR TERM\n",
       "0.0     0.314624\n",
       "1.0     0.313213\n",
       "2.0     0.109407\n",
       "3.0     0.081861\n",
       "4.0     0.039966\n",
       "5.0     0.039119\n",
       "10.0    0.021994\n",
       "6.0     0.016866\n",
       "8.0     0.011291\n",
       "20.0    0.009174\n",
       "dtype: float64"
      ]
     },
     "execution_count": 70,
     "metadata": {},
     "output_type": "execute_result"
    }
   ],
   "source": [
    "df2010.value_counts('OFFENSE MINIMUM YEAR OR TERM', normalize=True).head(10)"
   ]
  },
  {
   "cell_type": "code",
   "execution_count": 71,
   "metadata": {},
   "outputs": [
    {
     "data": {
      "text/plain": [
       "4.335277928065677"
      ]
     },
     "execution_count": 71,
     "metadata": {},
     "output_type": "execute_result"
    }
   ],
   "source": [
    "df2010['OFFENSE MAXIMUM YEAR OR TERM'].mean()"
   ]
  },
  {
   "cell_type": "code",
   "execution_count": 72,
   "metadata": {},
   "outputs": [
    {
     "data": {
      "text/plain": [
       "OFFENSE MAXIMUM YEAR OR TERM\n",
       "0.0     0.208370\n",
       "1.0     0.203406\n",
       "2.0     0.133189\n",
       "3.0     0.112747\n",
       "5.0     0.102962\n",
       "4.0     0.063278\n",
       "10.0    0.031145\n",
       "6.0     0.031098\n",
       "8.0     0.021971\n",
       "20.0    0.018889\n",
       "dtype: float64"
      ]
     },
     "execution_count": 72,
     "metadata": {},
     "output_type": "execute_result"
    }
   ],
   "source": [
    "df2010.value_counts('OFFENSE MAXIMUM YEAR OR TERM', normalize=True).head(10)"
   ]
  },
  {
   "cell_type": "markdown",
   "metadata": {},
   "source": [
    "### 11.9 Graphs"
   ]
  },
  {
   "cell_type": "code",
   "execution_count": 73,
   "metadata": {
    "scrolled": false
   },
   "outputs": [
    {
     "data": {
      "text/plain": [
       "<matplotlib.legend.Legend at 0x7fe06f481dc0>"
      ]
     },
     "execution_count": 73,
     "metadata": {},
     "output_type": "execute_result"
    },
    {
     "data": {
      "image/png": "[encoded data removed]",
      "text/plain": [
       "<Figure size 1080x720 with 1 Axes>"
      ]
     },
     "metadata": {},
     "output_type": "display_data"
    }
   ],
   "source": [
    "fig_dims = (15, 10)\n",
    "fig, ax = plt.subplots(figsize=fig_dims)\n",
    "sns.set_theme(style=\"darkgrid\")\n",
    "\n",
    "ax = sns.countplot(x=\"OFFENSE GROUP\", hue=\"RACE DESC\", ax=ax\n",
    "                   , data=df2010,  \n",
    "                   order=df2010[\"OFFENSE GROUP\"].value_counts().iloc[:15].index,\n",
    "                  hue_order=df2010[\"RACE DESC\"].value_counts().iloc[:5].index)\n",
    "plt.xticks(rotation = 45, ha = 'right')\n",
    "plt.legend(title = 'RACE', bbox_to_anchor = (1, 1))"
   ]
  },
  {
   "cell_type": "markdown",
   "metadata": {},
   "source": [
    "## 12. Exploring Active Inmate Value Counts, Value Averages, and Visualizations "
   ]
  },
  {
   "cell_type": "markdown",
   "metadata": {},
   "source": [
    "### 12.1 General Info"
   ]
  },
  {
   "cell_type": "code",
   "execution_count": 74,
   "metadata": {},
   "outputs": [
    {
     "name": "stdout",
     "output_type": "stream",
     "text": [
      "<class 'pandas.core.frame.DataFrame'>\n",
      "Int64Index: 17599 entries, 23 to 113609\n",
      "Data columns (total 28 columns):\n",
      " #   Column                        Non-Null Count  Dtype  \n",
      "---  ------                        --------------  -----  \n",
      " 0   ID NUMBER                     17599 non-null  int64  \n",
      " 1   DATE OF BIRTH                 17599 non-null  object \n",
      " 2   RACE DESC                     17599 non-null  object \n",
      " 3   GENDER                        17599 non-null  object \n",
      " 4   FACILITY                      17513 non-null  object \n",
      " 5   SENTENCE BEGIN DATE           17599 non-null  object \n",
      " 6   MIN TERM/YEAR                 17599 non-null  object \n",
      " 7   MAX TERM/YEAR                 17599 non-null  object \n",
      " 8   INST RELEASE DATE             7320 non-null   object \n",
      " 9   ACTIVE                        17599 non-null  int64  \n",
      " 10  OFFENSE MINIMUM YEAR OR TERM  17599 non-null  float64\n",
      " 11  OFFENSE MAXIMUM YEAR OR TERM  17599 non-null  float64\n",
      " 12  OFFENSE ARREST DESC           17599 non-null  object \n",
      " 13  FELONY MSDMNR CODE            17590 non-null  object \n",
      " 14  OFFENSE TYPE CODE             17599 non-null  object \n",
      " 15  OFFENSE ATTEMPT DESC          2798 non-null   object \n",
      " 16  HABITUAL CRIMINAL             426 non-null    object \n",
      " 17  OFFENSE RUN CODE              11237 non-null  object \n",
      " 18  COUNTY COMMITTED              17599 non-null  object \n",
      " 19  OFFENSE ARREST CD             17599 non-null  object \n",
      " 20  OFFENSE ARREST                17599 non-null  object \n",
      " 21  OFFENSE GROUP                 17599 non-null  object \n",
      " 22  OFFENSE CATEGORY              17599 non-null  object \n",
      " 23  SENTENCE BEGIN DATE DT        17599 non-null  object \n",
      " 24  DATE OF BIRTH DT              17599 non-null  object \n",
      " 25  SENTENCE BEGIN AGE            17599 non-null  float64\n",
      " 26  CURRENT AGE                   17599 non-null  float64\n",
      " 27  SENTENCE BEGIN YEAR           17599 non-null  int64  \n",
      "dtypes: float64(4), int64(3), object(21)\n",
      "memory usage: 3.9+ MB\n"
     ]
    }
   ],
   "source": [
    "dfActive.info()"
   ]
  },
  {
   "cell_type": "markdown",
   "metadata": {},
   "source": [
    "### 12.2 Offense Group"
   ]
  },
  {
   "cell_type": "code",
   "execution_count": 75,
   "metadata": {},
   "outputs": [
    {
     "data": {
      "text/plain": [
       "OFFENSE GROUP\n",
       "Assault          0.174158\n",
       "Drugs            0.160350\n",
       "Weapons          0.137110\n",
       "Sex Offenses     0.110177\n",
       "Theft            0.089210\n",
       "Motor Vehicle    0.067049\n",
       "Other            0.066140\n",
       "Burglary         0.053753\n",
       "Robbery          0.050116\n",
       "Homicide         0.044093\n",
       "dtype: float64"
      ]
     },
     "execution_count": 75,
     "metadata": {},
     "output_type": "execute_result"
    }
   ],
   "source": [
    "dfActive.value_counts('OFFENSE GROUP', normalize=True).head(10)"
   ]
  },
  {
   "cell_type": "markdown",
   "metadata": {},
   "source": [
    "### 12.3 Offense Category"
   ]
  },
  {
   "cell_type": "code",
   "execution_count": 76,
   "metadata": {},
   "outputs": [
    {
     "data": {
      "text/plain": [
       "OFFENSE CATEGORY\n",
       "Person          0.342804\n",
       "Other           0.241661\n",
       "Drugs           0.160350\n",
       "Property        0.145008\n",
       "Sex Offenses    0.110177\n",
       "dtype: float64"
      ]
     },
     "execution_count": 76,
     "metadata": {},
     "output_type": "execute_result"
    }
   ],
   "source": [
    "dfActive.value_counts('OFFENSE CATEGORY', normalize=True).head(10)"
   ]
  },
  {
   "cell_type": "markdown",
   "metadata": {},
   "source": [
    "### 12.4 Felony/Misdemenor Code"
   ]
  },
  {
   "cell_type": "code",
   "execution_count": 77,
   "metadata": {},
   "outputs": [
    {
     "data": {
      "text/plain": [
       "FELONY MSDMNR CODE\n",
       "CLASS IV FELONY         0.216202\n",
       "CLASS II FELONY         0.177317\n",
       "CLASS IIIA FELONY       0.145935\n",
       "CLASS III FELONY        0.120125\n",
       "CLASS IIA FELONY        0.111427\n",
       "CLASS I MISDEMEANOR     0.079477\n",
       "CLASS ID FELONY         0.047015\n",
       "CLASS IB FELONY         0.030301\n",
       "CLASS IC FELONY         0.021489\n",
       "CLASS II MISDEMEANOR    0.012848\n",
       "dtype: float64"
      ]
     },
     "execution_count": 77,
     "metadata": {},
     "output_type": "execute_result"
    }
   ],
   "source": [
    "dfActive.value_counts('FELONY MSDMNR CODE', normalize=True).head(10)"
   ]
  },
  {
   "cell_type": "markdown",
   "metadata": {},
   "source": [
    "### 12.5 Offense Arrest"
   ]
  },
  {
   "cell_type": "code",
   "execution_count": 78,
   "metadata": {},
   "outputs": [
    {
     "data": {
      "text/plain": [
       "OFFENSE ARREST\n",
       "POS CNTRL SUB EXCEPT MARIJUANA    0.086709\n",
       "MANU/DIST/DEL/DISP OR POSS W/I    0.067731\n",
       "BURGLARY                          0.051139\n",
       "ROBBERY                           0.050116\n",
       "POSS DEADLY WEAP BY FELON/FUG     0.044207\n",
       "SEXUAL ASSAULT 1ST DEGREE         0.039945\n",
       "USE DEADLY WEAP TO COMMIT FEL     0.035229\n",
       "THEFT BY UNLWFL TAKING OR DISP    0.032956\n",
       "TERRORISTIC THREATS               0.031706\n",
       "SEXUAL ASSULT OF CHILD 1ST DEG    0.030684\n",
       "dtype: float64"
      ]
     },
     "execution_count": 78,
     "metadata": {},
     "output_type": "execute_result"
    }
   ],
   "source": [
    "dfActive.value_counts('OFFENSE ARREST', normalize=True).head(10)"
   ]
  },
  {
   "cell_type": "markdown",
   "metadata": {},
   "source": [
    "### 12.6 Offense Type Code"
   ]
  },
  {
   "cell_type": "code",
   "execution_count": 79,
   "metadata": {},
   "outputs": [
    {
     "data": {
      "text/plain": [
       "OFFENSE TYPE CODE\n",
       "*    0.819137\n",
       "A    0.130291\n",
       "B    0.033866\n",
       "C    0.010057\n",
       "D    0.004546\n",
       "E    0.001080\n",
       "F    0.000625\n",
       "G    0.000341\n",
       "H    0.000057\n",
       "dtype: float64"
      ]
     },
     "execution_count": 79,
     "metadata": {},
     "output_type": "execute_result"
    }
   ],
   "source": [
    "dfActive.value_counts('OFFENSE TYPE CODE', normalize=True)"
   ]
  },
  {
   "cell_type": "markdown",
   "metadata": {},
   "source": [
    "### 12.7 County Committed"
   ]
  },
  {
   "cell_type": "code",
   "execution_count": 80,
   "metadata": {},
   "outputs": [
    {
     "data": {
      "text/plain": [
       "COUNTY COMMITTED\n",
       "DOUGLAS         0.321666\n",
       "LANCASTER       0.204330\n",
       "HALL            0.057219\n",
       "SARPY           0.045116\n",
       "MADISON         0.037332\n",
       "BUFFALO         0.036934\n",
       "SCOTTS BLUFF    0.028354\n",
       "GAGE            0.018353\n",
       "PLATTE          0.018012\n",
       "DODGE           0.016649\n",
       "dtype: float64"
      ]
     },
     "execution_count": 80,
     "metadata": {},
     "output_type": "execute_result"
    }
   ],
   "source": [
    "dfActive.value_counts('COUNTY COMMITTED', normalize=True).head(10)"
   ]
  },
  {
   "cell_type": "markdown",
   "metadata": {},
   "source": [
    "### 12.8 Offense Minimum/Maximum Sentencing "
   ]
  },
  {
   "cell_type": "code",
   "execution_count": 81,
   "metadata": {},
   "outputs": [
    {
     "data": {
      "text/plain": [
       "6.679413603045628"
      ]
     },
     "execution_count": 81,
     "metadata": {},
     "output_type": "execute_result"
    }
   ],
   "source": [
    "dfActive['OFFENSE MINIMUM YEAR OR TERM'].mean()"
   ]
  },
  {
   "cell_type": "code",
   "execution_count": 82,
   "metadata": {},
   "outputs": [
    {
     "data": {
      "text/plain": [
       "OFFENSE MINIMUM YEAR OR TERM\n",
       "0.0     0.298767\n",
       "1.0     0.108245\n",
       "2.0     0.095460\n",
       "3.0     0.091255\n",
       "10.0    0.067049\n",
       "5.0     0.063981\n",
       "4.0     0.045798\n",
       "20.0    0.032900\n",
       "6.0     0.030627\n",
       "15.0    0.024604\n",
       "dtype: float64"
      ]
     },
     "execution_count": 82,
     "metadata": {},
     "output_type": "execute_result"
    }
   ],
   "source": [
    "dfActive.value_counts('OFFENSE MINIMUM YEAR OR TERM', normalize=True).head(10)"
   ]
  },
  {
   "cell_type": "code",
   "execution_count": 83,
   "metadata": {},
   "outputs": [
    {
     "data": {
      "text/plain": [
       "9.73515540655719"
      ]
     },
     "execution_count": 83,
     "metadata": {},
     "output_type": "execute_result"
    }
   ],
   "source": [
    "dfActive['OFFENSE MAXIMUM YEAR OR TERM'].mean()"
   ]
  },
  {
   "cell_type": "code",
   "execution_count": 84,
   "metadata": {},
   "outputs": [
    {
     "data": {
      "text/plain": [
       "OFFENSE MAXIMUM YEAR OR TERM\n",
       "0.0     0.194784\n",
       "2.0     0.114325\n",
       "1.0     0.093130\n",
       "3.0     0.079550\n",
       "5.0     0.075913\n",
       "20.0    0.066992\n",
       "10.0    0.064492\n",
       "6.0     0.034036\n",
       "8.0     0.033070\n",
       "4.0     0.031877\n",
       "dtype: float64"
      ]
     },
     "execution_count": 84,
     "metadata": {},
     "output_type": "execute_result"
    }
   ],
   "source": [
    "dfActive.value_counts('OFFENSE MAXIMUM YEAR OR TERM', normalize=True).head(10)"
   ]
  },
  {
   "cell_type": "markdown",
   "metadata": {},
   "source": [
    "### 11.5 Graphs"
   ]
  },
  {
   "cell_type": "markdown",
   "metadata": {},
   "source": [
    "The percentage of black inmates steadily rises over the Actives. Hispanic inmate numbers stay about the same."
   ]
  },
  {
   "cell_type": "code",
   "execution_count": 85,
   "metadata": {},
   "outputs": [
    {
     "data": {
      "text/plain": [
       "<matplotlib.legend.Legend at 0x7fe06cb39610>"
      ]
     },
     "execution_count": 85,
     "metadata": {},
     "output_type": "execute_result"
    },
    {
     "data": {
      "image/png": "[encoded data removed]",
      "text/plain": [
       "<Figure size 1080x720 with 1 Axes>"
      ]
     },
     "metadata": {},
     "output_type": "display_data"
    }
   ],
   "source": [
    "fig_dims = (15, 10)\n",
    "fig, ax = plt.subplots(figsize=fig_dims)\n",
    "sns.set_theme(style=\"darkgrid\")\n",
    "\n",
    "ax = sns.countplot(x=\"OFFENSE GROUP\", hue=\"RACE DESC\", ax=ax\n",
    "                   , data=dfActive,  \n",
    "                   order=dfActive[\"OFFENSE GROUP\"].value_counts().iloc[:15].index,\n",
    "                  hue_order=dfActive[\"RACE DESC\"].value_counts().iloc[:5].index)\n",
    "plt.xticks(rotation = 45, ha = 'right')\n",
    "plt.legend(title = 'RACE', bbox_to_anchor = (1, 1))"
   ]
  },
  {
   "cell_type": "markdown",
   "metadata": {},
   "source": [
    "## 13. All Values Compared"
   ]
  },
  {
   "cell_type": "code",
   "execution_count": 86,
   "metadata": {},
   "outputs": [
    {
     "name": "stdout",
     "output_type": "stream",
     "text": [
      "<class 'pandas.core.frame.DataFrame'>\n",
      "RangeIndex: 114765 entries, 0 to 114764\n",
      "Data columns (total 28 columns):\n",
      " #   Column                        Non-Null Count   Dtype  \n",
      "---  ------                        --------------   -----  \n",
      " 0   ID NUMBER                     114765 non-null  int64  \n",
      " 1   DATE OF BIRTH                 114765 non-null  object \n",
      " 2   RACE DESC                     114765 non-null  object \n",
      " 3   GENDER                        114765 non-null  object \n",
      " 4   FACILITY                      24703 non-null   object \n",
      " 5   SENTENCE BEGIN DATE           114765 non-null  object \n",
      " 6   MIN TERM/YEAR                 114765 non-null  object \n",
      " 7   MAX TERM/YEAR                 114765 non-null  object \n",
      " 8   INST RELEASE DATE             103618 non-null  object \n",
      " 9   ACTIVE                        114765 non-null  int64  \n",
      " 10  OFFENSE MINIMUM YEAR OR TERM  114765 non-null  float64\n",
      " 11  OFFENSE MAXIMUM YEAR OR TERM  114765 non-null  float64\n",
      " 12  OFFENSE ARREST DESC           114765 non-null  object \n",
      " 13  FELONY MSDMNR CODE            104698 non-null  object \n",
      " 14  OFFENSE TYPE CODE             114765 non-null  object \n",
      " 15  OFFENSE ATTEMPT DESC          15549 non-null   object \n",
      " 16  HABITUAL CRIMINAL             675 non-null     object \n",
      " 17  OFFENSE RUN CODE              92414 non-null   object \n",
      " 18  COUNTY COMMITTED              114746 non-null  object \n",
      " 19  OFFENSE ARREST CD             114735 non-null  object \n",
      " 20  OFFENSE ARREST                114735 non-null  object \n",
      " 21  OFFENSE GROUP                 114765 non-null  object \n",
      " 22  OFFENSE CATEGORY              114735 non-null  object \n",
      " 23  SENTENCE BEGIN DATE DT        114765 non-null  object \n",
      " 24  DATE OF BIRTH DT              114765 non-null  object \n",
      " 25  SENTENCE BEGIN AGE            114765 non-null  float64\n",
      " 26  CURRENT AGE                   114765 non-null  float64\n",
      " 27  SENTENCE BEGIN YEAR           114765 non-null  int64  \n",
      "dtypes: float64(4), int64(3), object(21)\n",
      "memory usage: 24.5+ MB\n"
     ]
    }
   ],
   "source": [
    "df.info()"
   ]
  },
  {
   "cell_type": "markdown",
   "metadata": {},
   "source": [
    "### 13.1 Offense Group Percentages by Decade"
   ]
  },
  {
   "cell_type": "code",
   "execution_count": 87,
   "metadata": {},
   "outputs": [
    {
     "name": "stdout",
     "output_type": "stream",
     "text": [
      "1980s:\n",
      "OFFENSE GROUP\n",
      "Burglary            0.168132\n",
      "Theft               0.153814\n",
      "Drugs               0.115549\n",
      "Other               0.112786\n",
      "Fraud               0.084820\n",
      "Sex Offenses        0.072176\n",
      "Assault             0.071506\n",
      "Robbery             0.067822\n",
      "Weapons             0.051830\n",
      "Motor Vehicle       0.045299\n",
      "Homicide            0.024449\n",
      "Restraint           0.014402\n",
      "Arson               0.008792\n",
      "Morals              0.006447\n",
      "Data Unavailable    0.002177\n",
      "dtype: float64\n",
      "\n",
      "1990s:\n",
      "OFFENSE GROUP\n",
      "Drugs            0.196215\n",
      "Theft            0.137014\n",
      "Assault          0.100058\n",
      "Other            0.095529\n",
      "Burglary         0.094049\n",
      "Motor Vehicle    0.089608\n",
      "Sex Offenses     0.075391\n",
      "Fraud            0.072790\n",
      "Weapons          0.061398\n",
      "Robbery          0.037628\n",
      "Homicide         0.017805\n",
      "Restraint        0.009463\n",
      "Arson            0.006593\n",
      "Morals           0.006458\n",
      "dtype: float64\n",
      "\n",
      "2000s:\n",
      "OFFENSE GROUP\n",
      "Drugs               0.216298\n",
      "Theft               0.134516\n",
      "Assault             0.126405\n",
      "Motor Vehicle       0.105118\n",
      "Other               0.080435\n",
      "Burglary            0.077360\n",
      "Fraud               0.072968\n",
      "Sex Offenses        0.065823\n",
      "Weapons             0.052266\n",
      "Robbery             0.037655\n",
      "Homicide            0.012386\n",
      "Restraint           0.008609\n",
      "Morals              0.005680\n",
      "Arson               0.004392\n",
      "Data Unavailable    0.000088\n",
      "dtype: float64\n",
      "\n",
      "2010s:\n",
      "OFFENSE GROUP\n",
      "Drugs               0.208817\n",
      "Assault             0.157042\n",
      "Theft               0.132577\n",
      "Motor Vehicle       0.105573\n",
      "Other               0.080191\n",
      "Weapons             0.078497\n",
      "Sex Offenses        0.072499\n",
      "Burglary            0.063678\n",
      "Fraud               0.043706\n",
      "Robbery             0.031733\n",
      "Homicide            0.009433\n",
      "Restraint           0.007363\n",
      "Morals              0.005457\n",
      "Arson               0.003411\n",
      "Data Unavailable    0.000024\n",
      "dtype: float64\n",
      "\n",
      "Active:\n",
      "OFFENSE GROUP\n",
      "Assault          0.174158\n",
      "Drugs            0.160350\n",
      "Weapons          0.137110\n",
      "Sex Offenses     0.110177\n",
      "Theft            0.089210\n",
      "Motor Vehicle    0.067049\n",
      "Other            0.066140\n",
      "Burglary         0.053753\n",
      "Robbery          0.050116\n",
      "Homicide         0.044093\n",
      "Fraud            0.025115\n",
      "Restraint        0.012046\n",
      "Morals           0.007046\n",
      "Arson            0.003637\n",
      "dtype: float64\n"
     ]
    }
   ],
   "source": [
    "print('1980s:')\n",
    "print(df1980.value_counts('OFFENSE GROUP', normalize=True))\n",
    "print()\n",
    "print('1990s:')\n",
    "print(df1990.value_counts('OFFENSE GROUP', normalize=True))\n",
    "print()\n",
    "print('2000s:')\n",
    "print(df2000.value_counts('OFFENSE GROUP', normalize=True))\n",
    "print()\n",
    "print('2010s:')\n",
    "print(df2010.value_counts('OFFENSE GROUP', normalize=True))\n",
    "print()\n",
    "print('Active:')\n",
    "print(dfActive.value_counts('OFFENSE GROUP', normalize=True))"
   ]
  },
  {
   "cell_type": "markdown",
   "metadata": {},
   "source": [
    "### 13.2 Offense Arrest Percentages by Decade"
   ]
  },
  {
   "cell_type": "code",
   "execution_count": 88,
   "metadata": {},
   "outputs": [
    {
     "name": "stdout",
     "output_type": "stream",
     "text": [
      "1980s:\n",
      "OFFENSE ARREST\n",
      "BURGLARY                          0.161954\n",
      "THEFT                             0.133675\n",
      "ROBBERY                           0.067802\n",
      "SEXUAL ASSAULT 1ST DEGREE         0.053873\n",
      "FORGERY 2ND DEGREE                0.051859\n",
      "MANU/DIST/DEL/DISP OR POSS W/I    0.050097\n",
      "ESCAPE                            0.040866\n",
      "POS CNTRL SUB EXCEPT MARIJUANA    0.039523\n",
      "USE FIREARM TO COMMIT FELONY      0.030209\n",
      "ASSAULT 1ST DEGREE                0.021901\n",
      "dtype: float64\n",
      "\n",
      "1990s:\n",
      "OFFENSE ARREST\n",
      "MANU/DIST/DEL/DISP OR POSS W/I    0.122573\n",
      "BURGLARY                          0.090371\n",
      "THEFT                             0.064986\n",
      "POS CNTRL SUB EXCEPT MARIJUANA    0.062744\n",
      "DRIVING UNDER REVOKED LICENSE     0.055254\n",
      "FORGERY 2ND DEGREE                0.047450\n",
      "ROBBERY                           0.037628\n",
      "SEXUAL ASSAULT 1ST DEGREE         0.036911\n",
      "SEXUAL ASSAULT ON A CHILD         0.029556\n",
      "THEFT BY RECEIVING STOLEN PROP    0.025429\n",
      "dtype: float64\n",
      "\n",
      "2000s:\n",
      "OFFENSE ARREST\n",
      "POS CNTRL SUB EXCEPT MARIJUANA    0.111365\n",
      "MANU/DIST/DEL/DISP OR POSS W/I    0.091247\n",
      "BURGLARY                          0.074058\n",
      "THEFT BY UNLWFL TAKING OR DISP    0.046209\n",
      "FORGERY 2ND DEGREE                0.044774\n",
      "THEFT BY RECEIVING STOLEN PROP    0.042812\n",
      "DRIVING WHILE INTOXICATED         0.039386\n",
      "DRIVING UNDER REVOKED LICENSE     0.037922\n",
      "ROBBERY                           0.037658\n",
      "SEXUAL ASSAULT 1ST DEGREE         0.026414\n",
      "dtype: float64\n",
      "\n",
      "2010s:\n",
      "OFFENSE ARREST\n",
      "POS CNTRL SUB EXCEPT MARIJUANA    0.111433\n",
      "MANU/DIST/DEL/DISP OR POSS W/I    0.085721\n",
      "BURGLARY                          0.060668\n",
      "THEFT BY UNLWFL TAKING OR DISP    0.045919\n",
      "DRIVING WHILE INTOXICATED         0.041778\n",
      "THEFT BY RECEIVING STOLEN PROP    0.037756\n",
      "POSS DEADLY WEAP BY FELON/FUG     0.033239\n",
      "TERRORISTIC THREATS               0.032416\n",
      "ROBBERY                           0.031734\n",
      "THEFT BY SHOPLIFTING              0.031640\n",
      "dtype: float64\n",
      "\n",
      "Active:\n",
      "OFFENSE ARREST\n",
      "POS CNTRL SUB EXCEPT MARIJUANA    0.086709\n",
      "MANU/DIST/DEL/DISP OR POSS W/I    0.067731\n",
      "BURGLARY                          0.051139\n",
      "ROBBERY                           0.050116\n",
      "POSS DEADLY WEAP BY FELON/FUG     0.044207\n",
      "SEXUAL ASSAULT 1ST DEGREE         0.039945\n",
      "USE DEADLY WEAP TO COMMIT FEL     0.035229\n",
      "THEFT BY UNLWFL TAKING OR DISP    0.032956\n",
      "TERRORISTIC THREATS               0.031706\n",
      "SEXUAL ASSULT OF CHILD 1ST DEG    0.030684\n",
      "dtype: float64\n"
     ]
    }
   ],
   "source": [
    "print('1980s:')\n",
    "print(df1980.value_counts('OFFENSE ARREST', normalize=True).head(10))\n",
    "print()\n",
    "print('1990s:')\n",
    "print(df1990.value_counts('OFFENSE ARREST', normalize=True).head(10))\n",
    "print()\n",
    "print('2000s:')\n",
    "print(df2000.value_counts('OFFENSE ARREST', normalize=True).head(10))\n",
    "print()\n",
    "print('2010s:')\n",
    "print(df2010.value_counts('OFFENSE ARREST', normalize=True).head(10))\n",
    "print()\n",
    "print('Active:')\n",
    "print(dfActive.value_counts('OFFENSE ARREST', normalize=True).head(10))"
   ]
  },
  {
   "cell_type": "markdown",
   "metadata": {},
   "source": [
    "### 13.3 Offense MIN/MAX Sentencing Averages by Decade\n"
   ]
  },
  {
   "cell_type": "code",
   "execution_count": 89,
   "metadata": {},
   "outputs": [
    {
     "name": "stdout",
     "output_type": "stream",
     "text": [
      "1980s:\n",
      "2.0630494850540066\n",
      "4.501883948756594\n",
      "\n",
      "1990s:\n",
      "2.045342422747455\n",
      "4.279499484235547\n",
      "\n",
      "2000s:\n",
      "2.2945361911454674\n",
      "4.1050890138205665\n",
      "\n",
      "2010s:\n",
      "2.7527228246806708\n",
      "4.335277928065677\n",
      "\n",
      "Active:\n",
      "6.679413603045628\n",
      "9.73515540655719\n"
     ]
    }
   ],
   "source": [
    "print('1980s:')\n",
    "print(df1980['OFFENSE MINIMUM YEAR OR TERM'].mean())\n",
    "print(df1980['OFFENSE MAXIMUM YEAR OR TERM'].mean())\n",
    "print()\n",
    "print('1990s:')\n",
    "print(df1990['OFFENSE MINIMUM YEAR OR TERM'].mean())\n",
    "print(df1990['OFFENSE MAXIMUM YEAR OR TERM'].mean())\n",
    "print()\n",
    "print('2000s:')\n",
    "print(df2000['OFFENSE MINIMUM YEAR OR TERM'].mean())\n",
    "print(df2000['OFFENSE MAXIMUM YEAR OR TERM'].mean())\n",
    "print()\n",
    "print('2010s:')\n",
    "print(df2010['OFFENSE MINIMUM YEAR OR TERM'].mean())\n",
    "print(df2010['OFFENSE MAXIMUM YEAR OR TERM'].mean())\n",
    "print()\n",
    "print('Active:')\n",
    "print(dfActive['OFFENSE MINIMUM YEAR OR TERM'].mean())\n",
    "print(dfActive['OFFENSE MAXIMUM YEAR OR TERM'].mean())"
   ]
  },
  {
   "cell_type": "markdown",
   "metadata": {},
   "source": [
    "### 13.4 Offense Racial Averages by Decade"
   ]
  },
  {
   "cell_type": "code",
   "execution_count": 90,
   "metadata": {},
   "outputs": [
    {
     "name": "stdout",
     "output_type": "stream",
     "text": [
      "1980s:\n",
      "RACE DESC\n",
      "WHITE                             0.663987\n",
      "BLACK                             0.249100\n",
      "NATIVE AMERICAN                   0.045382\n",
      "HISPANIC                          0.036925\n",
      "OTHER                             0.004438\n",
      "ASIAN                             0.000084\n",
      "                                  0.000084\n",
      "dtype: float64\n",
      "\n",
      "1990s:\n",
      "RACE DESC\n",
      "WHITE                             0.593353\n",
      "BLACK                             0.259811\n",
      "HISPANIC                          0.095932\n",
      "NATIVE AMERICAN                   0.046419\n",
      "ASIAN                             0.003767\n",
      "OTHER                             0.000718\n",
      "dtype: float64\n",
      "\n",
      "2000s:\n",
      "RACE DESC\n",
      "WHITE                             0.604972\n",
      "BLACK                             0.218142\n",
      "HISPANIC                          0.120169\n",
      "NATIVE AMERICAN                   0.048313\n",
      "ASIAN                             0.006295\n",
      "OTHER                             0.001903\n",
      "                                  0.000117\n",
      "PACIFIC ISLANDER                  0.000088\n",
      "dtype: float64\n",
      "\n",
      "2010s:\n",
      "RACE DESC\n",
      "WHITE                             0.597798\n",
      "BLACK                             0.218979\n",
      "HISPANIC                          0.124344\n",
      "NATIVE AMERICAN                   0.042083\n",
      "OTHER                             0.008092\n",
      "ASIAN                             0.006398\n",
      "                                  0.001529\n",
      "PACIFIC ISLANDER                  0.000753\n",
      "HAWAIIAN ISLANDER                 0.000024\n",
      "dtype: float64\n",
      "\n",
      "Active:\n",
      "RACE DESC\n",
      "WHITE                             0.556907\n",
      "BLACK                             0.251776\n",
      "HISPANIC                          0.131712\n",
      "NATIVE AMERICAN                   0.044264\n",
      "ASIAN                             0.007216\n",
      "OTHER                             0.006875\n",
      "PACIFIC ISLANDER                  0.000682\n",
      "                                  0.000568\n",
      "dtype: float64\n"
     ]
    }
   ],
   "source": [
    "print('1980s:')\n",
    "print(df1980.value_counts('RACE DESC', normalize=True))\n",
    "print()\n",
    "print('1990s:')\n",
    "print(df1990.value_counts('RACE DESC', normalize=True))\n",
    "print()\n",
    "print('2000s:')\n",
    "print(df2000.value_counts('RACE DESC', normalize=True))\n",
    "print()\n",
    "print('2010s:')\n",
    "print(df2010.value_counts('RACE DESC', normalize=True))\n",
    "print()\n",
    "print('Active:')\n",
    "print(dfActive.value_counts('RACE DESC', normalize=True))"
   ]
  },
  {
   "cell_type": "markdown",
   "metadata": {},
   "source": [
    "## 14. Deeper Dive into Terroristic Threats Offense"
   ]
  },
  {
   "cell_type": "markdown",
   "metadata": {},
   "source": [
    "This offense became much more common in the 2000s and 2010s and needed to be examined further"
   ]
  },
  {
   "cell_type": "markdown",
   "metadata": {},
   "source": [
    "### 14.1 Broad look at Terroristic Threats values"
   ]
  },
  {
   "cell_type": "code",
   "execution_count": 91,
   "metadata": {},
   "outputs": [],
   "source": [
    "df_terror = pd.DataFrame(df[df['OFFENSE ARREST'].str.contains(\"TERRORISTIC THREATS\", na=False)])"
   ]
  },
  {
   "cell_type": "code",
   "execution_count": 92,
   "metadata": {},
   "outputs": [
    {
     "data": {
      "text/plain": [
       "3.0     611\n",
       "1.0     577\n",
       "2.0     459\n",
       "0.0     418\n",
       "5.0     398\n",
       "4.0     161\n",
       "10.0      9\n",
       "20.0      5\n",
       "12.0      3\n",
       "30.0      3\n",
       "Name: OFFENSE MAXIMUM YEAR OR TERM, dtype: int64"
      ]
     },
     "execution_count": 92,
     "metadata": {},
     "output_type": "execute_result"
    }
   ],
   "source": [
    "df_terror['OFFENSE MAXIMUM YEAR OR TERM'].value_counts().head(10)"
   ]
  },
  {
   "cell_type": "code",
   "execution_count": 93,
   "metadata": {
    "scrolled": true
   },
   "outputs": [
    {
     "data": {
      "text/plain": [
       "RACE DESC\n",
       "WHITE                             0.547134\n",
       "BLACK                             0.253017\n",
       "HISPANIC                          0.127074\n",
       "NATIVE AMERICAN                   0.055807\n",
       "ASIAN                             0.009427\n",
       "OTHER                             0.006787\n",
       "PACIFIC ISLANDER                  0.000377\n",
       "                                  0.000377\n",
       "dtype: float64"
      ]
     },
     "execution_count": 93,
     "metadata": {},
     "output_type": "execute_result"
    }
   ],
   "source": [
    "df_terror.value_counts('RACE DESC', normalize=True)"
   ]
  },
  {
   "cell_type": "markdown",
   "metadata": {},
   "source": [
    "### 14.2 Counting Offense Numbers and Racial Makeup by Decade"
   ]
  },
  {
   "cell_type": "code",
   "execution_count": 94,
   "metadata": {},
   "outputs": [],
   "source": [
    "#split up on terror for each decade\n",
    "\n",
    "df1980_terror = pd.DataFrame(df1980[df1980['OFFENSE ARREST'].str.contains(\"TERRORISTIC THREATS\", na=False)])\n",
    "df1990_terror = pd.DataFrame(df1990[df1990['OFFENSE ARREST'].str.contains(\"TERRORISTIC THREATS\", na=False)])\n",
    "df2000_terror = pd.DataFrame(df2000[df2000['OFFENSE ARREST'].str.contains(\"TERRORISTIC THREATS\", na=False)])\n",
    "df2010_terror = pd.DataFrame(df2010[df2010['OFFENSE ARREST'].str.contains(\"TERRORISTIC THREATS\", na=False)])\n",
    "dfActive_terror = pd.DataFrame(dfActive[dfActive['OFFENSE ARREST'].str.contains(\"TERRORISTIC THREATS\", na=False)])"
   ]
  },
  {
   "cell_type": "code",
   "execution_count": 95,
   "metadata": {},
   "outputs": [
    {
     "name": "stdout",
     "output_type": "stream",
     "text": [
      "1980s Terror offenses each year:\n",
      "1989    8\n",
      "1980    5\n",
      "1988    5\n",
      "1982    4\n",
      "1981    3\n",
      "1987    2\n",
      "1983    1\n",
      "1986    1\n",
      "Name: SENTENCE BEGIN YEAR, dtype: int64\n",
      "RACE DESC\n",
      "WHITE                             0.724138\n",
      "BLACK                             0.172414\n",
      "HISPANIC                          0.068966\n",
      "NATIVE AMERICAN                   0.034483\n",
      "dtype: float64\n",
      "\n",
      "1990ss Terror offenses each year:\n",
      "1998    51\n",
      "1997    47\n",
      "1996    40\n",
      "1999    39\n",
      "1994    28\n",
      "1995    26\n",
      "1993    26\n",
      "1992    20\n",
      "1990    19\n",
      "1991    11\n",
      "Name: SENTENCE BEGIN YEAR, dtype: int64\n",
      "RACE DESC\n",
      "WHITE                             0.622150\n",
      "BLACK                             0.182410\n",
      "HISPANIC                          0.123779\n",
      "NATIVE AMERICAN                   0.058632\n",
      "ASIAN                             0.013029\n",
      "dtype: float64\n",
      "\n",
      "2000s Terror offenses each year:\n",
      "2009    104\n",
      "2008     98\n",
      "2006     89\n",
      "2005     86\n",
      "2007     85\n",
      "2003     84\n",
      "2004     81\n",
      "2002     73\n",
      "2001     57\n",
      "2000     39\n",
      "Name: SENTENCE BEGIN YEAR, dtype: int64\n",
      "RACE DESC\n",
      "WHITE                             0.530151\n",
      "BLACK                             0.252513\n",
      "HISPANIC                          0.149497\n",
      "NATIVE AMERICAN                   0.061558\n",
      "ASIAN                             0.005025\n",
      "OTHER                             0.001256\n",
      "dtype: float64\n",
      "\n",
      "2010s Terror offenses each year:\n",
      "2019    188\n",
      "2017    163\n",
      "2014    153\n",
      "2016    151\n",
      "2018    139\n",
      "2015    125\n",
      "2012    117\n",
      "2013    116\n",
      "2011    113\n",
      "2010    113\n",
      "Name: SENTENCE BEGIN YEAR, dtype: int64\n",
      "RACE DESC\n",
      "WHITE                             0.532656\n",
      "BLACK                             0.275036\n",
      "HISPANIC                          0.122642\n",
      "NATIVE AMERICAN                   0.046444\n",
      "ASIAN                             0.011611\n",
      "OTHER                             0.010160\n",
      "PACIFIC ISLANDER                  0.000726\n",
      "                                  0.000726\n",
      "dtype: float64\n",
      "\n",
      "Active Terror offenses each year:\n",
      "2019    156\n",
      "2020     99\n",
      "2018     73\n",
      "2017     49\n",
      "2016     40\n",
      "2015     31\n",
      "2014     25\n",
      "2012     11\n",
      "2013     10\n",
      "2009      9\n",
      "Name: SENTENCE BEGIN YEAR, dtype: int64\n",
      "RACE DESC\n",
      "WHITE                             0.534050\n",
      "BLACK                             0.261649\n",
      "HISPANIC                          0.125448\n",
      "NATIVE AMERICAN                   0.057348\n",
      "ASIAN                             0.014337\n",
      "OTHER                             0.007168\n",
      "dtype: float64\n"
     ]
    }
   ],
   "source": [
    "#Example for finding stats on specific things \n",
    "print('1980s Terror offenses each year:')\n",
    "print(df1980_terror['SENTENCE BEGIN YEAR'].value_counts().head(10))\n",
    "print(df1980_terror.value_counts('RACE DESC', normalize=True))\n",
    "print()\n",
    "\n",
    "print('1990ss Terror offenses each year:')\n",
    "print(df1990_terror['SENTENCE BEGIN YEAR'].value_counts().head(10))\n",
    "print(df1990_terror.value_counts('RACE DESC', normalize=True))\n",
    "print()\n",
    "\n",
    "print('2000s Terror offenses each year:')\n",
    "print(df2000_terror['SENTENCE BEGIN YEAR'].value_counts().head(10))\n",
    "print(df2000_terror.value_counts('RACE DESC', normalize=True))\n",
    "print()\n",
    "\n",
    "print(\"2010s Terror offenses each year:\")\n",
    "print(df2010_terror['SENTENCE BEGIN YEAR'].value_counts().head(10))\n",
    "print(df2010_terror.value_counts('RACE DESC', normalize=True))\n",
    "print()\n",
    "\n",
    "print(\"Active Terror offenses each year:\")\n",
    "print(dfActive_terror['SENTENCE BEGIN YEAR'].value_counts().head(10))\n",
    "print(dfActive_terror.value_counts('RACE DESC', normalize=True))"
   ]
  },
  {
   "cell_type": "markdown",
   "metadata": {},
   "source": [
    "### 14.3 1980s Min/Max Sentencing by Race"
   ]
  },
  {
   "cell_type": "code",
   "execution_count": 96,
   "metadata": {},
   "outputs": [
    {
     "name": "stdout",
     "output_type": "stream",
     "text": [
      "1980s Terroristic Threats Min/Max Sentencing by Race\n",
      "Black:\n",
      "1.0\n",
      "2.6\n",
      "White:\n",
      "0.6666666666666666\n",
      "2.5714285714285716\n",
      "Hispanic:\n",
      "0.0\n",
      "1.0\n"
     ]
    }
   ],
   "source": [
    "df1980_terror_black = pd.DataFrame(df1980_terror[df1980_terror['RACE DESC'].str.contains(\"BLACK\", na=False)])\n",
    "df1980_terror_white = pd.DataFrame(df1980_terror[df1980_terror['RACE DESC'].str.contains(\"WHITE\", na=False)])\n",
    "df1980_terror_hisp = pd.DataFrame(df1980_terror[df1980_terror['RACE DESC'].str.contains(\"HISPANIC\", na=False)])\n",
    "print('1980s Terroristic Threats Min/Max Sentencing by Race')\n",
    "print('Black:')\n",
    "print(df1980_terror_black['OFFENSE MINIMUM YEAR OR TERM'].mean())\n",
    "print(df1980_terror_black['OFFENSE MAXIMUM YEAR OR TERM'].mean())\n",
    "print('White:')\n",
    "print(df1980_terror_white['OFFENSE MINIMUM YEAR OR TERM'].mean())\n",
    "print(df1980_terror_white['OFFENSE MAXIMUM YEAR OR TERM'].mean())\n",
    "print('Hispanic:')\n",
    "print(df1980_terror_hisp['OFFENSE MINIMUM YEAR OR TERM'].mean())\n",
    "print(df1980_terror_hisp['OFFENSE MAXIMUM YEAR OR TERM'].mean())"
   ]
  },
  {
   "cell_type": "markdown",
   "metadata": {},
   "source": [
    "### 14.4 1990s Min/Max Sentencing by Race"
   ]
  },
  {
   "cell_type": "code",
   "execution_count": 97,
   "metadata": {},
   "outputs": [
    {
     "name": "stdout",
     "output_type": "stream",
     "text": [
      "1990s Terroristic Threats Min/Max Sentencing by Race\n",
      "Black:\n",
      "1.1785714285714286\n",
      "2.8035714285714284\n",
      "White:\n",
      "1.1151832460732984\n",
      "3.1780104712041886\n",
      "Hispanic:\n",
      "0.8947368421052632\n",
      "2.473684210526316\n"
     ]
    }
   ],
   "source": [
    "df1990_terror_black = pd.DataFrame(df1990_terror[df1990_terror['RACE DESC'].str.contains(\"BLACK\", na=False)])\n",
    "df1990_terror_white = pd.DataFrame(df1990_terror[df1990_terror['RACE DESC'].str.contains(\"WHITE\", na=False)])\n",
    "df1990_terror_hisp = pd.DataFrame(df1990_terror[df1990_terror['RACE DESC'].str.contains(\"HISPANIC\", na=False)])\n",
    "print('1990s Terroristic Threats Min/Max Sentencing by Race')\n",
    "print('Black:')\n",
    "print(df1990_terror_black['OFFENSE MINIMUM YEAR OR TERM'].mean())\n",
    "print(df1990_terror_black['OFFENSE MAXIMUM YEAR OR TERM'].mean())\n",
    "print('White:')\n",
    "print(df1990_terror_white['OFFENSE MINIMUM YEAR OR TERM'].mean())\n",
    "print(df1990_terror_white['OFFENSE MAXIMUM YEAR OR TERM'].mean())\n",
    "print('Hispanic:')\n",
    "print(df1990_terror_hisp['OFFENSE MINIMUM YEAR OR TERM'].mean())\n",
    "print(df1990_terror_hisp['OFFENSE MAXIMUM YEAR OR TERM'].mean())"
   ]
  },
  {
   "cell_type": "markdown",
   "metadata": {},
   "source": [
    "### 14.5 2000s Min/Max Sentencing by Race"
   ]
  },
  {
   "cell_type": "code",
   "execution_count": 98,
   "metadata": {},
   "outputs": [
    {
     "name": "stdout",
     "output_type": "stream",
     "text": [
      "2000s Terroristic Threats Min/Max Sentencing by Race\n",
      "Black:\n",
      "1.064676616915423\n",
      "2.7213930348258706\n",
      "White:\n",
      "0.8483412322274881\n",
      "2.786729857819905\n",
      "Hispanic:\n",
      "0.8403361344537815\n",
      "2.3949579831932772\n"
     ]
    }
   ],
   "source": [
    "df2000_terror_black = pd.DataFrame(df2000_terror[df2000_terror['RACE DESC'].str.contains(\"BLACK\", na=False)])\n",
    "df2000_terror_white = pd.DataFrame(df2000_terror[df2000_terror['RACE DESC'].str.contains(\"WHITE\", na=False)])\n",
    "df2000_terror_hisp = pd.DataFrame(df2000_terror[df2000_terror['RACE DESC'].str.contains(\"HISPANIC\", na=False)])\n",
    "print('2000s Terroristic Threats Min/Max Sentencing by Race')\n",
    "print('Black:')\n",
    "print(df2000_terror_black['OFFENSE MINIMUM YEAR OR TERM'].mean())\n",
    "print(df2000_terror_black['OFFENSE MAXIMUM YEAR OR TERM'].mean())\n",
    "print('White:')\n",
    "print(df2000_terror_white['OFFENSE MINIMUM YEAR OR TERM'].mean())\n",
    "print(df2000_terror_white['OFFENSE MAXIMUM YEAR OR TERM'].mean())\n",
    "print('Hispanic:')\n",
    "print(df2000_terror_hisp['OFFENSE MINIMUM YEAR OR TERM'].mean())\n",
    "print(df2000_terror_hisp['OFFENSE MAXIMUM YEAR OR TERM'].mean())"
   ]
  },
  {
   "cell_type": "markdown",
   "metadata": {},
   "source": [
    "### 14.6 2010s Min/Max Sentencing by Race"
   ]
  },
  {
   "cell_type": "code",
   "execution_count": 99,
   "metadata": {},
   "outputs": [
    {
     "name": "stdout",
     "output_type": "stream",
     "text": [
      "2010s Terroristic Threats Min/Max Sentencing by Race\n",
      "Black:\n",
      "1.20844327176781\n",
      "2.3482849604221636\n",
      "White:\n",
      "0.9809264305177112\n",
      "2.239782016348774\n",
      "Hispanic:\n",
      "0.9053254437869822\n",
      "1.7928994082840237\n"
     ]
    }
   ],
   "source": [
    "df2010_terror_black = pd.DataFrame(df2010_terror[df2010_terror['RACE DESC'].str.contains(\"BLACK\", na=False)])\n",
    "df2010_terror_white = pd.DataFrame(df2010_terror[df2010_terror['RACE DESC'].str.contains(\"WHITE\", na=False)])\n",
    "df2010_terror_hisp = pd.DataFrame(df2010_terror[df2010_terror['RACE DESC'].str.contains(\"HISPANIC\", na=False)])\n",
    "print('2010s Terroristic Threats Min/Max Sentencing by Race')\n",
    "print('Black:')\n",
    "print(df2010_terror_black['OFFENSE MINIMUM YEAR OR TERM'].mean())\n",
    "print(df2010_terror_black['OFFENSE MAXIMUM YEAR OR TERM'].mean())\n",
    "print('White:')\n",
    "print(df2010_terror_white['OFFENSE MINIMUM YEAR OR TERM'].mean())\n",
    "print(df2010_terror_white['OFFENSE MAXIMUM YEAR OR TERM'].mean())\n",
    "print('Hispanic:')\n",
    "print(df2010_terror_hisp['OFFENSE MINIMUM YEAR OR TERM'].mean())\n",
    "print(df2010_terror_hisp['OFFENSE MAXIMUM YEAR OR TERM'].mean())"
   ]
  },
  {
   "cell_type": "markdown",
   "metadata": {},
   "source": [
    "## 15. Deeper Dive into Drug Possession Offense"
   ]
  },
  {
   "cell_type": "markdown",
   "metadata": {},
   "source": [
    "### 15.1 Broad Look"
   ]
  },
  {
   "cell_type": "code",
   "execution_count": 100,
   "metadata": {},
   "outputs": [],
   "source": [
    "df_pos = pd.DataFrame(df[df['OFFENSE ARREST'].str.contains(\"POS CNTRL SUB EXCEPT MARIJUANA\", na=False)])"
   ]
  },
  {
   "cell_type": "code",
   "execution_count": 101,
   "metadata": {},
   "outputs": [
    {
     "data": {
      "text/plain": [
       "1.0     3422\n",
       "2.0     2424\n",
       "0.0     1757\n",
       "3.0     1544\n",
       "5.0     1029\n",
       "4.0      588\n",
       "10.0      43\n",
       "8.0       29\n",
       "6.0       28\n",
       "15.0      28\n",
       "Name: OFFENSE MAXIMUM YEAR OR TERM, dtype: int64"
      ]
     },
     "execution_count": 101,
     "metadata": {},
     "output_type": "execute_result"
    }
   ],
   "source": [
    "df_pos['OFFENSE MAXIMUM YEAR OR TERM'].value_counts().head(10)"
   ]
  },
  {
   "cell_type": "code",
   "execution_count": 102,
   "metadata": {
    "scrolled": true
   },
   "outputs": [
    {
     "data": {
      "text/plain": [
       "RACE DESC\n",
       "WHITE                             0.673415\n",
       "BLACK                             0.181760\n",
       "HISPANIC                          0.101870\n",
       "NATIVE AMERICAN                   0.032558\n",
       "OTHER                             0.005290\n",
       "ASIAN                             0.004104\n",
       "                                  0.000821\n",
       "PACIFIC ISLANDER                  0.000182\n",
       "dtype: float64"
      ]
     },
     "execution_count": 102,
     "metadata": {},
     "output_type": "execute_result"
    }
   ],
   "source": [
    "df_pos.value_counts('RACE DESC', normalize=True)"
   ]
  },
  {
   "cell_type": "markdown",
   "metadata": {},
   "source": [
    "### 15.2 Counting Offense Numbers and Racial Makeup by Decade"
   ]
  },
  {
   "cell_type": "code",
   "execution_count": 103,
   "metadata": {},
   "outputs": [],
   "source": [
    "#split up on pos for each decade\n",
    "\n",
    "df1980_pos = pd.DataFrame(df1980[df1980['OFFENSE ARREST'].str.contains(\"POS CNTRL SUB EXCEPT MARIJUANA\", na=False)])\n",
    "df1990_pos = pd.DataFrame(df1990[df1990['OFFENSE ARREST'].str.contains(\"POS CNTRL SUB EXCEPT MARIJUANA\", na=False)])\n",
    "df2000_pos = pd.DataFrame(df2000[df2000['OFFENSE ARREST'].str.contains(\"POS CNTRL SUB EXCEPT MARIJUANA\", na=False)])\n",
    "df2010_pos = pd.DataFrame(df2010[df2010['OFFENSE ARREST'].str.contains(\"POS CNTRL SUB EXCEPT MARIJUANA\", na=False)])\n",
    "dfActive_pos = pd.DataFrame(dfActive[dfActive['OFFENSE ARREST'].str.contains(\"POS CNTRL SUB EXCEPT MARIJUANA\", na=False)])"
   ]
  },
  {
   "cell_type": "code",
   "execution_count": 104,
   "metadata": {
    "scrolled": false
   },
   "outputs": [
    {
     "name": "stdout",
     "output_type": "stream",
     "text": [
      "1980s pos offenses each year:\n",
      "1989    185\n",
      "1988     63\n",
      "1987     62\n",
      "1986     43\n",
      "1981     33\n",
      "1983     23\n",
      "1980     20\n",
      "1985     17\n",
      "1982     13\n",
      "1984     12\n",
      "Name: SENTENCE BEGIN YEAR, dtype: int64\n",
      "RACE DESC\n",
      "WHITE                             0.552017\n",
      "BLACK                             0.416136\n",
      "HISPANIC                          0.029724\n",
      "OTHER                             0.002123\n",
      "dtype: float64\n",
      "\n",
      "1990ss pos offenses each year:\n",
      "1998    257\n",
      "1997    192\n",
      "1995    177\n",
      "1999    165\n",
      "1996    155\n",
      "1990    110\n",
      "1991     96\n",
      "1994     93\n",
      "1992     89\n",
      "1993     65\n",
      "Name: SENTENCE BEGIN YEAR, dtype: int64\n",
      "RACE DESC\n",
      "WHITE                             0.526090\n",
      "BLACK                             0.369550\n",
      "HISPANIC                          0.085061\n",
      "NATIVE AMERICAN                   0.016440\n",
      "ASIAN                             0.002144\n",
      "OTHER                             0.000715\n",
      "dtype: float64\n",
      "\n",
      "2000s pos offenses each year:\n",
      "2005    514\n",
      "2004    480\n",
      "2006    462\n",
      "2007    430\n",
      "2003    425\n",
      "2002    399\n",
      "2008    284\n",
      "2009    282\n",
      "2001    279\n",
      "2000    248\n",
      "Name: SENTENCE BEGIN YEAR, dtype: int64\n",
      "RACE DESC\n",
      "WHITE                             0.691296\n",
      "BLACK                             0.143834\n",
      "HISPANIC                          0.123061\n",
      "NATIVE AMERICAN                   0.036024\n",
      "ASIAN                             0.004733\n",
      "OTHER                             0.001052\n",
      "dtype: float64\n",
      "\n",
      "2010s pos offenses each year:\n",
      "2019    725\n",
      "2018    603\n",
      "2014    539\n",
      "2017    517\n",
      "2016    499\n",
      "2013    443\n",
      "2015    441\n",
      "2012    357\n",
      "2010    313\n",
      "2011    300\n",
      "Name: SENTENCE BEGIN YEAR, dtype: int64\n",
      "RACE DESC\n",
      "WHITE                             0.711421\n",
      "BLACK                             0.138695\n",
      "HISPANIC                          0.097741\n",
      "NATIVE AMERICAN                   0.036099\n",
      "OTHER                             0.009077\n",
      "ASIAN                             0.004644\n",
      "                                  0.001900\n",
      "PACIFIC ISLANDER                  0.000422\n",
      "dtype: float64\n",
      "\n",
      "Active pos offenses each year:\n",
      "2019    469\n",
      "2020    367\n",
      "2018    264\n",
      "2017    142\n",
      "2016     66\n",
      "2015     56\n",
      "2014     42\n",
      "2013     30\n",
      "2012     17\n",
      "2009     12\n",
      "Name: SENTENCE BEGIN YEAR, dtype: int64\n",
      "RACE DESC\n",
      "WHITE                             0.696592\n",
      "BLACK                             0.140236\n",
      "HISPANIC                          0.112058\n",
      "NATIVE AMERICAN                   0.036697\n",
      "ASIAN                             0.006553\n",
      "OTHER                             0.005898\n",
      "PACIFIC ISLANDER                  0.001311\n",
      "                                  0.000655\n",
      "dtype: float64\n"
     ]
    }
   ],
   "source": [
    "#Example for finding stats on specific things \n",
    "print('1980s pos offenses each year:')\n",
    "print(df1980_pos['SENTENCE BEGIN YEAR'].value_counts().head(10))\n",
    "print(df1980_pos.value_counts('RACE DESC', normalize=True))\n",
    "print()\n",
    "\n",
    "print('1990ss pos offenses each year:')\n",
    "print(df1990_pos['SENTENCE BEGIN YEAR'].value_counts().head(10))\n",
    "print(df1990_pos.value_counts('RACE DESC', normalize=True))\n",
    "print()\n",
    "\n",
    "print('2000s pos offenses each year:')\n",
    "print(df2000_pos['SENTENCE BEGIN YEAR'].value_counts().head(10))\n",
    "print(df2000_pos.value_counts('RACE DESC', normalize=True))\n",
    "print()\n",
    "\n",
    "print(\"2010s pos offenses each year:\")\n",
    "print(df2010_pos['SENTENCE BEGIN YEAR'].value_counts().head(10))\n",
    "print(df2010_pos.value_counts('RACE DESC', normalize=True))\n",
    "print()\n",
    "\n",
    "print(\"Active pos offenses each year:\")\n",
    "print(dfActive_pos['SENTENCE BEGIN YEAR'].value_counts().head(10))\n",
    "print(dfActive_pos.value_counts('RACE DESC', normalize=True))"
   ]
  },
  {
   "cell_type": "markdown",
   "metadata": {},
   "source": [
    "### 15.3 1980s Min/Max Sentencing by Race"
   ]
  },
  {
   "cell_type": "code",
   "execution_count": 105,
   "metadata": {},
   "outputs": [
    {
     "name": "stdout",
     "output_type": "stream",
     "text": [
      "1980s Drug Possession Min/Max Sentencing by Race\n",
      "Black:\n",
      "1.0\n",
      "3.061224489795918\n",
      "White:\n",
      "0.9230769230769231\n",
      "2.753846153846154\n",
      "Hispanic:\n",
      "0.7142857142857143\n",
      "2.9285714285714284\n"
     ]
    }
   ],
   "source": [
    "df1980_pos_black = pd.DataFrame(df1980_pos[df1980_pos['RACE DESC'].str.contains(\"BLACK\", na=False)])\n",
    "df1980_pos_white = pd.DataFrame(df1980_pos[df1980_pos['RACE DESC'].str.contains(\"WHITE\", na=False)])\n",
    "df1980_pos_hisp = pd.DataFrame(df1980_pos[df1980_pos['RACE DESC'].str.contains(\"HISPANIC\", na=False)])\n",
    "print('1980s Drug Possession Min/Max Sentencing by Race')\n",
    "print('Black:')\n",
    "print(df1980_pos_black['OFFENSE MINIMUM YEAR OR TERM'].mean())\n",
    "print(df1980_pos_black['OFFENSE MAXIMUM YEAR OR TERM'].mean())\n",
    "print('White:')\n",
    "print(df1980_pos_white['OFFENSE MINIMUM YEAR OR TERM'].mean())\n",
    "print(df1980_pos_white['OFFENSE MAXIMUM YEAR OR TERM'].mean())\n",
    "print('Hispanic:')\n",
    "print(df1980_pos_hisp['OFFENSE MINIMUM YEAR OR TERM'].mean())\n",
    "print(df1980_pos_hisp['OFFENSE MAXIMUM YEAR OR TERM'].mean())"
   ]
  },
  {
   "cell_type": "markdown",
   "metadata": {},
   "source": [
    "### 15.4 1990s Min/Max Sentencing by Race"
   ]
  },
  {
   "cell_type": "code",
   "execution_count": 106,
   "metadata": {},
   "outputs": [
    {
     "name": "stdout",
     "output_type": "stream",
     "text": [
      "19990s Drug Possession Min/Max Sentencing by Race\n",
      "Black:\n",
      "1.011605415860735\n",
      "2.5435203094777563\n",
      "White:\n",
      "1.0407608695652173\n",
      "2.6467391304347827\n",
      "Hispanic:\n",
      "0.957983193277311\n",
      "2.4873949579831933\n"
     ]
    }
   ],
   "source": [
    "df1990_pos_black = pd.DataFrame(df1990_pos[df1990_pos['RACE DESC'].str.contains(\"BLACK\", na=False)])\n",
    "df1990_pos_white = pd.DataFrame(df1990_pos[df1990_pos['RACE DESC'].str.contains(\"WHITE\", na=False)])\n",
    "df1990_pos_hisp = pd.DataFrame(df1990_pos[df1990_pos['RACE DESC'].str.contains(\"HISPANIC\", na=False)])\n",
    "print('19990s Drug Possession Min/Max Sentencing by Race')\n",
    "print('Black:')\n",
    "print(df1990_pos_black['OFFENSE MINIMUM YEAR OR TERM'].mean())\n",
    "print(df1990_pos_black['OFFENSE MAXIMUM YEAR OR TERM'].mean())\n",
    "print('White:')\n",
    "print(df1990_pos_white['OFFENSE MINIMUM YEAR OR TERM'].mean())\n",
    "print(df1990_pos_white['OFFENSE MAXIMUM YEAR OR TERM'].mean())\n",
    "print('Hispanic:')\n",
    "print(df1990_pos_hisp['OFFENSE MINIMUM YEAR OR TERM'].mean())\n",
    "print(df1990_pos_hisp['OFFENSE MAXIMUM YEAR OR TERM'].mean())"
   ]
  },
  {
   "cell_type": "markdown",
   "metadata": {},
   "source": [
    "### 15.5 2000s Min/Max Sentencing by Race"
   ]
  },
  {
   "cell_type": "code",
   "execution_count": 107,
   "metadata": {},
   "outputs": [
    {
     "name": "stdout",
     "output_type": "stream",
     "text": [
      "2000s Drug Possession Min/Max Sentencing by Race\n",
      "Black:\n",
      "0.9323583180987203\n",
      "2.2815356489945153\n",
      "White:\n",
      "0.796880943324458\n",
      "2.3659186002282238\n",
      "Hispanic:\n",
      "0.9914529914529915\n",
      "2.5641025641025643\n"
     ]
    }
   ],
   "source": [
    "df2000_pos_black = pd.DataFrame(df2000_pos[df2000_pos['RACE DESC'].str.contains(\"BLACK\", na=False)])\n",
    "df2000_pos_white = pd.DataFrame(df2000_pos[df2000_pos['RACE DESC'].str.contains(\"WHITE\", na=False)])\n",
    "df2000_pos_hisp = pd.DataFrame(df2000_pos[df2000_pos['RACE DESC'].str.contains(\"HISPANIC\", na=False)])\n",
    "print('2000s Drug Possession Min/Max Sentencing by Race')\n",
    "print('Black:')\n",
    "print(df2000_pos_black['OFFENSE MINIMUM YEAR OR TERM'].mean())\n",
    "print(df2000_pos_black['OFFENSE MAXIMUM YEAR OR TERM'].mean())\n",
    "print('White:')\n",
    "print(df2000_pos_white['OFFENSE MINIMUM YEAR OR TERM'].mean())\n",
    "print(df2000_pos_white['OFFENSE MAXIMUM YEAR OR TERM'].mean())\n",
    "print('Hispanic:')\n",
    "print(df2000_pos_hisp['OFFENSE MINIMUM YEAR OR TERM'].mean())\n",
    "print(df2000_pos_hisp['OFFENSE MAXIMUM YEAR OR TERM'].mean())"
   ]
  },
  {
   "cell_type": "markdown",
   "metadata": {},
   "source": [
    "### 15.6 2010s Min/Max Sentencing by Race"
   ]
  },
  {
   "cell_type": "code",
   "execution_count": 108,
   "metadata": {},
   "outputs": [
    {
     "name": "stdout",
     "output_type": "stream",
     "text": [
      "2010s Drug Possession Min/Max Sentencing by Race\n",
      "Black:\n",
      "1.1050228310502284\n",
      "1.9406392694063928\n",
      "White:\n",
      "0.7258160237388724\n",
      "1.6456973293768546\n",
      "Hispanic:\n",
      "1.3326133909287257\n",
      "2.4578833693304536\n"
     ]
    }
   ],
   "source": [
    "df2010_pos_black = pd.DataFrame(df2010_pos[df2010_pos['RACE DESC'].str.contains(\"BLACK\", na=False)])\n",
    "df2010_pos_white = pd.DataFrame(df2010_pos[df2010_pos['RACE DESC'].str.contains(\"WHITE\", na=False)])\n",
    "df2010_pos_hisp = pd.DataFrame(df2010_pos[df2010_pos['RACE DESC'].str.contains(\"HISPANIC\", na=False)])\n",
    "print('2010s Drug Possession Min/Max Sentencing by Race')\n",
    "print('Black:')\n",
    "print(df2010_pos_black['OFFENSE MINIMUM YEAR OR TERM'].mean())\n",
    "print(df2010_pos_black['OFFENSE MAXIMUM YEAR OR TERM'].mean())\n",
    "print('White:')\n",
    "print(df2010_pos_white['OFFENSE MINIMUM YEAR OR TERM'].mean())\n",
    "print(df2010_pos_white['OFFENSE MAXIMUM YEAR OR TERM'].mean())\n",
    "print('Hispanic:')\n",
    "print(df2010_pos_hisp['OFFENSE MINIMUM YEAR OR TERM'].mean())\n",
    "print(df2010_pos_hisp['OFFENSE MAXIMUM YEAR OR TERM'].mean())"
   ]
  },
  {
   "cell_type": "markdown",
   "metadata": {},
   "source": [
    "## 16. Deeper Dive into Drug Possession Offense"
   ]
  },
  {
   "cell_type": "markdown",
   "metadata": {},
   "source": [
    "### 16.1 Broad Look"
   ]
  },
  {
   "cell_type": "code",
   "execution_count": 109,
   "metadata": {},
   "outputs": [],
   "source": [
    "df_deal = pd.DataFrame(df[df['OFFENSE ARREST'].str.contains(\"MANU/DIST/DEL/DISP OR POSS W/I\", na=False)])"
   ]
  },
  {
   "cell_type": "code",
   "execution_count": 110,
   "metadata": {},
   "outputs": [
    {
     "data": {
      "text/plain": [
       "3.0     1821\n",
       "5.0     1706\n",
       "2.0     1332\n",
       "4.0     1291\n",
       "1.0     1230\n",
       "6.0      896\n",
       "0.0      527\n",
       "10.0     483\n",
       "8.0      400\n",
       "7.0      254\n",
       "Name: OFFENSE MAXIMUM YEAR OR TERM, dtype: int64"
      ]
     },
     "execution_count": 110,
     "metadata": {},
     "output_type": "execute_result"
    }
   ],
   "source": [
    "df_deal['OFFENSE MAXIMUM YEAR OR TERM'].value_counts().head(10)"
   ]
  },
  {
   "cell_type": "code",
   "execution_count": 111,
   "metadata": {
    "scrolled": true
   },
   "outputs": [
    {
     "data": {
      "text/plain": [
       "RACE DESC\n",
       "WHITE                             0.551618\n",
       "BLACK                             0.235571\n",
       "HISPANIC                          0.172477\n",
       "NATIVE AMERICAN                   0.025545\n",
       "ASIAN                             0.007203\n",
       "OTHER                             0.005474\n",
       "                                  0.001344\n",
       "PACIFIC ISLANDER                  0.000768\n",
       "dtype: float64"
      ]
     },
     "execution_count": 111,
     "metadata": {},
     "output_type": "execute_result"
    }
   ],
   "source": [
    "df_deal.value_counts('RACE DESC', normalize=True)"
   ]
  },
  {
   "cell_type": "markdown",
   "metadata": {},
   "source": [
    "### 16.2 Counting Offense Numbers and Racial Makeup by Decade"
   ]
  },
  {
   "cell_type": "code",
   "execution_count": 112,
   "metadata": {},
   "outputs": [],
   "source": [
    "#split up on deal for each decade\n",
    "\n",
    "df1980_deal = pd.DataFrame(df1980[df1980['OFFENSE ARREST'].str.contains(\"MANU/DIST/DEL/DISP OR POSS W/I\", na=False)])\n",
    "df1990_deal = pd.DataFrame(df1990[df1990['OFFENSE ARREST'].str.contains(\"MANU/DIST/DEL/DISP OR POSS W/I\", na=False)])\n",
    "df2000_deal = pd.DataFrame(df2000[df2000['OFFENSE ARREST'].str.contains(\"MANU/DIST/DEL/DISP OR POSS W/I\", na=False)])\n",
    "df2010_deal = pd.DataFrame(df2010[df2010['OFFENSE ARREST'].str.contains(\"MANU/DIST/DEL/DISP OR POSS W/I\", na=False)])\n",
    "dfActive_deal = pd.DataFrame(dfActive[dfActive['OFFENSE ARREST'].str.contains(\"MANU/DIST/DEL/DISP OR POSS W/I\", na=False)])"
   ]
  },
  {
   "cell_type": "code",
   "execution_count": 113,
   "metadata": {
    "scrolled": false
   },
   "outputs": [
    {
     "name": "stdout",
     "output_type": "stream",
     "text": [
      "1980s deal offenses each year:\n",
      "1989    215\n",
      "1987     96\n",
      "1988     83\n",
      "1986     53\n",
      "1983     36\n",
      "1982     33\n",
      "1981     26\n",
      "1985     21\n",
      "1984     18\n",
      "1980     16\n",
      "Name: SENTENCE BEGIN YEAR, dtype: int64\n",
      "RACE DESC\n",
      "WHITE                             0.676717\n",
      "BLACK                             0.242881\n",
      "HISPANIC                          0.050251\n",
      "NATIVE AMERICAN                   0.018425\n",
      "OTHER                             0.011725\n",
      "dtype: float64\n",
      "\n",
      "1990ss deal offenses each year:\n",
      "1998    329\n",
      "1999    288\n",
      "1993    284\n",
      "1996    279\n",
      "1994    277\n",
      "1992    264\n",
      "1990    262\n",
      "1991    257\n",
      "1997    253\n",
      "1995    240\n",
      "Name: SENTENCE BEGIN YEAR, dtype: int64\n",
      "RACE DESC\n",
      "WHITE                             0.503842\n",
      "BLACK                             0.291987\n",
      "HISPANIC                          0.181851\n",
      "NATIVE AMERICAN                   0.018661\n",
      "ASIAN                             0.002561\n",
      "OTHER                             0.001098\n",
      "dtype: float64\n",
      "\n",
      "2000s deal offenses each year:\n",
      "2005    388\n",
      "2006    330\n",
      "2002    320\n",
      "2009    307\n",
      "2003    300\n",
      "2001    300\n",
      "2004    298\n",
      "2000    295\n",
      "2008    290\n",
      "2007    288\n",
      "Name: SENTENCE BEGIN YEAR, dtype: int64\n",
      "RACE DESC\n",
      "WHITE                             0.533376\n",
      "HISPANIC                          0.213415\n",
      "BLACK                             0.209884\n",
      "NATIVE AMERICAN                   0.030809\n",
      "ASIAN                             0.007702\n",
      "OTHER                             0.004493\n",
      "PACIFIC ISLANDER                  0.000321\n",
      "dtype: float64\n",
      "\n",
      "2010s deal offenses each year:\n",
      "2012    459\n",
      "2019    406\n",
      "2018    397\n",
      "2013    395\n",
      "2011    386\n",
      "2017    376\n",
      "2010    333\n",
      "2014    318\n",
      "2016    302\n",
      "2015    272\n",
      "Name: SENTENCE BEGIN YEAR, dtype: int64\n",
      "RACE DESC\n",
      "WHITE                             0.574643\n",
      "BLACK                             0.218990\n",
      "HISPANIC                          0.154501\n",
      "NATIVE AMERICAN                   0.026345\n",
      "ASIAN                             0.011526\n",
      "OTHER                             0.008233\n",
      "                                  0.003842\n",
      "PACIFIC ISLANDER                  0.001921\n",
      "dtype: float64\n",
      "\n",
      "Active deal offenses each year:\n",
      "2019    326\n",
      "2020    246\n",
      "2018    221\n",
      "2017    115\n",
      "2016     70\n",
      "2015     52\n",
      "2014     40\n",
      "2012     28\n",
      "2013     21\n",
      "2006     10\n",
      "Name: SENTENCE BEGIN YEAR, dtype: int64\n",
      "RACE DESC\n",
      "WHITE                             0.581376\n",
      "BLACK                             0.200503\n",
      "HISPANIC                          0.160235\n",
      "NATIVE AMERICAN                   0.035235\n",
      "ASIAN                             0.012584\n",
      "OTHER                             0.008389\n",
      "PACIFIC ISLANDER                  0.001678\n",
      "dtype: float64\n"
     ]
    }
   ],
   "source": [
    "#Example for finding stats on specific things \n",
    "print('1980s deal offenses each year:')\n",
    "print(df1980_deal['SENTENCE BEGIN YEAR'].value_counts().head(10))\n",
    "print(df1980_deal.value_counts('RACE DESC', normalize=True))\n",
    "print()\n",
    "\n",
    "print('1990ss deal offenses each year:')\n",
    "print(df1990_deal['SENTENCE BEGIN YEAR'].value_counts().head(10))\n",
    "print(df1990_deal.value_counts('RACE DESC', normalize=True))\n",
    "print()\n",
    "\n",
    "print('2000s deal offenses each year:')\n",
    "print(df2000_deal['SENTENCE BEGIN YEAR'].value_counts().head(10))\n",
    "print(df2000_deal.value_counts('RACE DESC', normalize=True))\n",
    "print()\n",
    "\n",
    "print(\"2010s deal offenses each year:\")\n",
    "print(df2010_deal['SENTENCE BEGIN YEAR'].value_counts().head(10))\n",
    "print(df2010_deal.value_counts('RACE DESC', normalize=True))\n",
    "print()\n",
    "\n",
    "print(\"Active deal offenses each year:\")\n",
    "print(dfActive_deal['SENTENCE BEGIN YEAR'].value_counts().head(10))\n",
    "print(dfActive_deal.value_counts('RACE DESC', normalize=True))"
   ]
  },
  {
   "cell_type": "markdown",
   "metadata": {},
   "source": [
    "### 16.3 1980s Min/Max Sentencing by Race"
   ]
  },
  {
   "cell_type": "code",
   "execution_count": 114,
   "metadata": {},
   "outputs": [
    {
     "name": "stdout",
     "output_type": "stream",
     "text": [
      "2000s Drug Dealing Min/Max Sentencing by Race\n",
      "Black:\n",
      "2.9034482758620688\n",
      "5.731034482758621\n",
      "White:\n",
      "1.5891089108910892\n",
      "3.5816831683168315\n",
      "Hispanic:\n",
      "1.9333333333333333\n",
      "3.7333333333333334\n"
     ]
    }
   ],
   "source": [
    "df1980_deal_black = pd.DataFrame(df1980_deal[df1980_deal['RACE DESC'].str.contains(\"BLACK\", na=False)])\n",
    "df1980_deal_white = pd.DataFrame(df1980_deal[df1980_deal['RACE DESC'].str.contains(\"WHITE\", na=False)])\n",
    "df1980_deal_hisp = pd.DataFrame(df1980_deal[df1980_deal['RACE DESC'].str.contains(\"HISPANIC\", na=False)])\n",
    "print('2000s Drug Dealing Min/Max Sentencing by Race')\n",
    "print('Black:')\n",
    "print(df1980_deal_black['OFFENSE MINIMUM YEAR OR TERM'].mean())\n",
    "print(df1980_deal_black['OFFENSE MAXIMUM YEAR OR TERM'].mean())\n",
    "print('White:')\n",
    "print(df1980_deal_white['OFFENSE MINIMUM YEAR OR TERM'].mean())\n",
    "print(df1980_deal_white['OFFENSE MAXIMUM YEAR OR TERM'].mean())\n",
    "print('Hispanic:')\n",
    "print(df1980_deal_hisp['OFFENSE MINIMUM YEAR OR TERM'].mean())\n",
    "print(df1980_deal_hisp['OFFENSE MAXIMUM YEAR OR TERM'].mean())"
   ]
  },
  {
   "cell_type": "markdown",
   "metadata": {},
   "source": [
    "### 15.4 1990s Min/Max Sentencing by Race"
   ]
  },
  {
   "cell_type": "code",
   "execution_count": 115,
   "metadata": {},
   "outputs": [
    {
     "name": "stdout",
     "output_type": "stream",
     "text": [
      "1990s Drug Dealing Min/Max Sentencing by Race\n",
      "Black:\n",
      "2.6040100250626566\n",
      "4.9335839598997495\n",
      "White:\n",
      "1.8249818445896877\n",
      "3.9034132171387075\n",
      "Hispanic:\n",
      "2.3843058350100605\n",
      "4.5392354124748495\n"
     ]
    }
   ],
   "source": [
    "df1990_deal_black = pd.DataFrame(df1990_deal[df1990_deal['RACE DESC'].str.contains(\"BLACK\", na=False)])\n",
    "df1990_deal_white = pd.DataFrame(df1990_deal[df1990_deal['RACE DESC'].str.contains(\"WHITE\", na=False)])\n",
    "df1990_deal_hisp = pd.DataFrame(df1990_deal[df1990_deal['RACE DESC'].str.contains(\"HISPANIC\", na=False)])\n",
    "print('1990s Drug Dealing Min/Max Sentencing by Race')\n",
    "print('Black:')\n",
    "print(df1990_deal_black['OFFENSE MINIMUM YEAR OR TERM'].mean())\n",
    "print(df1990_deal_black['OFFENSE MAXIMUM YEAR OR TERM'].mean())\n",
    "print('White:')\n",
    "print(df1990_deal_white['OFFENSE MINIMUM YEAR OR TERM'].mean())\n",
    "print(df1990_deal_white['OFFENSE MAXIMUM YEAR OR TERM'].mean())\n",
    "print('Hispanic:')\n",
    "print(df1990_deal_hisp['OFFENSE MINIMUM YEAR OR TERM'].mean())\n",
    "print(df1990_deal_hisp['OFFENSE MAXIMUM YEAR OR TERM'].mean())"
   ]
  },
  {
   "cell_type": "markdown",
   "metadata": {},
   "source": [
    "### 15.5 2000s Min/Max Sentencing by Race"
   ]
  },
  {
   "cell_type": "code",
   "execution_count": 116,
   "metadata": {},
   "outputs": [
    {
     "name": "stdout",
     "output_type": "stream",
     "text": [
      "1980s Drug Dealing Min/Max Sentencing by Race\n",
      "Black:\n",
      "2.492354740061162\n",
      "4.2859327217125385\n",
      "White:\n",
      "2.3164861612515044\n",
      "4.388086642599278\n",
      "Hispanic:\n",
      "2.7082706766917295\n",
      "4.658646616541353\n"
     ]
    }
   ],
   "source": [
    "df2000_deal_black = pd.DataFrame(df2000_deal[df2000_deal['RACE DESC'].str.contains(\"BLACK\", na=False)])\n",
    "df2000_deal_white = pd.DataFrame(df2000_deal[df2000_deal['RACE DESC'].str.contains(\"WHITE\", na=False)])\n",
    "df2000_deal_hisp = pd.DataFrame(df2000_deal[df2000_deal['RACE DESC'].str.contains(\"HISPANIC\", na=False)])\n",
    "print('1980s Drug Dealing Min/Max Sentencing by Race')\n",
    "print('Black:')\n",
    "print(df2000_deal_black['OFFENSE MINIMUM YEAR OR TERM'].mean())\n",
    "print(df2000_deal_black['OFFENSE MAXIMUM YEAR OR TERM'].mean())\n",
    "print('White:')\n",
    "print(df2000_deal_white['OFFENSE MINIMUM YEAR OR TERM'].mean())\n",
    "print(df2000_deal_white['OFFENSE MAXIMUM YEAR OR TERM'].mean())\n",
    "print('Hispanic:')\n",
    "print(df2000_deal_hisp['OFFENSE MINIMUM YEAR OR TERM'].mean())\n",
    "print(df2000_deal_hisp['OFFENSE MAXIMUM YEAR OR TERM'].mean())"
   ]
  },
  {
   "cell_type": "markdown",
   "metadata": {},
   "source": [
    "### 15.6 2010s Min/Max Sentencing by Race"
   ]
  },
  {
   "cell_type": "code",
   "execution_count": 117,
   "metadata": {},
   "outputs": [
    {
     "name": "stdout",
     "output_type": "stream",
     "text": [
      "2010s Drug Dealing Min/Max Sentencing by Race\n",
      "Black:\n",
      "3.0476190476190474\n",
      "4.849624060150376\n",
      "White:\n",
      "2.4379178605539638\n",
      "4.291308500477555\n",
      "Hispanic:\n",
      "2.738898756660746\n",
      "4.650088809946714\n"
     ]
    }
   ],
   "source": [
    "df2010_deal_black = pd.DataFrame(df2010_deal[df2010_deal['RACE DESC'].str.contains(\"BLACK\", na=False)])\n",
    "df2010_deal_white = pd.DataFrame(df2010_deal[df2010_deal['RACE DESC'].str.contains(\"WHITE\", na=False)])\n",
    "df2010_deal_hisp = pd.DataFrame(df2010_deal[df2010_deal['RACE DESC'].str.contains(\"HISPANIC\", na=False)])\n",
    "print('2010s Drug Dealing Min/Max Sentencing by Race')\n",
    "print('Black:')\n",
    "print(df2010_deal_black['OFFENSE MINIMUM YEAR OR TERM'].mean())\n",
    "print(df2010_deal_black['OFFENSE MAXIMUM YEAR OR TERM'].mean())\n",
    "print('White:')\n",
    "print(df2010_deal_white['OFFENSE MINIMUM YEAR OR TERM'].mean())\n",
    "print(df2010_deal_white['OFFENSE MAXIMUM YEAR OR TERM'].mean())\n",
    "print('Hispanic:')\n",
    "print(df2010_deal_hisp['OFFENSE MINIMUM YEAR OR TERM'].mean())\n",
    "print(df2010_deal_hisp['OFFENSE MAXIMUM YEAR OR TERM'].mean())"
   ]
  },
  {
   "cell_type": "code",
   "execution_count": null,
   "metadata": {},
   "outputs": [],
   "source": []
  }
 ],
 "metadata": {
  "kernelspec": {
   "display_name": "Python 3",
   "language": "python",
   "name": "python3"
  },
  "language_info": {
   "codemirror_mode": {
    "name": "ipython",
    "version": 3
   },
   "file_extension": ".py",
   "mimetype": "text/x-python",
   "name": "python",
   "nbconvert_exporter": "python",
   "pygments_lexer": "ipython3",
   "version": "3.8.5"
  }
 },
 "nbformat": 4,
 "nbformat_minor": 4
}
